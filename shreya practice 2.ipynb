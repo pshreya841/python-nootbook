{
 "cells": [
  {
   "cell_type": "markdown",
   "id": "a6ca441b",
   "metadata": {},
   "source": [
    "DICTIONARY IN DATA STRUCTURES"
   ]
  },
  {
   "cell_type": "code",
   "execution_count": 32,
   "id": "07a84ab2",
   "metadata": {},
   "outputs": [],
   "source": [
    "d1={'id':1,'name':'john','age':18}"
   ]
  },
  {
   "cell_type": "code",
   "execution_count": 33,
   "id": "8734bf1f",
   "metadata": {},
   "outputs": [
    {
     "data": {
      "text/plain": [
       "{'id': 1, 'name': 'john', 'age': 18}"
      ]
     },
     "execution_count": 33,
     "metadata": {},
     "output_type": "execute_result"
    }
   ],
   "source": [
    "d1"
   ]
  },
  {
   "cell_type": "code",
   "execution_count": 34,
   "id": "8d1d8241",
   "metadata": {},
   "outputs": [
    {
     "data": {
      "text/plain": [
       "dict_keys(['id', 'name', 'age'])"
      ]
     },
     "execution_count": 34,
     "metadata": {},
     "output_type": "execute_result"
    }
   ],
   "source": [
    "d1.keys()"
   ]
  },
  {
   "cell_type": "code",
   "execution_count": 35,
   "id": "a9577367",
   "metadata": {},
   "outputs": [
    {
     "data": {
      "text/plain": [
       "dict_values([1, 'john', 18])"
      ]
     },
     "execution_count": 35,
     "metadata": {},
     "output_type": "execute_result"
    }
   ],
   "source": [
    "d1.values()"
   ]
  },
  {
   "cell_type": "code",
   "execution_count": 36,
   "id": "303c9e69",
   "metadata": {},
   "outputs": [
    {
     "data": {
      "text/plain": [
       "dict_items([('id', 1), ('name', 'john'), ('age', 18)])"
      ]
     },
     "execution_count": 36,
     "metadata": {},
     "output_type": "execute_result"
    }
   ],
   "source": [
    "d1.items()"
   ]
  },
  {
   "cell_type": "code",
   "execution_count": 37,
   "id": "cd95a5e5",
   "metadata": {},
   "outputs": [
    {
     "data": {
      "text/plain": [
       "1"
      ]
     },
     "execution_count": 37,
     "metadata": {},
     "output_type": "execute_result"
    }
   ],
   "source": [
    "d1['id']"
   ]
  },
  {
   "cell_type": "code",
   "execution_count": 38,
   "id": "f98ea3b2",
   "metadata": {},
   "outputs": [
    {
     "data": {
      "text/plain": [
       "'john'"
      ]
     },
     "execution_count": 38,
     "metadata": {},
     "output_type": "execute_result"
    }
   ],
   "source": [
    "d1['name']"
   ]
  },
  {
   "cell_type": "code",
   "execution_count": 39,
   "id": "04c87bf2",
   "metadata": {},
   "outputs": [
    {
     "data": {
      "text/plain": [
       "18"
      ]
     },
     "execution_count": 39,
     "metadata": {},
     "output_type": "execute_result"
    }
   ],
   "source": [
    "d1['age']"
   ]
  },
  {
   "cell_type": "code",
   "execution_count": 40,
   "id": "3cca3bfd",
   "metadata": {},
   "outputs": [],
   "source": [
    "d1['age']=37"
   ]
  },
  {
   "cell_type": "code",
   "execution_count": 41,
   "id": "26f5f196",
   "metadata": {},
   "outputs": [
    {
     "data": {
      "text/plain": [
       "{'id': 1, 'name': 'john', 'age': 37}"
      ]
     },
     "execution_count": 41,
     "metadata": {},
     "output_type": "execute_result"
    }
   ],
   "source": [
    "d1"
   ]
  },
  {
   "cell_type": "code",
   "execution_count": 42,
   "id": "1f3bbc38",
   "metadata": {},
   "outputs": [
    {
     "name": "stdout",
     "output_type": "stream",
     "text": [
      "name shreya\n"
     ]
    }
   ],
   "source": [
    "print(\"name shreya\")"
   ]
  },
  {
   "cell_type": "code",
   "execution_count": 43,
   "id": "a2d2a96d",
   "metadata": {},
   "outputs": [
    {
     "name": "stdout",
     "output_type": "stream",
     "text": [
      "shreya patel\n"
     ]
    }
   ],
   "source": [
    "print('shreya patel')"
   ]
  },
  {
   "cell_type": "code",
   "execution_count": 44,
   "id": "280acc5f",
   "metadata": {},
   "outputs": [],
   "source": [
    "d1={'mobile':'apple'}"
   ]
  },
  {
   "cell_type": "code",
   "execution_count": 45,
   "id": "ea9ac095",
   "metadata": {},
   "outputs": [
    {
     "data": {
      "text/plain": [
       "{'mobile': 'apple'}"
      ]
     },
     "execution_count": 45,
     "metadata": {},
     "output_type": "execute_result"
    }
   ],
   "source": [
    "d1"
   ]
  },
  {
   "cell_type": "markdown",
   "id": "293cf2ca",
   "metadata": {},
   "source": [
    "loop"
   ]
  },
  {
   "cell_type": "code",
   "execution_count": 46,
   "id": "1b2010c0",
   "metadata": {},
   "outputs": [
    {
     "name": "stdout",
     "output_type": "stream",
     "text": [
      "0\n",
      "1\n",
      "2\n",
      "3\n",
      "4\n"
     ]
    }
   ],
   "source": [
    "i=0\n",
    "while(i<5):\n",
    "    print(i)\n",
    "    i=i+1"
   ]
  },
  {
   "cell_type": "code",
   "execution_count": 47,
   "id": "ffe66e08",
   "metadata": {},
   "outputs": [
    {
     "name": "stdout",
     "output_type": "stream",
     "text": [
      "3\n",
      "5\n",
      "7\n",
      "9\n",
      "11\n",
      "13\n",
      "15\n",
      "17\n",
      "19\n"
     ]
    }
   ],
   "source": [
    "i=3\n",
    "while(i<20):\n",
    "    print(i)\n",
    "    i=i+2"
   ]
  },
  {
   "cell_type": "code",
   "execution_count": 48,
   "id": "25a4fd0a",
   "metadata": {},
   "outputs": [
    {
     "name": "stdout",
     "output_type": "stream",
     "text": [
      "i= 1\n",
      "i= 4\n",
      "i= 7\n",
      "i= 10\n",
      "i= 13\n",
      "i= 16\n",
      "i= 19\n",
      "i= 22\n",
      "i= 25\n",
      "i= 28\n"
     ]
    }
   ],
   "source": [
    "i=1\n",
    "while(i<30):\n",
    "    print('i=',i)\n",
    "    i=i+3"
   ]
  },
  {
   "cell_type": "code",
   "execution_count": 49,
   "id": "477de52c",
   "metadata": {},
   "outputs": [
    {
     "name": "stdout",
     "output_type": "stream",
     "text": [
      "helo python\n"
     ]
    }
   ],
   "source": [
    "print(\"helo python\")"
   ]
  },
  {
   "cell_type": "code",
   "execution_count": 50,
   "id": "a7ad09e6",
   "metadata": {},
   "outputs": [
    {
     "name": "stdout",
     "output_type": "stream",
     "text": [
      "hello python\n"
     ]
    }
   ],
   "source": [
    "print('hello python')"
   ]
  },
  {
   "cell_type": "code",
   "execution_count": 51,
   "id": "f8045e69",
   "metadata": {},
   "outputs": [
    {
     "data": {
      "text/plain": [
       "'learning python basic comands of using loops \\nthey are for loop and while lopp'"
      ]
     },
     "execution_count": 51,
     "metadata": {},
     "output_type": "execute_result"
    }
   ],
   "source": [
    "'''learning python basic comands of using loops \n",
    "they are for loop and while lopp'''"
   ]
  },
  {
   "cell_type": "code",
   "execution_count": 52,
   "id": "1e09a83e",
   "metadata": {},
   "outputs": [
    {
     "name": "stdout",
     "output_type": "stream",
     "text": [
      "1\n",
      "2\n",
      "3\n"
     ]
    }
   ],
   "source": [
    "for index in [1,2,3]:\n",
    "    print(index)"
   ]
  },
  {
   "cell_type": "code",
   "execution_count": 53,
   "id": "916204ae",
   "metadata": {},
   "outputs": [
    {
     "name": "stdout",
     "output_type": "stream",
     "text": [
      "10\n",
      "20\n",
      "30\n",
      "30\n",
      "40\n",
      "50\n"
     ]
    }
   ],
   "source": [
    "for index in [10,20,30,30,40,50]:\n",
    "    print(index)"
   ]
  },
  {
   "cell_type": "code",
   "execution_count": 54,
   "id": "9f6b0f39",
   "metadata": {},
   "outputs": [
    {
     "name": "stdout",
     "output_type": "stream",
     "text": [
      "apple\n",
      "mango\n",
      "banana\n",
      "orange\n"
     ]
    }
   ],
   "source": [
    "for p in ['apple','mango','banana','orange']:\n",
    "    print(p)"
   ]
  },
  {
   "cell_type": "code",
   "execution_count": 55,
   "id": "802ae87d",
   "metadata": {},
   "outputs": [
    {
     "name": "stdout",
     "output_type": "stream",
     "text": [
      "1\n",
      "2\n",
      "3\n",
      "4\n"
     ]
    }
   ],
   "source": [
    "for a in[1,2,3,4]:\n",
    "    print(a)"
   ]
  },
  {
   "cell_type": "code",
   "execution_count": 56,
   "id": "badbd210",
   "metadata": {},
   "outputs": [
    {
     "name": "stdout",
     "output_type": "stream",
     "text": [
      "18\n",
      "18\n",
      "18\n",
      "18\n",
      "18\n",
      "18\n",
      "18\n",
      "18\n",
      "18\n"
     ]
    }
   ],
   "source": [
    "i=1\n",
    "while(i<10):\n",
    "    print(2*9)\n",
    "    i=i+1"
   ]
  },
  {
   "cell_type": "code",
   "execution_count": 57,
   "id": "dc3b9224",
   "metadata": {},
   "outputs": [
    {
     "name": "stdout",
     "output_type": "stream",
     "text": [
      "2* 1 = 2\n",
      "2* 2 = 4\n",
      "2* 3 = 6\n",
      "2* 4 = 8\n",
      "2* 5 = 10\n",
      "2* 6 = 12\n",
      "2* 7 = 14\n",
      "2* 8 = 16\n",
      "2* 9 = 18\n"
     ]
    }
   ],
   "source": [
    "i=1\n",
    "while(i<10):\n",
    "    print('2*',i,\"=\",2*i)\n",
    "    i=i+1"
   ]
  },
  {
   "cell_type": "code",
   "execution_count": 58,
   "id": "ec939512",
   "metadata": {},
   "outputs": [
    {
     "name": "stdout",
     "output_type": "stream",
     "text": [
      "52 * 1 = 52\n",
      "52 * 2 = 104\n",
      "52 * 3 = 156\n",
      "52 * 4 = 208\n",
      "52 * 5 = 260\n",
      "52 * 6 = 312\n",
      "52 * 7 = 364\n",
      "52 * 8 = 416\n",
      "52 * 9 = 468\n",
      "52 * 10 = 520\n"
     ]
    }
   ],
   "source": [
    "i=1\n",
    "j=int(input(\"enter any number for table generation\"))\n",
    "while(i<=10):\n",
    "    print(j,\"*\",i,\"=\",j*i)\n",
    "    i=i+1"
   ]
  },
  {
   "cell_type": "code",
   "execution_count": 59,
   "id": "0059c845",
   "metadata": {},
   "outputs": [
    {
     "name": "stdout",
     "output_type": "stream",
     "text": [
      "0\n",
      "1\n",
      "2\n",
      "3\n",
      "4\n",
      "5\n",
      "6\n",
      "7\n",
      "8\n",
      "9\n"
     ]
    }
   ],
   "source": [
    "for i in range (10):\n",
    "    print(i)"
   ]
  },
  {
   "cell_type": "code",
   "execution_count": 60,
   "id": "5f03eb8b",
   "metadata": {},
   "outputs": [
    {
     "data": {
      "text/plain": [
       "[2, 3, 4, 5, 6, 7, 8, 9]"
      ]
     },
     "execution_count": 60,
     "metadata": {},
     "output_type": "execute_result"
    }
   ],
   "source": [
    "list(range(2,10))"
   ]
  },
  {
   "cell_type": "code",
   "execution_count": 61,
   "id": "0deb9a53",
   "metadata": {},
   "outputs": [
    {
     "name": "stdout",
     "output_type": "stream",
     "text": [
      "2\n",
      "3\n",
      "4\n",
      "5\n",
      "6\n",
      "7\n",
      "8\n",
      "9\n",
      "10\n",
      "11\n",
      "12\n",
      "13\n",
      "14\n",
      "15\n",
      "16\n",
      "17\n",
      "18\n",
      "19\n"
     ]
    }
   ],
   "source": [
    "for shreya in range(2,20):\n",
    "    print(shreya)"
   ]
  },
  {
   "cell_type": "code",
   "execution_count": 62,
   "id": "46c29558",
   "metadata": {},
   "outputs": [
    {
     "name": "stdout",
     "output_type": "stream",
     "text": [
      "good\n"
     ]
    }
   ],
   "source": [
    "marks=85\n",
    "if(marks>50):\n",
    "    print('good')\n",
    "else:\n",
    "    print('average')"
   ]
  },
  {
   "cell_type": "code",
   "execution_count": 64,
   "id": "0c12b05d",
   "metadata": {},
   "outputs": [
    {
     "name": "stdout",
     "output_type": "stream",
     "text": [
      "below average\n"
     ]
    }
   ],
   "source": [
    "marks=int(input(\"enter any marks\"))\n",
    "if(marks>90):\n",
    "    print(\"excellent\")\n",
    "elif(marks>80 and marks<=90):\n",
    "    print(\"very good\")\n",
    "elif (marks>70 and marks<=80):\n",
    "    print(\"good\")\n",
    "elif(marks>60 and marks<=70):\n",
    "    print(\"average\")\n",
    "else:\n",
    "     print(\"below average\")\n",
    "    "
   ]
  },
  {
   "cell_type": "markdown",
   "id": "dd53a735",
   "metadata": {},
   "source": [
    "list comprehension"
   ]
  },
  {
   "cell_type": "code",
   "execution_count": 65,
   "id": "3ef710ef",
   "metadata": {},
   "outputs": [],
   "source": [
    "a=[i for i in[1,2,3]]"
   ]
  },
  {
   "cell_type": "code",
   "execution_count": 66,
   "id": "d5640d4f",
   "metadata": {},
   "outputs": [
    {
     "data": {
      "text/plain": [
       "[1, 2, 3]"
      ]
     },
     "execution_count": 66,
     "metadata": {},
     "output_type": "execute_result"
    }
   ],
   "source": [
    "a"
   ]
  },
  {
   "cell_type": "code",
   "execution_count": 67,
   "id": "7491a00c",
   "metadata": {},
   "outputs": [],
   "source": [
    "b=[p for p in[10,20,30]]"
   ]
  },
  {
   "cell_type": "code",
   "execution_count": 68,
   "id": "86448d78",
   "metadata": {},
   "outputs": [
    {
     "data": {
      "text/plain": [
       "[10, 20, 30]"
      ]
     },
     "execution_count": 68,
     "metadata": {},
     "output_type": "execute_result"
    }
   ],
   "source": [
    "b"
   ]
  },
  {
   "cell_type": "code",
   "execution_count": 69,
   "id": "d18dee6d",
   "metadata": {},
   "outputs": [],
   "source": [
    "k=[i for i in [2,3,4,5,6]if i%2==0]"
   ]
  },
  {
   "cell_type": "code",
   "execution_count": 70,
   "id": "1e3490be",
   "metadata": {},
   "outputs": [
    {
     "data": {
      "text/plain": [
       "[2, 4, 6]"
      ]
     },
     "execution_count": 70,
     "metadata": {},
     "output_type": "execute_result"
    }
   ],
   "source": [
    "k"
   ]
  },
  {
   "cell_type": "code",
   "execution_count": 71,
   "id": "c9716bef",
   "metadata": {},
   "outputs": [
    {
     "data": {
      "text/plain": [
       "[2, 4, 6, 8, 10, 12, 14, 16, 18]"
      ]
     },
     "execution_count": 71,
     "metadata": {},
     "output_type": "execute_result"
    }
   ],
   "source": [
    "b=[k for k in range (1,20)if k%2==0]\n",
    "b"
   ]
  },
  {
   "cell_type": "markdown",
   "id": "b91dd482",
   "metadata": {},
   "source": [
    "# string function"
   ]
  },
  {
   "cell_type": "code",
   "execution_count": null,
   "id": "95380dbf",
   "metadata": {},
   "outputs": [],
   "source": [
    "word1=\"python\""
   ]
  },
  {
   "cell_type": "code",
   "execution_count": null,
   "id": "0ec40d74",
   "metadata": {},
   "outputs": [
    {
     "data": {
      "text/plain": [
       "'python'"
      ]
     },
     "execution_count": 30,
     "metadata": {},
     "output_type": "execute_result"
    }
   ],
   "source": [
    "word1"
   ]
  },
  {
   "cell_type": "code",
   "execution_count": null,
   "id": "b2d19f33",
   "metadata": {},
   "outputs": [
    {
     "data": {
      "text/plain": [
       "'PYTHON'"
      ]
     },
     "execution_count": 31,
     "metadata": {},
     "output_type": "execute_result"
    }
   ],
   "source": [
    "word1.upper()"
   ]
  },
  {
   "cell_type": "code",
   "execution_count": 73,
   "id": "55c9bbf5",
   "metadata": {},
   "outputs": [],
   "source": [
    "word2=\"apple\""
   ]
  },
  {
   "cell_type": "code",
   "execution_count": 74,
   "id": "83c04ad0",
   "metadata": {},
   "outputs": [
    {
     "data": {
      "text/plain": [
       "'apple'"
      ]
     },
     "execution_count": 74,
     "metadata": {},
     "output_type": "execute_result"
    }
   ],
   "source": [
    "word2"
   ]
  },
  {
   "cell_type": "code",
   "execution_count": 75,
   "id": "9f3af54a",
   "metadata": {},
   "outputs": [
    {
     "data": {
      "text/plain": [
       "'apple'"
      ]
     },
     "execution_count": 75,
     "metadata": {},
     "output_type": "execute_result"
    }
   ],
   "source": [
    "word2.lower()"
   ]
  },
  {
   "cell_type": "code",
   "execution_count": null,
   "id": "b584756f",
   "metadata": {},
   "outputs": [],
   "source": [
    "word3=\"swpease\""
   ]
  },
  {
   "cell_type": "code",
   "execution_count": null,
   "id": "2d76c2ce",
   "metadata": {},
   "outputs": [],
   "source": [
    "word3"
   ]
  },
  {
   "cell_type": "code",
   "execution_count": null,
   "id": "564177be",
   "metadata": {},
   "outputs": [],
   "source": [
    "word4=\"my name is shreya patel\""
   ]
  },
  {
   "cell_type": "code",
   "execution_count": null,
   "id": "3f8cc13e",
   "metadata": {},
   "outputs": [],
   "source": [
    "word4.title()"
   ]
  },
  {
   "cell_type": "code",
   "execution_count": null,
   "id": "8b370e39",
   "metadata": {},
   "outputs": [],
   "source": [
    "word4.split()"
   ]
  },
  {
   "cell_type": "code",
   "execution_count": null,
   "id": "d1bc199f",
   "metadata": {},
   "outputs": [],
   "source": [
    "for i in ['apple','mango','papaya','orange','grapes']:\n",
    "    print(i)"
   ]
  },
  {
   "cell_type": "code",
   "execution_count": null,
   "id": "1eb683df",
   "metadata": {},
   "outputs": [],
   "source": [
    "for i in ['apple','mango','papaya','orange','grapes']:\n",
    "    if i=='orange':\n",
    "        break\n",
    "    print(i)"
   ]
  },
  {
   "cell_type": "markdown",
   "id": "e718a94c",
   "metadata": {},
   "source": [
    "FUNCTION "
   ]
  },
  {
   "cell_type": "code",
   "execution_count": null,
   "id": "fffd27b6",
   "metadata": {},
   "outputs": [],
   "source": [
    "#Function definition\n",
    "\n",
    "def function1():\n",
    "    print(\"Hello Function1\")"
   ]
  },
  {
   "cell_type": "code",
   "execution_count": null,
   "id": "2ed5a98b",
   "metadata": {},
   "outputs": [],
   "source": [
    "#calling function\n",
    "\n",
    "function1()"
   ]
  },
  {
   "cell_type": "code",
   "execution_count": null,
   "id": "715de982",
   "metadata": {},
   "outputs": [],
   "source": [
    "def myfunction():\n",
    "    print(\"working in my function\")"
   ]
  },
  {
   "cell_type": "code",
   "execution_count": null,
   "id": "ae1fddb6",
   "metadata": {},
   "outputs": [],
   "source": [
    "myfunction()"
   ]
  },
  {
   "cell_type": "code",
   "execution_count": null,
   "id": "df07de69",
   "metadata": {},
   "outputs": [],
   "source": [
    "def addfunction():\n",
    "    a=10\n",
    "    b=5\n",
    "    c=a+b\n",
    "    print(\"the addition is c=\",c)"
   ]
  },
  {
   "cell_type": "code",
   "execution_count": null,
   "id": "1df2ddec",
   "metadata": {},
   "outputs": [
    {
     "name": "stdout",
     "output_type": "stream",
     "text": [
      "the addition is c= 15\n"
     ]
    }
   ],
   "source": [
    "addfunction()"
   ]
  },
  {
   "cell_type": "code",
   "execution_count": null,
   "id": "53d184a1",
   "metadata": {},
   "outputs": [],
   "source": [
    "def multifunction():\n",
    "    a=10\n",
    "    b=8\n",
    "    c=a*b\n",
    "    print(\"the multipication=\",c)"
   ]
  },
  {
   "cell_type": "code",
   "execution_count": null,
   "id": "703b0c20",
   "metadata": {},
   "outputs": [
    {
     "name": "stdout",
     "output_type": "stream",
     "text": [
      "the multipication= 80\n"
     ]
    }
   ],
   "source": [
    "multifunction()"
   ]
  },
  {
   "cell_type": "code",
   "execution_count": null,
   "id": "ff0b3d81",
   "metadata": {},
   "outputs": [],
   "source": [
    "def Subtraction_function():\n",
    "    x=90\n",
    "    y=7\n",
    "    z=x-y\n"
   ]
  },
  {
   "cell_type": "code",
   "execution_count": null,
   "id": "b967ea66",
   "metadata": {},
   "outputs": [
    {
     "name": "stdout",
     "output_type": "stream",
     "text": [
      "subtraction_function=\n"
     ]
    }
   ],
   "source": [
    "print(\"subtraction_function=\")"
   ]
  },
  {
   "cell_type": "code",
   "execution_count": null,
   "id": "ccccd740",
   "metadata": {},
   "outputs": [],
   "source": [
    "def area_of_rectangle():\n",
    "    length=215\n",
    "    breadth=6\n",
    "    area=length*breadth\n",
    "    print(\"the area of rectangle=\",area)"
   ]
  },
  {
   "cell_type": "code",
   "execution_count": null,
   "id": "e67555b9",
   "metadata": {},
   "outputs": [
    {
     "name": "stdout",
     "output_type": "stream",
     "text": [
      "the area of rectangle= 1290\n"
     ]
    }
   ],
   "source": [
    "area_of_rectangle()"
   ]
  },
  {
   "cell_type": "code",
   "execution_count": null,
   "id": "ab4d470f",
   "metadata": {},
   "outputs": [],
   "source": [
    "def areaofrectangle():\n",
    "    length=int(input(\"enter any length\"))\n",
    "    breadth=int(input(\"enter any breadth\"))\n",
    "    area=length*breadth\n",
    "    print(\"area of rectangle=\",area)"
   ]
  },
  {
   "cell_type": "code",
   "execution_count": null,
   "id": "79e21164",
   "metadata": {},
   "outputs": [],
   "source": [
    "areaofrectangle()"
   ]
  },
  {
   "cell_type": "code",
   "execution_count": null,
   "id": "7f7fb988",
   "metadata": {},
   "outputs": [],
   "source": [
    "def mypower_func():\n",
    "    p=int(input(\"enter any number as a base\"))\n",
    "    q=int(input(\"enter any number as a power\"))\n",
    "    print(\"the result is\",(p**q))"
   ]
  },
  {
   "cell_type": "code",
   "execution_count": null,
   "id": "3c32466e",
   "metadata": {},
   "outputs": [],
   "source": [
    "mypower_func()"
   ]
  },
  {
   "cell_type": "markdown",
   "id": "464c76d0",
   "metadata": {},
   "source": [
    "Parametric Function"
   ]
  },
  {
   "cell_type": "code",
   "execution_count": null,
   "id": "e523ccde",
   "metadata": {},
   "outputs": [],
   "source": [
    "def multi_f(x,y):\n",
    "    z=x*y\n",
    "    print(\"z=\",z)"
   ]
  },
  {
   "cell_type": "code",
   "execution_count": null,
   "id": "30c7f884",
   "metadata": {},
   "outputs": [],
   "source": [
    "multi_f(4,9)"
   ]
  },
  {
   "cell_type": "markdown",
   "id": "70a2c1ae",
   "metadata": {},
   "source": [
    " variable number of arguments.....*"
   ]
  },
  {
   "cell_type": "code",
   "execution_count": null,
   "id": "24300418",
   "metadata": {},
   "outputs": [],
   "source": [
    "def myaddition(*args):\n",
    "    print(sum(args))"
   ]
  },
  {
   "cell_type": "code",
   "execution_count": null,
   "id": "968e610f",
   "metadata": {},
   "outputs": [],
   "source": [
    "myaddition(7,2)"
   ]
  },
  {
   "cell_type": "code",
   "execution_count": null,
   "id": "e9c68184",
   "metadata": {},
   "outputs": [],
   "source": [
    "myaddition(2,8,3)"
   ]
  },
  {
   "cell_type": "code",
   "execution_count": null,
   "id": "409beb71",
   "metadata": {
    "scrolled": true
   },
   "outputs": [
    {
     "name": "stdout",
     "output_type": "stream",
     "text": [
      "enter any number for table to be generated78\n",
      "78 * 1 = 78\n",
      "78 * 2 = 156\n",
      "78 * 3 = 234\n",
      "78 * 4 = 312\n",
      "78 * 5 = 390\n",
      "78 * 6 = 468\n",
      "78 * 7 = 546\n",
      "78 * 8 = 624\n",
      "78 * 9 = 702\n",
      "78 * 10 = 780\n"
     ]
    }
   ],
   "source": [
    "def tablefunc():\n",
    "    t=int(input(\"enter any number for table to be generated\"))\n",
    "    for i in range(1,11):\n",
    "        print(t,'*',i,\"=\",t*i)\n",
    "        \n",
    "tablefunc() "
   ]
  },
  {
   "cell_type": "code",
   "execution_count": null,
   "id": "cc8ee608",
   "metadata": {},
   "outputs": [
    {
     "data": {
      "text/plain": [
       "[12, 22, 32]"
      ]
     },
     "execution_count": 2,
     "metadata": {},
     "output_type": "execute_result"
    }
   ],
   "source": [
    "list1=[10,20,30]\n",
    "list(map(lambda a:a+2,list1))"
   ]
  },
  {
   "cell_type": "code",
   "execution_count": null,
   "id": "a64913d0",
   "metadata": {},
   "outputs": [],
   "source": [
    "list2=[1,2,3,4,5,6,7,8,9,10]\n",
    "list(map(lambda p:p*5,list2))"
   ]
  },
  {
   "cell_type": "code",
   "execution_count": null,
   "id": "cb06c82d",
   "metadata": {},
   "outputs": [],
   "source": [
    "list3=[5,10,12,45,80]"
   ]
  },
  {
   "cell_type": "code",
   "execution_count": null,
   "id": "397469c6",
   "metadata": {},
   "outputs": [],
   "source": [
    "list(map(lambda radius:3.14*(radius**2),list3))"
   ]
  },
  {
   "cell_type": "code",
   "execution_count": null,
   "id": "adcd6e14",
   "metadata": {},
   "outputs": [
    {
     "data": {
      "text/plain": [
       "[4, 9, 16, 25, 36, 49, 64]"
      ]
     },
     "execution_count": 6,
     "metadata": {},
     "output_type": "execute_result"
    }
   ],
   "source": [
    "list4=[2,3,4,5,6,7,8]\n",
    "\n",
    "list(map(lambda t:t**2,list4))"
   ]
  },
  {
   "cell_type": "markdown",
   "id": "def57536",
   "metadata": {},
   "source": [
    "FILTER IN LAMBDA"
   ]
  },
  {
   "cell_type": "code",
   "execution_count": null,
   "id": "2515b01b",
   "metadata": {},
   "outputs": [],
   "source": [
    "list6=[1,2,3,4,5,6,7,8,9,10]"
   ]
  },
  {
   "cell_type": "code",
   "execution_count": null,
   "id": "4302a01f",
   "metadata": {},
   "outputs": [
    {
     "data": {
      "text/plain": [
       "[6, 7, 8, 9, 10]"
      ]
     },
     "execution_count": 8,
     "metadata": {},
     "output_type": "execute_result"
    }
   ],
   "source": [
    "d=list(filter(lambda x:x>5,list6))\n",
    "d"
   ]
  },
  {
   "cell_type": "code",
   "execution_count": null,
   "id": "54685867",
   "metadata": {},
   "outputs": [
    {
     "data": {
      "text/plain": [
       "[1, 3, 5, 7, 9]"
      ]
     },
     "execution_count": 9,
     "metadata": {},
     "output_type": "execute_result"
    }
   ],
   "source": [
    " list(filter(lambda p:p%2!=0,list6))"
   ]
  },
  {
   "cell_type": "markdown",
   "id": "6d7c052a",
   "metadata": {},
   "source": [
    "OOPS(object orinted programming)"
   ]
  },
  {
   "cell_type": "code",
   "execution_count": null,
   "id": "6ff383fa",
   "metadata": {},
   "outputs": [],
   "source": [
    "class student:\n",
    "    #initialization constructor\n",
    "    def __init__(self,sid,name,age):\n",
    "        self.sid=sid\n",
    "        self.name=name\n",
    "        self.age=age\n",
    "        \n",
    "    def display(self):\n",
    "        print(\"student id=\",self.sid,\"name =\",self.name,\"age =\",self.age)"
   ]
  },
  {
   "cell_type": "code",
   "execution_count": null,
   "id": "4c7442e1",
   "metadata": {
    "scrolled": true
   },
   "outputs": [
    {
     "name": "stdout",
     "output_type": "stream",
     "text": [
      "student id= 100 name = david age = 14\n"
     ]
    }
   ],
   "source": [
    "#making object/instance           \n",
    "\n",
    "s1=student(100,'david',14)\n",
    "s1.display()"
   ]
  },
  {
   "cell_type": "code",
   "execution_count": null,
   "id": "8cffb581",
   "metadata": {},
   "outputs": [],
   "source": [
    "s2=student(100,'smith',12)\n",
    "s2.display()"
   ]
  },
  {
   "cell_type": "code",
   "execution_count": null,
   "id": "cd68972a",
   "metadata": {},
   "outputs": [
    {
     "data": {
      "text/plain": [
       "'david'"
      ]
     },
     "execution_count": 47,
     "metadata": {},
     "output_type": "execute_result"
    }
   ],
   "source": [
    "s1.name"
   ]
  },
  {
   "cell_type": "code",
   "execution_count": null,
   "id": "81ca0c14",
   "metadata": {},
   "outputs": [
    {
     "data": {
      "text/plain": [
       "14"
      ]
     },
     "execution_count": 48,
     "metadata": {},
     "output_type": "execute_result"
    }
   ],
   "source": [
    "s1.age"
   ]
  },
  {
   "cell_type": "code",
   "execution_count": null,
   "id": "0db82c4d",
   "metadata": {},
   "outputs": [
    {
     "data": {
      "text/plain": [
       "'smith'"
      ]
     },
     "execution_count": 49,
     "metadata": {},
     "output_type": "execute_result"
    }
   ],
   "source": [
    "s2.name"
   ]
  },
  {
   "cell_type": "code",
   "execution_count": null,
   "id": "4fa7ca3d",
   "metadata": {},
   "outputs": [
    {
     "data": {
      "text/plain": [
       "12"
      ]
     },
     "execution_count": 50,
     "metadata": {},
     "output_type": "execute_result"
    }
   ],
   "source": [
    "s2.age"
   ]
  },
  {
   "cell_type": "code",
   "execution_count": null,
   "id": "687e873b",
   "metadata": {},
   "outputs": [
    {
     "data": {
      "text/plain": [
       "100"
      ]
     },
     "execution_count": 51,
     "metadata": {},
     "output_type": "execute_result"
    }
   ],
   "source": [
    "s1.sid   "
   ]
  },
  {
   "cell_type": "markdown",
   "id": "9923ba28",
   "metadata": {},
   "source": [
    "GLOBAL VARIABLE"
   ]
  },
  {
   "cell_type": "code",
   "execution_count": null,
   "id": "a43bf530",
   "metadata": {},
   "outputs": [],
   "source": [
    " x=10"
   ]
  },
  {
   "cell_type": "code",
   "execution_count": null,
   "id": "982486cd",
   "metadata": {},
   "outputs": [
    {
     "data": {
      "text/plain": [
       "10"
      ]
     },
     "execution_count": 2,
     "metadata": {},
     "output_type": "execute_result"
    }
   ],
   "source": [
    "x"
   ]
  },
  {
   "cell_type": "code",
   "execution_count": null,
   "id": "b767f252",
   "metadata": {},
   "outputs": [],
   "source": [
    "def func():\n",
    "    print(x)"
   ]
  },
  {
   "cell_type": "code",
   "execution_count": null,
   "id": "9742f104",
   "metadata": {},
   "outputs": [
    {
     "name": "stdout",
     "output_type": "stream",
     "text": [
      "10\n"
     ]
    }
   ],
   "source": [
    "func()"
   ]
  },
  {
   "cell_type": "code",
   "execution_count": null,
   "id": "50fa1515",
   "metadata": {},
   "outputs": [
    {
     "data": {
      "text/plain": [
       "10"
      ]
     },
     "execution_count": 5,
     "metadata": {},
     "output_type": "execute_result"
    }
   ],
   "source": [
    "x"
   ]
  },
  {
   "cell_type": "code",
   "execution_count": null,
   "id": "30efad1e",
   "metadata": {},
   "outputs": [],
   "source": [
    " def func():\n",
    "    print(x)\n",
    "    p=200#local variables\n",
    "    print(p)"
   ]
  },
  {
   "cell_type": "code",
   "execution_count": null,
   "id": "96da4d3a",
   "metadata": {},
   "outputs": [
    {
     "name": "stdout",
     "output_type": "stream",
     "text": [
      "10\n",
      "200\n"
     ]
    }
   ],
   "source": [
    "func()"
   ]
  },
  {
   "cell_type": "markdown",
   "id": "0b41f943",
   "metadata": {},
   "source": [
    "   RETURN KEYWORD "
   ]
  },
  {
   "cell_type": "code",
   "execution_count": null,
   "id": "4fa2fc29",
   "metadata": {},
   "outputs": [],
   "source": [
    " def addfunc():\n",
    "        a=10\n",
    "        b=5\n",
    "        c=a+b\n",
    "        print(\"c=\",c)"
   ]
  },
  {
   "cell_type": "code",
   "execution_count": null,
   "id": "b85f2c4e",
   "metadata": {},
   "outputs": [
    {
     "name": "stdout",
     "output_type": "stream",
     "text": [
      "c= 15\n"
     ]
    }
   ],
   "source": [
    "addfunc()"
   ]
  },
  {
   "cell_type": "code",
   "execution_count": null,
   "id": "bbac4a42",
   "metadata": {},
   "outputs": [],
   "source": [
    " def addfunc():\n",
    "        a=10\n",
    "        b=5\n",
    "        c=a+b\n",
    "        return c "
   ]
  },
  {
   "cell_type": "code",
   "execution_count": null,
   "id": "f824930a",
   "metadata": {},
   "outputs": [],
   "source": [
    "retval=addfunc()"
   ]
  },
  {
   "cell_type": "code",
   "execution_count": null,
   "id": "b607f7df",
   "metadata": {},
   "outputs": [
    {
     "data": {
      "text/plain": [
       "15"
      ]
     },
     "execution_count": 13,
     "metadata": {},
     "output_type": "execute_result"
    }
   ],
   "source": [
    "retval"
   ]
  },
  {
   "cell_type": "code",
   "execution_count": null,
   "id": "eef20cb4",
   "metadata": {},
   "outputs": [
    {
     "data": {
      "text/plain": [
       "225"
      ]
     },
     "execution_count": 14,
     "metadata": {},
     "output_type": "execute_result"
    }
   ],
   "source": [
    "m=retval**2\n",
    "m"
   ]
  },
  {
   "cell_type": "code",
   "execution_count": null,
   "id": "c6ead017",
   "metadata": {},
   "outputs": [],
   "source": [
    "def inner_function():\n",
    "    p=5\n",
    "    print(p**2)    "
   ]
  },
  {
   "cell_type": "code",
   "execution_count": null,
   "id": "892b5669",
   "metadata": {},
   "outputs": [],
   "source": [
    "def outer_function():\n",
    "    inner_function()\n",
    "    print(\"outer function\")\n"
   ]
  },
  {
   "cell_type": "code",
   "execution_count": null,
   "id": "5f4a5cc2",
   "metadata": {},
   "outputs": [
    {
     "name": "stdout",
     "output_type": "stream",
     "text": [
      "25\n",
      "outer function\n"
     ]
    }
   ],
   "source": [
    "outer_function()"
   ]
  },
  {
   "cell_type": "code",
   "execution_count": null,
   "id": "82731673",
   "metadata": {},
   "outputs": [],
   "source": [
    "def testf():\n",
    "    m=int(input(\"enter any number\"))\n",
    "    print(\"square=\",m**2)"
   ]
  },
  {
   "cell_type": "code",
   "execution_count": null,
   "id": "d47a8694",
   "metadata": {},
   "outputs": [
    {
     "name": "stdout",
     "output_type": "stream",
     "text": [
      "enter any number45\n",
      "square= 2025\n"
     ]
    }
   ],
   "source": [
    "testf()"
   ]
  },
  {
   "cell_type": "code",
   "execution_count": null,
   "id": "affd14fc",
   "metadata": {},
   "outputs": [],
   "source": [
    "a=10"
   ]
  },
  {
   "cell_type": "code",
   "execution_count": null,
   "id": "93d4978d",
   "metadata": {},
   "outputs": [],
   "source": [
    "a=a+2"
   ]
  },
  {
   "cell_type": "code",
   "execution_count": null,
   "id": "92e9d813",
   "metadata": {},
   "outputs": [
    {
     "data": {
      "text/plain": [
       "12"
      ]
     },
     "execution_count": 65,
     "metadata": {},
     "output_type": "execute_result"
    }
   ],
   "source": [
    "a"
   ]
  },
  {
   "cell_type": "code",
   "execution_count": null,
   "id": "6fac05bc",
   "metadata": {},
   "outputs": [],
   "source": [
    "a=10"
   ]
  },
  {
   "cell_type": "code",
   "execution_count": null,
   "id": "3ceef50a",
   "metadata": {},
   "outputs": [
    {
     "name": "stdout",
     "output_type": "stream",
     "text": [
      "enter number4\n"
     ]
    }
   ],
   "source": [
    "n=int(input(\"enter number\"))"
   ]
  },
  {
   "cell_type": "code",
   "execution_count": null,
   "id": "40fbb296",
   "metadata": {},
   "outputs": [],
   "source": [
    "a+=n"
   ]
  },
  {
   "cell_type": "code",
   "execution_count": null,
   "id": "6762a8a3",
   "metadata": {},
   "outputs": [
    {
     "data": {
      "text/plain": [
       "14"
      ]
     },
     "execution_count": 70,
     "metadata": {},
     "output_type": "execute_result"
    }
   ],
   "source": [
    "a"
   ]
  },
  {
   "cell_type": "code",
   "execution_count": null,
   "id": "9d74dae0",
   "metadata": {},
   "outputs": [],
   "source": [
    "def sumfunc(*numbers):\n",
    "    s=0\n",
    "    for n in numbers:\n",
    "        s+=n\n",
    "    return s"
   ]
  },
  {
   "cell_type": "code",
   "execution_count": null,
   "id": "d0416192",
   "metadata": {},
   "outputs": [
    {
     "name": "stdout",
     "output_type": "stream",
     "text": [
      "3\n"
     ]
    }
   ],
   "source": [
    "print(sumfunc(1,2))"
   ]
  },
  {
   "cell_type": "code",
   "execution_count": null,
   "id": "17aea9f5",
   "metadata": {},
   "outputs": [
    {
     "name": "stdout",
     "output_type": "stream",
     "text": [
      "6\n"
     ]
    }
   ],
   "source": [
    "print(sumfunc(1,2,3))"
   ]
  },
  {
   "cell_type": "code",
   "execution_count": null,
   "id": "76940762",
   "metadata": {},
   "outputs": [
    {
     "name": "stdout",
     "output_type": "stream",
     "text": [
      "10\n"
     ]
    }
   ],
   "source": [
    "print(sumfunc(1,2,3,4))"
   ]
  },
  {
   "cell_type": "markdown",
   "id": "ba9f8fbd",
   "metadata": {},
   "source": [
    "LAMBDA FUNCTION ANONYMOUS"
   ]
  },
  {
   "cell_type": "code",
   "execution_count": null,
   "id": "ba6eba42",
   "metadata": {},
   "outputs": [],
   "source": [
    "test1=lambda x:x+1"
   ]
  },
  {
   "cell_type": "code",
   "execution_count": null,
   "id": "1bd4cbe5",
   "metadata": {},
   "outputs": [
    {
     "data": {
      "text/plain": [
       "3"
      ]
     },
     "execution_count": 79,
     "metadata": {},
     "output_type": "execute_result"
    }
   ],
   "source": [
    "test1(2)"
   ]
  },
  {
   "cell_type": "code",
   "execution_count": null,
   "id": "782143ee",
   "metadata": {},
   "outputs": [
    {
     "data": {
      "text/plain": [
       "6"
      ]
     },
     "execution_count": 80,
     "metadata": {},
     "output_type": "execute_result"
    }
   ],
   "source": [
    "test1(5)"
   ]
  },
  {
   "cell_type": "code",
   "execution_count": null,
   "id": "0b410e48",
   "metadata": {},
   "outputs": [],
   "source": [
    "test2=lambda x:x+5"
   ]
  },
  {
   "cell_type": "code",
   "execution_count": null,
   "id": "f926e2f0",
   "metadata": {},
   "outputs": [
    {
     "data": {
      "text/plain": [
       "9"
      ]
     },
     "execution_count": 82,
     "metadata": {},
     "output_type": "execute_result"
    }
   ],
   "source": [
    "test2(4)"
   ]
  },
  {
   "cell_type": "code",
   "execution_count": null,
   "id": "1d7cccd6",
   "metadata": {},
   "outputs": [],
   "source": [
    "square=lambda s:s**2"
   ]
  },
  {
   "cell_type": "code",
   "execution_count": null,
   "id": "ee08d944",
   "metadata": {},
   "outputs": [
    {
     "data": {
      "text/plain": [
       "4"
      ]
     },
     "execution_count": 84,
     "metadata": {},
     "output_type": "execute_result"
    }
   ],
   "source": [
    "square(2)"
   ]
  },
  {
   "cell_type": "code",
   "execution_count": null,
   "id": "75cf3331",
   "metadata": {},
   "outputs": [
    {
     "data": {
      "text/plain": [
       "2025"
      ]
     },
     "execution_count": 85,
     "metadata": {},
     "output_type": "execute_result"
    }
   ],
   "source": [
    "square(45)"
   ]
  },
  {
   "cell_type": "code",
   "execution_count": null,
   "id": "86441d0c",
   "metadata": {},
   "outputs": [],
   "source": [
    "mult=lambda k:k*2"
   ]
  },
  {
   "cell_type": "code",
   "execution_count": null,
   "id": "41f277c2",
   "metadata": {},
   "outputs": [
    {
     "data": {
      "text/plain": [
       "12"
      ]
     },
     "execution_count": 87,
     "metadata": {},
     "output_type": "execute_result"
    }
   ],
   "source": [
    "mult(6)"
   ]
  },
  {
   "cell_type": "code",
   "execution_count": null,
   "id": "a5e5df73",
   "metadata": {},
   "outputs": [
    {
     "data": {
      "text/plain": [
       "14"
      ]
     },
     "execution_count": 88,
     "metadata": {},
     "output_type": "execute_result"
    }
   ],
   "source": [
    "mult(7)"
   ]
  },
  {
   "cell_type": "code",
   "execution_count": null,
   "id": "ee09775c",
   "metadata": {},
   "outputs": [],
   "source": [
    "mult=lambda k,t:k*t"
   ]
  },
  {
   "cell_type": "code",
   "execution_count": null,
   "id": "e959e5b1",
   "metadata": {},
   "outputs": [
    {
     "data": {
      "text/plain": [
       "312"
      ]
     },
     "execution_count": 90,
     "metadata": {},
     "output_type": "execute_result"
    }
   ],
   "source": [
    "mult(78,4)"
   ]
  },
  {
   "cell_type": "code",
   "execution_count": null,
   "id": "427dc31e",
   "metadata": {},
   "outputs": [
    {
     "data": {
      "text/plain": [
       "712"
      ]
     },
     "execution_count": 91,
     "metadata": {},
     "output_type": "execute_result"
    }
   ],
   "source": [
    "mult(89,8)"
   ]
  },
  {
   "cell_type": "code",
   "execution_count": null,
   "id": "7c860779",
   "metadata": {},
   "outputs": [],
   "source": [
    "addtest=lambda x,y,z:x+y+z"
   ]
  },
  {
   "cell_type": "code",
   "execution_count": null,
   "id": "d769ede1",
   "metadata": {},
   "outputs": [
    {
     "data": {
      "text/plain": [
       "18"
      ]
     },
     "execution_count": 93,
     "metadata": {},
     "output_type": "execute_result"
    }
   ],
   "source": [
    "addtest(3,10,5)"
   ]
  },
  {
   "cell_type": "code",
   "execution_count": null,
   "id": "bb629919",
   "metadata": {},
   "outputs": [],
   "source": [
    "sqroot=lambda x:x**(1/2)"
   ]
  },
  {
   "cell_type": "code",
   "execution_count": null,
   "id": "57c5a807",
   "metadata": {},
   "outputs": [
    {
     "data": {
      "text/plain": [
       "7.416198487095663"
      ]
     },
     "execution_count": 95,
     "metadata": {},
     "output_type": "execute_result"
    }
   ],
   "source": [
    "sqroot(55)"
   ]
  },
  {
   "cell_type": "code",
   "execution_count": null,
   "id": "d5dfa9c7",
   "metadata": {},
   "outputs": [],
   "source": [
    "area=lambda radius:3.14*(radius**2)"
   ]
  },
  {
   "cell_type": "code",
   "execution_count": null,
   "id": "5a21a3a6",
   "metadata": {},
   "outputs": [
    {
     "data": {
      "text/plain": [
       "113.04"
      ]
     },
     "execution_count": 101,
     "metadata": {},
     "output_type": "execute_result"
    }
   ],
   "source": [
    "area(6)"
   ]
  },
  {
   "cell_type": "code",
   "execution_count": null,
   "id": "21186f20",
   "metadata": {},
   "outputs": [
    {
     "data": {
      "text/plain": [
       "24871.940000000002"
      ]
     },
     "execution_count": 102,
     "metadata": {},
     "output_type": "execute_result"
    }
   ],
   "source": [
    "area(89)"
   ]
  },
  {
   "cell_type": "code",
   "execution_count": null,
   "id": "87eb1a0d",
   "metadata": {},
   "outputs": [],
   "source": [
    "arearect=lambda length,breadth:length*breadth"
   ]
  },
  {
   "cell_type": "code",
   "execution_count": null,
   "id": "5dc9c8f7",
   "metadata": {},
   "outputs": [
    {
     "data": {
      "text/plain": [
       "4984"
      ]
     },
     "execution_count": 104,
     "metadata": {},
     "output_type": "execute_result"
    }
   ],
   "source": [
    "arearect(89,56)"
   ]
  },
  {
   "cell_type": "code",
   "execution_count": null,
   "id": "f17710e2",
   "metadata": {},
   "outputs": [],
   "source": [
    "a=10"
   ]
  },
  {
   "cell_type": "code",
   "execution_count": null,
   "id": "af16be11",
   "metadata": {},
   "outputs": [],
   "source": [
    "b=78"
   ]
  },
  {
   "cell_type": "code",
   "execution_count": null,
   "id": "9d4b5891",
   "metadata": {},
   "outputs": [
    {
     "name": "stdout",
     "output_type": "stream",
     "text": [
      "156\n"
     ]
    }
   ],
   "source": [
    "print(a+b)"
   ]
  },
  {
   "cell_type": "code",
   "execution_count": null,
   "id": "a31b649c",
   "metadata": {},
   "outputs": [],
   "source": [
    "     def __init__(self, realpart, imagpart):\n",
    "        self.r = realpart\n",
    "        self.i = imagpart\n",
    "        x = Complex(3.0, -4.5)\n",
    "        x.r\n",
    "        x.i"
   ]
  },
  {
   "cell_type": "markdown",
   "id": "9a9d4751",
   "metadata": {},
   "source": [
    "PANDA "
   ]
  },
  {
   "cell_type": "markdown",
   "id": "bdd7ddb2",
   "metadata": {},
   "source": [
    "DATA STRUCTURES NULLS//GROUPBY"
   ]
  },
  {
   "cell_type": "code",
   "execution_count": null,
   "id": "b6e99cc8",
   "metadata": {},
   "outputs": [],
   "source": [
    "import numpy as np\n",
    "import pandas as pd"
   ]
  },
  {
   "cell_type": "code",
   "execution_count": null,
   "id": "0f4e6d49",
   "metadata": {},
   "outputs": [
    {
     "name": "stderr",
     "output_type": "stream",
     "text": [
      "C:\\Users\\paksh\\AppData\\Local\\Temp\\ipykernel_6276\\3792949983.py:1: FutureWarning: The default dtype for empty Series will be 'object' instead of 'float64' in a future version. Specify a dtype explicitly to silence this warning.\n",
      "  ser = pd.Series()\n"
     ]
    },
    {
     "data": {
      "text/plain": [
       "Series([], dtype: float64)"
      ]
     },
     "execution_count": 6,
     "metadata": {},
     "output_type": "execute_result"
    }
   ],
   "source": [
    "ser = pd.Series()\n",
    "\n",
    "ser\n",
    "#print('{}\\n'.format(ser))"
   ]
  },
  {
   "cell_type": "code",
   "execution_count": null,
   "id": "55ffdd81",
   "metadata": {},
   "outputs": [
    {
     "data": {
      "text/plain": [
       "0     0\n",
       "1    10\n",
       "2    20\n",
       "3    30\n",
       "4    40\n",
       "5    50\n",
       "6    60\n",
       "7    70\n",
       "8    80\n",
       "9    90\n",
       "dtype: int64"
      ]
     },
     "execution_count": 7,
     "metadata": {},
     "output_type": "execute_result"
    }
   ],
   "source": [
    "ser=pd.Series([0,10,20,30,40,50,60,70,80,90])\n",
    "ser"
   ]
  },
  {
   "cell_type": "code",
   "execution_count": null,
   "id": "89f181ab",
   "metadata": {},
   "outputs": [
    {
     "data": {
      "text/plain": [
       "0      20\n",
       "1    15.7\n",
       "2      10\n",
       "dtype: object"
      ]
     },
     "execution_count": 8,
     "metadata": {},
     "output_type": "execute_result"
    }
   ],
   "source": [
    "ser=pd.Series([20,15.7,'10'])\n",
    "ser"
   ]
  },
  {
   "cell_type": "code",
   "execution_count": null,
   "id": "bd14e8d4",
   "metadata": {},
   "outputs": [],
   "source": [
    "dict={'A':[1,2,5],'B':[5,8,9],'C':[1,2,3]}"
   ]
  },
  {
   "cell_type": "code",
   "execution_count": null,
   "id": "f06e3fc5",
   "metadata": {},
   "outputs": [
    {
     "data": {
      "text/html": [
       "<div>\n",
       "<style scoped>\n",
       "    .dataframe tbody tr th:only-of-type {\n",
       "        vertical-align: middle;\n",
       "    }\n",
       "\n",
       "    .dataframe tbody tr th {\n",
       "        vertical-align: top;\n",
       "    }\n",
       "\n",
       "    .dataframe thead th {\n",
       "        text-align: right;\n",
       "    }\n",
       "</style>\n",
       "<table border=\"1\" class=\"dataframe\">\n",
       "  <thead>\n",
       "    <tr style=\"text-align: right;\">\n",
       "      <th></th>\n",
       "      <th>A</th>\n",
       "      <th>B</th>\n",
       "      <th>C</th>\n",
       "    </tr>\n",
       "  </thead>\n",
       "  <tbody>\n",
       "    <tr>\n",
       "      <th>0</th>\n",
       "      <td>1</td>\n",
       "      <td>5</td>\n",
       "      <td>1</td>\n",
       "    </tr>\n",
       "    <tr>\n",
       "      <th>1</th>\n",
       "      <td>2</td>\n",
       "      <td>8</td>\n",
       "      <td>2</td>\n",
       "    </tr>\n",
       "    <tr>\n",
       "      <th>2</th>\n",
       "      <td>5</td>\n",
       "      <td>9</td>\n",
       "      <td>3</td>\n",
       "    </tr>\n",
       "  </tbody>\n",
       "</table>\n",
       "</div>"
      ],
      "text/plain": [
       "   A  B  C\n",
       "0  1  5  1\n",
       "1  2  8  2\n",
       "2  5  9  3"
      ]
     },
     "execution_count": 10,
     "metadata": {},
     "output_type": "execute_result"
    }
   ],
   "source": [
    "df=pd.DataFrame(dict)\n",
    "df"
   ]
  },
  {
   "cell_type": "code",
   "execution_count": null,
   "id": "1e3aad52",
   "metadata": {},
   "outputs": [],
   "source": [
    "df['states']=\"CA NV AZ\".split()"
   ]
  },
  {
   "cell_type": "code",
   "execution_count": null,
   "id": "05a3719d",
   "metadata": {},
   "outputs": [
    {
     "data": {
      "text/html": [
       "<div>\n",
       "<style scoped>\n",
       "    .dataframe tbody tr th:only-of-type {\n",
       "        vertical-align: middle;\n",
       "    }\n",
       "\n",
       "    .dataframe tbody tr th {\n",
       "        vertical-align: top;\n",
       "    }\n",
       "\n",
       "    .dataframe thead th {\n",
       "        text-align: right;\n",
       "    }\n",
       "</style>\n",
       "<table border=\"1\" class=\"dataframe\">\n",
       "  <thead>\n",
       "    <tr style=\"text-align: right;\">\n",
       "      <th></th>\n",
       "      <th>A</th>\n",
       "      <th>B</th>\n",
       "      <th>C</th>\n",
       "      <th>states</th>\n",
       "    </tr>\n",
       "  </thead>\n",
       "  <tbody>\n",
       "    <tr>\n",
       "      <th>0</th>\n",
       "      <td>1</td>\n",
       "      <td>5</td>\n",
       "      <td>1</td>\n",
       "      <td>CA</td>\n",
       "    </tr>\n",
       "    <tr>\n",
       "      <th>1</th>\n",
       "      <td>2</td>\n",
       "      <td>8</td>\n",
       "      <td>2</td>\n",
       "      <td>NV</td>\n",
       "    </tr>\n",
       "    <tr>\n",
       "      <th>2</th>\n",
       "      <td>5</td>\n",
       "      <td>9</td>\n",
       "      <td>3</td>\n",
       "      <td>AZ</td>\n",
       "    </tr>\n",
       "  </tbody>\n",
       "</table>\n",
       "</div>"
      ],
      "text/plain": [
       "   A  B  C states\n",
       "0  1  5  1     CA\n",
       "1  2  8  2     NV\n",
       "2  5  9  3     AZ"
      ]
     },
     "execution_count": 12,
     "metadata": {},
     "output_type": "execute_result"
    }
   ],
   "source": [
    "df"
   ]
  },
  {
   "cell_type": "code",
   "execution_count": null,
   "id": "e279292a",
   "metadata": {},
   "outputs": [],
   "source": [
    "dict={'A':[1.0,2.5,np.nan],'B':[5,np.nan,np.nan],'C':[1,2,3]}"
   ]
  },
  {
   "cell_type": "code",
   "execution_count": null,
   "id": "cc0705fb",
   "metadata": {},
   "outputs": [
    {
     "data": {
      "text/html": [
       "<div>\n",
       "<style scoped>\n",
       "    .dataframe tbody tr th:only-of-type {\n",
       "        vertical-align: middle;\n",
       "    }\n",
       "\n",
       "    .dataframe tbody tr th {\n",
       "        vertical-align: top;\n",
       "    }\n",
       "\n",
       "    .dataframe thead th {\n",
       "        text-align: right;\n",
       "    }\n",
       "</style>\n",
       "<table border=\"1\" class=\"dataframe\">\n",
       "  <thead>\n",
       "    <tr style=\"text-align: right;\">\n",
       "      <th></th>\n",
       "      <th>A</th>\n",
       "      <th>B</th>\n",
       "      <th>C</th>\n",
       "    </tr>\n",
       "  </thead>\n",
       "  <tbody>\n",
       "    <tr>\n",
       "      <th>0</th>\n",
       "      <td>1.0</td>\n",
       "      <td>5.0</td>\n",
       "      <td>1</td>\n",
       "    </tr>\n",
       "    <tr>\n",
       "      <th>1</th>\n",
       "      <td>2.5</td>\n",
       "      <td>NaN</td>\n",
       "      <td>2</td>\n",
       "    </tr>\n",
       "    <tr>\n",
       "      <th>2</th>\n",
       "      <td>NaN</td>\n",
       "      <td>NaN</td>\n",
       "      <td>3</td>\n",
       "    </tr>\n",
       "  </tbody>\n",
       "</table>\n",
       "</div>"
      ],
      "text/plain": [
       "     A    B  C\n",
       "0  1.0  5.0  1\n",
       "1  2.5  NaN  2\n",
       "2  NaN  NaN  3"
      ]
     },
     "execution_count": 14,
     "metadata": {},
     "output_type": "execute_result"
    }
   ],
   "source": [
    "df=pd.DataFrame(dict)\n",
    "df"
   ]
  },
  {
   "cell_type": "code",
   "execution_count": null,
   "id": "a2bb8f61",
   "metadata": {},
   "outputs": [
    {
     "data": {
      "text/html": [
       "<div>\n",
       "<style scoped>\n",
       "    .dataframe tbody tr th:only-of-type {\n",
       "        vertical-align: middle;\n",
       "    }\n",
       "\n",
       "    .dataframe tbody tr th {\n",
       "        vertical-align: top;\n",
       "    }\n",
       "\n",
       "    .dataframe thead th {\n",
       "        text-align: right;\n",
       "    }\n",
       "</style>\n",
       "<table border=\"1\" class=\"dataframe\">\n",
       "  <thead>\n",
       "    <tr style=\"text-align: right;\">\n",
       "      <th></th>\n",
       "      <th>A</th>\n",
       "      <th>B</th>\n",
       "      <th>C</th>\n",
       "      <th>D</th>\n",
       "    </tr>\n",
       "  </thead>\n",
       "  <tbody>\n",
       "    <tr>\n",
       "      <th>0</th>\n",
       "      <td>1.0</td>\n",
       "      <td>5.0</td>\n",
       "      <td>1</td>\n",
       "      <td>20</td>\n",
       "    </tr>\n",
       "    <tr>\n",
       "      <th>1</th>\n",
       "      <td>2.5</td>\n",
       "      <td>NaN</td>\n",
       "      <td>2</td>\n",
       "      <td>30</td>\n",
       "    </tr>\n",
       "    <tr>\n",
       "      <th>2</th>\n",
       "      <td>NaN</td>\n",
       "      <td>NaN</td>\n",
       "      <td>3</td>\n",
       "      <td>40</td>\n",
       "    </tr>\n",
       "  </tbody>\n",
       "</table>\n",
       "</div>"
      ],
      "text/plain": [
       "     A    B  C   D\n",
       "0  1.0  5.0  1  20\n",
       "1  2.5  NaN  2  30\n",
       "2  NaN  NaN  3  40"
      ]
     },
     "execution_count": 15,
     "metadata": {},
     "output_type": "execute_result"
    }
   ],
   "source": [
    "df['D']=[20,30,40]\n",
    "df"
   ]
  },
  {
   "cell_type": "code",
   "execution_count": null,
   "id": "cd3c7d1e",
   "metadata": {},
   "outputs": [
    {
     "name": "stdout",
     "output_type": "stream",
     "text": [
      "\n",
      "Dropping any column with a NaN value\n",
      "-----------------------------------\n",
      "   C   D\n",
      "0  1  20\n",
      "1  2  30\n",
      "2  3  40\n"
     ]
    }
   ],
   "source": [
    "print(\"\\nDropping any column with a NaN value\\n\",'-'*35,sep='')\n",
    "print(df.dropna(axis=1))"
   ]
  },
  {
   "cell_type": "code",
   "execution_count": null,
   "id": "03698c85",
   "metadata": {},
   "outputs": [
    {
     "data": {
      "text/html": [
       "<div>\n",
       "<style scoped>\n",
       "    .dataframe tbody tr th:only-of-type {\n",
       "        vertical-align: middle;\n",
       "    }\n",
       "\n",
       "    .dataframe tbody tr th {\n",
       "        vertical-align: top;\n",
       "    }\n",
       "\n",
       "    .dataframe thead th {\n",
       "        text-align: right;\n",
       "    }\n",
       "</style>\n",
       "<table border=\"1\" class=\"dataframe\">\n",
       "  <thead>\n",
       "    <tr style=\"text-align: right;\">\n",
       "      <th></th>\n",
       "      <th>A</th>\n",
       "      <th>B</th>\n",
       "      <th>C</th>\n",
       "      <th>D</th>\n",
       "    </tr>\n",
       "  </thead>\n",
       "  <tbody>\n",
       "    <tr>\n",
       "      <th>0</th>\n",
       "      <td>1.0</td>\n",
       "      <td>5.0</td>\n",
       "      <td>1</td>\n",
       "      <td>20</td>\n",
       "    </tr>\n",
       "    <tr>\n",
       "      <th>1</th>\n",
       "      <td>2.5</td>\n",
       "      <td>NaN</td>\n",
       "      <td>2</td>\n",
       "      <td>30</td>\n",
       "    </tr>\n",
       "    <tr>\n",
       "      <th>2</th>\n",
       "      <td>NaN</td>\n",
       "      <td>NaN</td>\n",
       "      <td>3</td>\n",
       "      <td>40</td>\n",
       "    </tr>\n",
       "  </tbody>\n",
       "</table>\n",
       "</div>"
      ],
      "text/plain": [
       "     A    B  C   D\n",
       "0  1.0  5.0  1  20\n",
       "1  2.5  NaN  2  30\n",
       "2  NaN  NaN  3  40"
      ]
     },
     "execution_count": 17,
     "metadata": {},
     "output_type": "execute_result"
    }
   ],
   "source": [
    "df"
   ]
  },
  {
   "cell_type": "code",
   "execution_count": null,
   "id": "2200a748",
   "metadata": {},
   "outputs": [
    {
     "name": "stdout",
     "output_type": "stream",
     "text": [
      "\n",
      "Dropping any rows with a NaN value\n",
      "-----------------------------------\n",
      "     A    B  C   D\n",
      "0  1.0  5.0  1  20\n"
     ]
    }
   ],
   "source": [
    "print(\"\\nDropping any rows with a NaN value\\n\",'-'*35,sep='')\n",
    "print(df.dropna(axis=0))"
   ]
  },
  {
   "cell_type": "code",
   "execution_count": null,
   "id": "c3d60d02",
   "metadata": {},
   "outputs": [
    {
     "data": {
      "text/html": [
       "<div>\n",
       "<style scoped>\n",
       "    .dataframe tbody tr th:only-of-type {\n",
       "        vertical-align: middle;\n",
       "    }\n",
       "\n",
       "    .dataframe tbody tr th {\n",
       "        vertical-align: top;\n",
       "    }\n",
       "\n",
       "    .dataframe thead th {\n",
       "        text-align: right;\n",
       "    }\n",
       "</style>\n",
       "<table border=\"1\" class=\"dataframe\">\n",
       "  <thead>\n",
       "    <tr style=\"text-align: right;\">\n",
       "      <th></th>\n",
       "      <th>A</th>\n",
       "      <th>B</th>\n",
       "      <th>C</th>\n",
       "      <th>D</th>\n",
       "    </tr>\n",
       "  </thead>\n",
       "  <tbody>\n",
       "    <tr>\n",
       "      <th>0</th>\n",
       "      <td>1.0</td>\n",
       "      <td>5.0</td>\n",
       "      <td>1</td>\n",
       "      <td>20</td>\n",
       "    </tr>\n",
       "    <tr>\n",
       "      <th>1</th>\n",
       "      <td>2.5</td>\n",
       "      <td>NaN</td>\n",
       "      <td>2</td>\n",
       "      <td>30</td>\n",
       "    </tr>\n",
       "    <tr>\n",
       "      <th>2</th>\n",
       "      <td>NaN</td>\n",
       "      <td>NaN</td>\n",
       "      <td>3</td>\n",
       "      <td>40</td>\n",
       "    </tr>\n",
       "  </tbody>\n",
       "</table>\n",
       "</div>"
      ],
      "text/plain": [
       "     A    B  C   D\n",
       "0  1.0  5.0  1  20\n",
       "1  2.5  NaN  2  30\n",
       "2  NaN  NaN  3  40"
      ]
     },
     "execution_count": 19,
     "metadata": {},
     "output_type": "execute_result"
    }
   ],
   "source": [
    "df"
   ]
  },
  {
   "cell_type": "code",
   "execution_count": null,
   "id": "67496af8",
   "metadata": {},
   "outputs": [
    {
     "name": "stdout",
     "output_type": "stream",
     "text": [
      "\n",
      "Filling values with a defult value\n",
      "-----------------------------------\n",
      "      A     B  C   D\n",
      "0   1.0   5.0  1  20\n",
      "1   2.5  50.0  2  30\n",
      "2  50.0  50.0  3  40\n"
     ]
    }
   ],
   "source": [
    "print(\"\\nFilling values with a defult value\\n\",'-'*35,sep='')\n",
    "print(df.fillna(value=50))"
   ]
  },
  {
   "cell_type": "code",
   "execution_count": null,
   "id": "56640dce",
   "metadata": {},
   "outputs": [
    {
     "data": {
      "text/html": [
       "<div>\n",
       "<style scoped>\n",
       "    .dataframe tbody tr th:only-of-type {\n",
       "        vertical-align: middle;\n",
       "    }\n",
       "\n",
       "    .dataframe tbody tr th {\n",
       "        vertical-align: top;\n",
       "    }\n",
       "\n",
       "    .dataframe thead th {\n",
       "        text-align: right;\n",
       "    }\n",
       "</style>\n",
       "<table border=\"1\" class=\"dataframe\">\n",
       "  <thead>\n",
       "    <tr style=\"text-align: right;\">\n",
       "      <th></th>\n",
       "      <th>A</th>\n",
       "      <th>B</th>\n",
       "      <th>C</th>\n",
       "      <th>D</th>\n",
       "    </tr>\n",
       "  </thead>\n",
       "  <tbody>\n",
       "    <tr>\n",
       "      <th>0</th>\n",
       "      <td>1.0</td>\n",
       "      <td>5.0</td>\n",
       "      <td>1</td>\n",
       "      <td>20</td>\n",
       "    </tr>\n",
       "    <tr>\n",
       "      <th>1</th>\n",
       "      <td>2.5</td>\n",
       "      <td>NaN</td>\n",
       "      <td>2</td>\n",
       "      <td>30</td>\n",
       "    </tr>\n",
       "    <tr>\n",
       "      <th>2</th>\n",
       "      <td>NaN</td>\n",
       "      <td>NaN</td>\n",
       "      <td>3</td>\n",
       "      <td>40</td>\n",
       "    </tr>\n",
       "  </tbody>\n",
       "</table>\n",
       "</div>"
      ],
      "text/plain": [
       "     A    B  C   D\n",
       "0  1.0  5.0  1  20\n",
       "1  2.5  NaN  2  30\n",
       "2  NaN  NaN  3  40"
      ]
     },
     "execution_count": 21,
     "metadata": {},
     "output_type": "execute_result"
    }
   ],
   "source": [
    "df"
   ]
  },
  {
   "cell_type": "code",
   "execution_count": null,
   "id": "64919a7e",
   "metadata": {},
   "outputs": [
    {
     "name": "stdout",
     "output_type": "stream",
     "text": [
      "\n",
      "Filling values with a computed value(mean of column A here)\n",
      "------------------------------------------------------------\n",
      "None\n"
     ]
    }
   ],
   "source": [
    "print(\"\\nFilling values with a computed value(mean of column A here)\\n\",'-'*60,sep='')\n",
    "print(df.fillna(value=df['C'].mean(),inplace=True))"
   ]
  },
  {
   "cell_type": "code",
   "execution_count": null,
   "id": "37f8c15f",
   "metadata": {},
   "outputs": [
    {
     "data": {
      "text/html": [
       "<div>\n",
       "<style scoped>\n",
       "    .dataframe tbody tr th:only-of-type {\n",
       "        vertical-align: middle;\n",
       "    }\n",
       "\n",
       "    .dataframe tbody tr th {\n",
       "        vertical-align: top;\n",
       "    }\n",
       "\n",
       "    .dataframe thead th {\n",
       "        text-align: right;\n",
       "    }\n",
       "</style>\n",
       "<table border=\"1\" class=\"dataframe\">\n",
       "  <thead>\n",
       "    <tr style=\"text-align: right;\">\n",
       "      <th></th>\n",
       "      <th>A</th>\n",
       "      <th>B</th>\n",
       "      <th>C</th>\n",
       "      <th>D</th>\n",
       "    </tr>\n",
       "  </thead>\n",
       "  <tbody>\n",
       "    <tr>\n",
       "      <th>0</th>\n",
       "      <td>1.0</td>\n",
       "      <td>5.0</td>\n",
       "      <td>1</td>\n",
       "      <td>20</td>\n",
       "    </tr>\n",
       "    <tr>\n",
       "      <th>1</th>\n",
       "      <td>2.5</td>\n",
       "      <td>2.0</td>\n",
       "      <td>2</td>\n",
       "      <td>30</td>\n",
       "    </tr>\n",
       "    <tr>\n",
       "      <th>2</th>\n",
       "      <td>2.0</td>\n",
       "      <td>2.0</td>\n",
       "      <td>3</td>\n",
       "      <td>40</td>\n",
       "    </tr>\n",
       "  </tbody>\n",
       "</table>\n",
       "</div>"
      ],
      "text/plain": [
       "     A    B  C   D\n",
       "0  1.0  5.0  1  20\n",
       "1  2.5  2.0  2  30\n",
       "2  2.0  2.0  3  40"
      ]
     },
     "execution_count": 23,
     "metadata": {},
     "output_type": "execute_result"
    }
   ],
   "source": [
    "df"
   ]
  },
  {
   "cell_type": "code",
   "execution_count": null,
   "id": "8040b64f",
   "metadata": {},
   "outputs": [
    {
     "data": {
      "text/html": [
       "<div>\n",
       "<style scoped>\n",
       "    .dataframe tbody tr th:only-of-type {\n",
       "        vertical-align: middle;\n",
       "    }\n",
       "\n",
       "    .dataframe tbody tr th {\n",
       "        vertical-align: top;\n",
       "    }\n",
       "\n",
       "    .dataframe thead th {\n",
       "        text-align: right;\n",
       "    }\n",
       "</style>\n",
       "<table border=\"1\" class=\"dataframe\">\n",
       "  <thead>\n",
       "    <tr style=\"text-align: right;\">\n",
       "      <th></th>\n",
       "      <th>company</th>\n",
       "      <th>person</th>\n",
       "      <th>sales</th>\n",
       "    </tr>\n",
       "  </thead>\n",
       "  <tbody>\n",
       "    <tr>\n",
       "      <th>0</th>\n",
       "      <td>goog</td>\n",
       "      <td>shreya</td>\n",
       "      <td>200</td>\n",
       "    </tr>\n",
       "    <tr>\n",
       "      <th>1</th>\n",
       "      <td>goog</td>\n",
       "      <td>sam</td>\n",
       "      <td>120</td>\n",
       "    </tr>\n",
       "    <tr>\n",
       "      <th>2</th>\n",
       "      <td>msft</td>\n",
       "      <td>aksh</td>\n",
       "      <td>240</td>\n",
       "    </tr>\n",
       "    <tr>\n",
       "      <th>3</th>\n",
       "      <td>fb</td>\n",
       "      <td>asha</td>\n",
       "      <td>450</td>\n",
       "    </tr>\n",
       "    <tr>\n",
       "      <th>4</th>\n",
       "      <td>fb</td>\n",
       "      <td>pramod</td>\n",
       "      <td>785</td>\n",
       "    </tr>\n",
       "  </tbody>\n",
       "</table>\n",
       "</div>"
      ],
      "text/plain": [
       "  company  person  sales\n",
       "0    goog  shreya    200\n",
       "1    goog     sam    120\n",
       "2    msft    aksh    240\n",
       "3      fb    asha    450\n",
       "4      fb  pramod    785"
      ]
     },
     "execution_count": 24,
     "metadata": {},
     "output_type": "execute_result"
    }
   ],
   "source": [
    "data={'company':['goog','goog','msft','fb','fb'],\n",
    "     'person':['shreya','sam','aksh','asha','pramod',],\n",
    "     'sales':[200,120,240,450,785]}\n",
    "df=pd.DataFrame(data)\n",
    "df"
   ]
  },
  {
   "cell_type": "code",
   "execution_count": null,
   "id": "5fd944ed",
   "metadata": {},
   "outputs": [
    {
     "name": "stdout",
     "output_type": "stream",
     "text": [
      "\n",
      "grouping by 'company column listing mean sales\n",
      "-------------------------------------------------------\n",
      "         sales\n",
      "company       \n",
      "fb       617.5\n",
      "goog     160.0\n",
      "msft     240.0\n"
     ]
    }
   ],
   "source": [
    "bycomp=df.groupby('company')\n",
    "print(\"\\ngrouping by 'company column listing mean sales\\n\",'-'*55,sep='')\n",
    "print(bycomp.mean())"
   ]
  },
  {
   "cell_type": "code",
   "execution_count": null,
   "id": "4382b32c",
   "metadata": {},
   "outputs": [
    {
     "name": "stdout",
     "output_type": "stream",
     "text": [
      "\n",
      "grouping by 'company column listing sum sales\n",
      "-------------------------------------------------------\n",
      "         sales\n",
      "company       \n",
      "fb        1235\n",
      "goog       320\n",
      "msft       240\n"
     ]
    }
   ],
   "source": [
    "print(\"\\ngrouping by 'company column listing sum sales\\n\",'-'*55,sep='')\n",
    "print(bycomp.sum())"
   ]
  },
  {
   "cell_type": "markdown",
   "id": "23b311e1",
   "metadata": {},
   "source": [
    "CONCATING DATAFRAMES"
   ]
  },
  {
   "cell_type": "code",
   "execution_count": null,
   "id": "c19accd9",
   "metadata": {},
   "outputs": [
    {
     "data": {
      "text/html": [
       "<div>\n",
       "<style scoped>\n",
       "    .dataframe tbody tr th:only-of-type {\n",
       "        vertical-align: middle;\n",
       "    }\n",
       "\n",
       "    .dataframe tbody tr th {\n",
       "        vertical-align: top;\n",
       "    }\n",
       "\n",
       "    .dataframe thead th {\n",
       "        text-align: right;\n",
       "    }\n",
       "</style>\n",
       "<table border=\"1\" class=\"dataframe\">\n",
       "  <thead>\n",
       "    <tr style=\"text-align: right;\">\n",
       "      <th></th>\n",
       "      <th>mat</th>\n",
       "      <th>eng</th>\n",
       "      <th>sci</th>\n",
       "      <th>chem</th>\n",
       "    </tr>\n",
       "  </thead>\n",
       "  <tbody>\n",
       "    <tr>\n",
       "      <th>diya</th>\n",
       "      <td>40</td>\n",
       "      <td>11</td>\n",
       "      <td>78</td>\n",
       "      <td>26</td>\n",
       "    </tr>\n",
       "    <tr>\n",
       "      <th>riya</th>\n",
       "      <td>50</td>\n",
       "      <td>77</td>\n",
       "      <td>45</td>\n",
       "      <td>89</td>\n",
       "    </tr>\n",
       "    <tr>\n",
       "      <th>shyam</th>\n",
       "      <td>60</td>\n",
       "      <td>88</td>\n",
       "      <td>12</td>\n",
       "      <td>36</td>\n",
       "    </tr>\n",
       "    <tr>\n",
       "      <th>kana</th>\n",
       "      <td>70</td>\n",
       "      <td>99</td>\n",
       "      <td>52</td>\n",
       "      <td>89</td>\n",
       "    </tr>\n",
       "  </tbody>\n",
       "</table>\n",
       "</div>"
      ],
      "text/plain": [
       "       mat  eng  sci  chem\n",
       "diya    40   11   78    26\n",
       "riya    50   77   45    89\n",
       "shyam   60   88   12    36\n",
       "kana    70   99   52    89"
      ]
     },
     "execution_count": 27,
     "metadata": {},
     "output_type": "execute_result"
    }
   ],
   "source": [
    "df1=pd.DataFrame({'mat':[40,50,60,70],\n",
    "                 'eng':[11,77,88,99],\n",
    "                 'sci':[78,45,12,52],\n",
    "                 'chem':[26,89,36,89]},\n",
    "                index=['diya','riya','shyam','kana'])\n",
    "df1"
   ]
  },
  {
   "cell_type": "code",
   "execution_count": null,
   "id": "a8b37114",
   "metadata": {},
   "outputs": [
    {
     "data": {
      "text/html": [
       "<div>\n",
       "<style scoped>\n",
       "    .dataframe tbody tr th:only-of-type {\n",
       "        vertical-align: middle;\n",
       "    }\n",
       "\n",
       "    .dataframe tbody tr th {\n",
       "        vertical-align: top;\n",
       "    }\n",
       "\n",
       "    .dataframe thead th {\n",
       "        text-align: right;\n",
       "    }\n",
       "</style>\n",
       "<table border=\"1\" class=\"dataframe\">\n",
       "  <thead>\n",
       "    <tr style=\"text-align: right;\">\n",
       "      <th></th>\n",
       "      <th>mat</th>\n",
       "      <th>eng</th>\n",
       "      <th>sci</th>\n",
       "      <th>chem</th>\n",
       "    </tr>\n",
       "  </thead>\n",
       "  <tbody>\n",
       "    <tr>\n",
       "      <th>miya</th>\n",
       "      <td>11</td>\n",
       "      <td>66</td>\n",
       "      <td>81</td>\n",
       "      <td>26</td>\n",
       "    </tr>\n",
       "    <tr>\n",
       "      <th>bivi</th>\n",
       "      <td>22</td>\n",
       "      <td>87</td>\n",
       "      <td>87</td>\n",
       "      <td>89</td>\n",
       "    </tr>\n",
       "    <tr>\n",
       "      <th>raji</th>\n",
       "      <td>33</td>\n",
       "      <td>34</td>\n",
       "      <td>59</td>\n",
       "      <td>36</td>\n",
       "    </tr>\n",
       "    <tr>\n",
       "      <th>sis</th>\n",
       "      <td>44</td>\n",
       "      <td>66</td>\n",
       "      <td>85</td>\n",
       "      <td>89</td>\n",
       "    </tr>\n",
       "  </tbody>\n",
       "</table>\n",
       "</div>"
      ],
      "text/plain": [
       "      mat  eng  sci  chem\n",
       "miya   11   66   81    26\n",
       "bivi   22   87   87    89\n",
       "raji   33   34   59    36\n",
       "sis    44   66   85    89"
      ]
     },
     "execution_count": 28,
     "metadata": {},
     "output_type": "execute_result"
    }
   ],
   "source": [
    "df2=pd.DataFrame({'mat':[11,22,33,44],\n",
    "                 'eng':[66,87,34,66],\n",
    "                 'sci':[81,87,59,85],\n",
    "                 'chem':[26,89,36,89]},\n",
    "                index=['miya','bivi','raji','sis'])\n",
    "df2"
   ]
  },
  {
   "cell_type": "code",
   "execution_count": null,
   "id": "b54f92bd",
   "metadata": {},
   "outputs": [
    {
     "name": "stdout",
     "output_type": "stream",
     "text": [
      "\n",
      "after concatenation along row\n",
      "------------------------------\n",
      "       mat  eng  sci  chem\n",
      "diya    40   11   78    26\n",
      "riya    50   77   45    89\n",
      "shyam   60   88   12    36\n",
      "kana    70   99   52    89\n",
      "miya    11   66   81    26\n",
      "bivi    22   87   87    89\n",
      "raji    33   34   59    36\n",
      "sis     44   66   85    89\n"
     ]
    }
   ],
   "source": [
    "df_cat1=pd.concat([df1,df2],axis=0)\n",
    "print(\"\\nafter concatenation along row\\n\",'-'*30,sep='')\n",
    "print(df_cat1)"
   ]
  },
  {
   "cell_type": "code",
   "execution_count": null,
   "id": "1d493ab6",
   "metadata": {},
   "outputs": [
    {
     "name": "stdout",
     "output_type": "stream",
     "text": [
      "\n",
      "after concatenation along column\n",
      "------------------------------------------------------------\n",
      "        mat   eng   sci  chem   mat   eng   sci  chem\n",
      "diya   40.0  11.0  78.0  26.0   NaN   NaN   NaN   NaN\n",
      "riya   50.0  77.0  45.0  89.0   NaN   NaN   NaN   NaN\n",
      "shyam  60.0  88.0  12.0  36.0   NaN   NaN   NaN   NaN\n",
      "kana   70.0  99.0  52.0  89.0   NaN   NaN   NaN   NaN\n",
      "miya    NaN   NaN   NaN   NaN  11.0  66.0  81.0  26.0\n",
      "bivi    NaN   NaN   NaN   NaN  22.0  87.0  87.0  89.0\n",
      "raji    NaN   NaN   NaN   NaN  33.0  34.0  59.0  36.0\n",
      "sis     NaN   NaN   NaN   NaN  44.0  66.0  85.0  89.0\n"
     ]
    }
   ],
   "source": [
    "df_cat2=pd.concat([df1,df2],axis=1)\n",
    "print(\"\\nafter concatenation along column\\n\",'-'*60,sep='')\n",
    "print(df_cat2)"
   ]
  },
  {
   "cell_type": "code",
   "execution_count": null,
   "id": "364dbd8f",
   "metadata": {},
   "outputs": [
    {
     "data": {
      "text/html": [
       "<div>\n",
       "<style scoped>\n",
       "    .dataframe tbody tr th:only-of-type {\n",
       "        vertical-align: middle;\n",
       "    }\n",
       "\n",
       "    .dataframe tbody tr th {\n",
       "        vertical-align: top;\n",
       "    }\n",
       "\n",
       "    .dataframe thead th {\n",
       "        text-align: right;\n",
       "    }\n",
       "</style>\n",
       "<table border=\"1\" class=\"dataframe\">\n",
       "  <thead>\n",
       "    <tr style=\"text-align: right;\">\n",
       "      <th></th>\n",
       "      <th>mat</th>\n",
       "      <th>eng</th>\n",
       "      <th>sci</th>\n",
       "      <th>chem</th>\n",
       "      <th>mat</th>\n",
       "      <th>eng</th>\n",
       "      <th>sci</th>\n",
       "      <th>chem</th>\n",
       "    </tr>\n",
       "  </thead>\n",
       "  <tbody>\n",
       "    <tr>\n",
       "      <th>diya</th>\n",
       "      <td>40.0</td>\n",
       "      <td>11.0</td>\n",
       "      <td>78.0</td>\n",
       "      <td>26.0</td>\n",
       "      <td>0.0</td>\n",
       "      <td>0.0</td>\n",
       "      <td>0.0</td>\n",
       "      <td>0.0</td>\n",
       "    </tr>\n",
       "    <tr>\n",
       "      <th>riya</th>\n",
       "      <td>50.0</td>\n",
       "      <td>77.0</td>\n",
       "      <td>45.0</td>\n",
       "      <td>89.0</td>\n",
       "      <td>0.0</td>\n",
       "      <td>0.0</td>\n",
       "      <td>0.0</td>\n",
       "      <td>0.0</td>\n",
       "    </tr>\n",
       "    <tr>\n",
       "      <th>shyam</th>\n",
       "      <td>60.0</td>\n",
       "      <td>88.0</td>\n",
       "      <td>12.0</td>\n",
       "      <td>36.0</td>\n",
       "      <td>0.0</td>\n",
       "      <td>0.0</td>\n",
       "      <td>0.0</td>\n",
       "      <td>0.0</td>\n",
       "    </tr>\n",
       "    <tr>\n",
       "      <th>kana</th>\n",
       "      <td>70.0</td>\n",
       "      <td>99.0</td>\n",
       "      <td>52.0</td>\n",
       "      <td>89.0</td>\n",
       "      <td>0.0</td>\n",
       "      <td>0.0</td>\n",
       "      <td>0.0</td>\n",
       "      <td>0.0</td>\n",
       "    </tr>\n",
       "    <tr>\n",
       "      <th>miya</th>\n",
       "      <td>0.0</td>\n",
       "      <td>0.0</td>\n",
       "      <td>0.0</td>\n",
       "      <td>0.0</td>\n",
       "      <td>11.0</td>\n",
       "      <td>66.0</td>\n",
       "      <td>81.0</td>\n",
       "      <td>26.0</td>\n",
       "    </tr>\n",
       "    <tr>\n",
       "      <th>bivi</th>\n",
       "      <td>0.0</td>\n",
       "      <td>0.0</td>\n",
       "      <td>0.0</td>\n",
       "      <td>0.0</td>\n",
       "      <td>22.0</td>\n",
       "      <td>87.0</td>\n",
       "      <td>87.0</td>\n",
       "      <td>89.0</td>\n",
       "    </tr>\n",
       "    <tr>\n",
       "      <th>raji</th>\n",
       "      <td>0.0</td>\n",
       "      <td>0.0</td>\n",
       "      <td>0.0</td>\n",
       "      <td>0.0</td>\n",
       "      <td>33.0</td>\n",
       "      <td>34.0</td>\n",
       "      <td>59.0</td>\n",
       "      <td>36.0</td>\n",
       "    </tr>\n",
       "    <tr>\n",
       "      <th>sis</th>\n",
       "      <td>0.0</td>\n",
       "      <td>0.0</td>\n",
       "      <td>0.0</td>\n",
       "      <td>0.0</td>\n",
       "      <td>44.0</td>\n",
       "      <td>66.0</td>\n",
       "      <td>85.0</td>\n",
       "      <td>89.0</td>\n",
       "    </tr>\n",
       "  </tbody>\n",
       "</table>\n",
       "</div>"
      ],
      "text/plain": [
       "        mat   eng   sci  chem   mat   eng   sci  chem\n",
       "diya   40.0  11.0  78.0  26.0   0.0   0.0   0.0   0.0\n",
       "riya   50.0  77.0  45.0  89.0   0.0   0.0   0.0   0.0\n",
       "shyam  60.0  88.0  12.0  36.0   0.0   0.0   0.0   0.0\n",
       "kana   70.0  99.0  52.0  89.0   0.0   0.0   0.0   0.0\n",
       "miya    0.0   0.0   0.0   0.0  11.0  66.0  81.0  26.0\n",
       "bivi    0.0   0.0   0.0   0.0  22.0  87.0  87.0  89.0\n",
       "raji    0.0   0.0   0.0   0.0  33.0  34.0  59.0  36.0\n",
       "sis     0.0   0.0   0.0   0.0  44.0  66.0  85.0  89.0"
      ]
     },
     "execution_count": 31,
     "metadata": {},
     "output_type": "execute_result"
    }
   ],
   "source": [
    "df_cat2.fillna(value=0,inplace=True)\n",
    "df_cat2"
   ]
  },
  {
   "cell_type": "code",
   "execution_count": null,
   "id": "b470623d",
   "metadata": {},
   "outputs": [],
   "source": [
    "left=pd.DataFrame({'key':['K0','K1','K2','K3'],\n",
    "                   'A':['A0','A1','A2','A3',],\n",
    "                   'B':['B0','B1','B2','B3',]})\n",
    "right=pd.DataFrame({'key':['K0','K1','K2','K3'],\n",
    "                   'C':['C0','C1','C2','C3',],\n",
    "                   'D':['D0','D1','D2','D3',]})"
   ]
  },
  {
   "cell_type": "code",
   "execution_count": null,
   "id": "dab621f1",
   "metadata": {},
   "outputs": [
    {
     "name": "stdout",
     "output_type": "stream",
     "text": [
      "\n",
      "The DataFrame 'left'\n",
      "------------------------------\n",
      "  key   A   B\n",
      "0  K0  A0  B0\n",
      "1  K1  A1  B1\n",
      "2  K2  A2  B2\n",
      "3  K3  A3  B3\n"
     ]
    }
   ],
   "source": [
    "print(\"\\nThe DataFrame 'left'\\n\",'-'*30,sep='')\n",
    "print(left)"
   ]
  },
  {
   "cell_type": "code",
   "execution_count": null,
   "id": "bbb5908c",
   "metadata": {},
   "outputs": [
    {
     "name": "stdout",
     "output_type": "stream",
     "text": [
      "\n",
      "The DataFrame 'right'\n",
      "------------------------------\n",
      "  key   C   D\n",
      "0  K0  C0  D0\n",
      "1  K1  C1  D1\n",
      "2  K2  C2  D2\n",
      "3  K3  C3  D3\n"
     ]
    }
   ],
   "source": [
    "print(\"\\nThe DataFrame 'right'\\n\",'-'*30,sep='')\n",
    "print(right)"
   ]
  },
  {
   "cell_type": "code",
   "execution_count": null,
   "id": "4841772e",
   "metadata": {},
   "outputs": [
    {
     "name": "stdout",
     "output_type": "stream",
     "text": [
      "\n",
      "After simple merging with 'inner' method\n",
      "--------------------------------------------------\n",
      "  key   A   B   C   D\n",
      "0  K0  A0  B0  C0  D0\n",
      "1  K1  A1  B1  C1  D1\n",
      "2  K2  A2  B2  C2  D2\n",
      "3  K3  A3  B3  C3  D3\n"
     ]
    }
   ],
   "source": [
    "merge1=pd.merge(left,right,how='inner',on='key')\n",
    "print(\"\\nAfter simple merging with 'inner' method\\n\",'-'*50,sep='')\n",
    "print(merge1)"
   ]
  },
  {
   "cell_type": "code",
   "execution_count": null,
   "id": "285b6f57",
   "metadata": {},
   "outputs": [],
   "source": [
    "left=pd.DataFrame({'A':['A0','A1','A2'],\n",
    "                   'B':['B0','B1','B2']},\n",
    "                   index=['K0','K1','K2'])\n",
    "                   \n",
    "right=pd.DataFrame({'C':['C0','C2','C3'],\n",
    "                    'D':['D0','D2','D3']},\n",
    "                   index=['K0','K2','K3'])                   "
   ]
  },
  {
   "cell_type": "code",
   "execution_count": null,
   "id": "4fcac3c5",
   "metadata": {},
   "outputs": [
    {
     "data": {
      "text/html": [
       "<div>\n",
       "<style scoped>\n",
       "    .dataframe tbody tr th:only-of-type {\n",
       "        vertical-align: middle;\n",
       "    }\n",
       "\n",
       "    .dataframe tbody tr th {\n",
       "        vertical-align: top;\n",
       "    }\n",
       "\n",
       "    .dataframe thead th {\n",
       "        text-align: right;\n",
       "    }\n",
       "</style>\n",
       "<table border=\"1\" class=\"dataframe\">\n",
       "  <thead>\n",
       "    <tr style=\"text-align: right;\">\n",
       "      <th></th>\n",
       "      <th>A</th>\n",
       "      <th>B</th>\n",
       "    </tr>\n",
       "  </thead>\n",
       "  <tbody>\n",
       "    <tr>\n",
       "      <th>K0</th>\n",
       "      <td>A0</td>\n",
       "      <td>B0</td>\n",
       "    </tr>\n",
       "    <tr>\n",
       "      <th>K1</th>\n",
       "      <td>A1</td>\n",
       "      <td>B1</td>\n",
       "    </tr>\n",
       "    <tr>\n",
       "      <th>K2</th>\n",
       "      <td>A2</td>\n",
       "      <td>B2</td>\n",
       "    </tr>\n",
       "  </tbody>\n",
       "</table>\n",
       "</div>"
      ],
      "text/plain": [
       "     A   B\n",
       "K0  A0  B0\n",
       "K1  A1  B1\n",
       "K2  A2  B2"
      ]
     },
     "execution_count": 37,
     "metadata": {},
     "output_type": "execute_result"
    }
   ],
   "source": [
    "left"
   ]
  },
  {
   "cell_type": "code",
   "execution_count": null,
   "id": "089db748",
   "metadata": {},
   "outputs": [
    {
     "data": {
      "text/html": [
       "<div>\n",
       "<style scoped>\n",
       "    .dataframe tbody tr th:only-of-type {\n",
       "        vertical-align: middle;\n",
       "    }\n",
       "\n",
       "    .dataframe tbody tr th {\n",
       "        vertical-align: top;\n",
       "    }\n",
       "\n",
       "    .dataframe thead th {\n",
       "        text-align: right;\n",
       "    }\n",
       "</style>\n",
       "<table border=\"1\" class=\"dataframe\">\n",
       "  <thead>\n",
       "    <tr style=\"text-align: right;\">\n",
       "      <th></th>\n",
       "      <th>C</th>\n",
       "      <th>D</th>\n",
       "    </tr>\n",
       "  </thead>\n",
       "  <tbody>\n",
       "    <tr>\n",
       "      <th>K0</th>\n",
       "      <td>C0</td>\n",
       "      <td>D0</td>\n",
       "    </tr>\n",
       "    <tr>\n",
       "      <th>K2</th>\n",
       "      <td>C2</td>\n",
       "      <td>D2</td>\n",
       "    </tr>\n",
       "    <tr>\n",
       "      <th>K3</th>\n",
       "      <td>C3</td>\n",
       "      <td>D3</td>\n",
       "    </tr>\n",
       "  </tbody>\n",
       "</table>\n",
       "</div>"
      ],
      "text/plain": [
       "     C   D\n",
       "K0  C0  D0\n",
       "K2  C2  D2\n",
       "K3  C3  D3"
      ]
     },
     "execution_count": 38,
     "metadata": {},
     "output_type": "execute_result"
    }
   ],
   "source": [
    "right"
   ]
  },
  {
   "cell_type": "code",
   "execution_count": null,
   "id": "91db2f6a",
   "metadata": {},
   "outputs": [
    {
     "data": {
      "text/html": [
       "<div>\n",
       "<style scoped>\n",
       "    .dataframe tbody tr th:only-of-type {\n",
       "        vertical-align: middle;\n",
       "    }\n",
       "\n",
       "    .dataframe tbody tr th {\n",
       "        vertical-align: top;\n",
       "    }\n",
       "\n",
       "    .dataframe thead th {\n",
       "        text-align: right;\n",
       "    }\n",
       "</style>\n",
       "<table border=\"1\" class=\"dataframe\">\n",
       "  <thead>\n",
       "    <tr style=\"text-align: right;\">\n",
       "      <th></th>\n",
       "      <th>A</th>\n",
       "      <th>B</th>\n",
       "      <th>C</th>\n",
       "      <th>D</th>\n",
       "    </tr>\n",
       "  </thead>\n",
       "  <tbody>\n",
       "    <tr>\n",
       "      <th>K0</th>\n",
       "      <td>A0</td>\n",
       "      <td>B0</td>\n",
       "      <td>C0</td>\n",
       "      <td>D0</td>\n",
       "    </tr>\n",
       "    <tr>\n",
       "      <th>K1</th>\n",
       "      <td>A1</td>\n",
       "      <td>B1</td>\n",
       "      <td>NaN</td>\n",
       "      <td>NaN</td>\n",
       "    </tr>\n",
       "    <tr>\n",
       "      <th>K2</th>\n",
       "      <td>A2</td>\n",
       "      <td>B2</td>\n",
       "      <td>C2</td>\n",
       "      <td>D2</td>\n",
       "    </tr>\n",
       "  </tbody>\n",
       "</table>\n",
       "</div>"
      ],
      "text/plain": [
       "     A   B    C    D\n",
       "K0  A0  B0   C0   D0\n",
       "K1  A1  B1  NaN  NaN\n",
       "K2  A2  B2   C2   D2"
      ]
     },
     "execution_count": 39,
     "metadata": {},
     "output_type": "execute_result"
    }
   ],
   "source": [
    "left.join(right)"
   ]
  },
  {
   "cell_type": "code",
   "execution_count": null,
   "id": "569db4e2",
   "metadata": {},
   "outputs": [
    {
     "data": {
      "text/html": [
       "<div>\n",
       "<style scoped>\n",
       "    .dataframe tbody tr th:only-of-type {\n",
       "        vertical-align: middle;\n",
       "    }\n",
       "\n",
       "    .dataframe tbody tr th {\n",
       "        vertical-align: top;\n",
       "    }\n",
       "\n",
       "    .dataframe thead th {\n",
       "        text-align: right;\n",
       "    }\n",
       "</style>\n",
       "<table border=\"1\" class=\"dataframe\">\n",
       "  <thead>\n",
       "    <tr style=\"text-align: right;\">\n",
       "      <th></th>\n",
       "      <th>A</th>\n",
       "      <th>B</th>\n",
       "      <th>C</th>\n",
       "      <th>D</th>\n",
       "    </tr>\n",
       "  </thead>\n",
       "  <tbody>\n",
       "    <tr>\n",
       "      <th>K0</th>\n",
       "      <td>A0</td>\n",
       "      <td>B0</td>\n",
       "      <td>C0</td>\n",
       "      <td>D0</td>\n",
       "    </tr>\n",
       "    <tr>\n",
       "      <th>K1</th>\n",
       "      <td>A1</td>\n",
       "      <td>B1</td>\n",
       "      <td>NaN</td>\n",
       "      <td>NaN</td>\n",
       "    </tr>\n",
       "    <tr>\n",
       "      <th>K2</th>\n",
       "      <td>A2</td>\n",
       "      <td>B2</td>\n",
       "      <td>C2</td>\n",
       "      <td>D2</td>\n",
       "    </tr>\n",
       "    <tr>\n",
       "      <th>K3</th>\n",
       "      <td>NaN</td>\n",
       "      <td>NaN</td>\n",
       "      <td>C3</td>\n",
       "      <td>D3</td>\n",
       "    </tr>\n",
       "  </tbody>\n",
       "</table>\n",
       "</div>"
      ],
      "text/plain": [
       "      A    B    C    D\n",
       "K0   A0   B0   C0   D0\n",
       "K1   A1   B1  NaN  NaN\n",
       "K2   A2   B2   C2   D2\n",
       "K3  NaN  NaN   C3   D3"
      ]
     },
     "execution_count": 40,
     "metadata": {},
     "output_type": "execute_result"
    }
   ],
   "source": [
    "left.join(right,how='outer')"
   ]
  },
  {
   "cell_type": "markdown",
   "id": "3014d8b4",
   "metadata": {},
   "source": [
    "DATA MAINPULATION"
   ]
  },
  {
   "cell_type": "code",
   "execution_count": null,
   "id": "724565a4",
   "metadata": {},
   "outputs": [],
   "source": [
    "def salary_hike(x):\n",
    "    if (x > 3000):\n",
    "        return np.ceil(x+(x*.30))\n",
    "    else:\n",
    "        return np.ceil(x*1.5)"
   ]
  },
  {
   "cell_type": "code",
   "execution_count": null,
   "id": "3ddc6169",
   "metadata": {},
   "outputs": [
    {
     "data": {
      "text/html": [
       "<div>\n",
       "<style scoped>\n",
       "    .dataframe tbody tr th:only-of-type {\n",
       "        vertical-align: middle;\n",
       "    }\n",
       "\n",
       "    .dataframe tbody tr th {\n",
       "        vertical-align: top;\n",
       "    }\n",
       "\n",
       "    .dataframe thead th {\n",
       "        text-align: right;\n",
       "    }\n",
       "</style>\n",
       "<table border=\"1\" class=\"dataframe\">\n",
       "  <thead>\n",
       "    <tr style=\"text-align: right;\">\n",
       "      <th></th>\n",
       "      <th>Dept</th>\n",
       "      <th>Emp_name</th>\n",
       "      <th>Salary</th>\n",
       "    </tr>\n",
       "  </thead>\n",
       "  <tbody>\n",
       "    <tr>\n",
       "      <th>0</th>\n",
       "      <td>1</td>\n",
       "      <td>raju</td>\n",
       "      <td>1111</td>\n",
       "    </tr>\n",
       "    <tr>\n",
       "      <th>1</th>\n",
       "      <td>2</td>\n",
       "      <td>kanu</td>\n",
       "      <td>2222</td>\n",
       "    </tr>\n",
       "    <tr>\n",
       "      <th>2</th>\n",
       "      <td>3</td>\n",
       "      <td>seju</td>\n",
       "      <td>3333</td>\n",
       "    </tr>\n",
       "    <tr>\n",
       "      <th>3</th>\n",
       "      <td>4</td>\n",
       "      <td>papu</td>\n",
       "      <td>4444</td>\n",
       "    </tr>\n",
       "    <tr>\n",
       "      <th>4</th>\n",
       "      <td>5</td>\n",
       "      <td>sanju</td>\n",
       "      <td>5555</td>\n",
       "    </tr>\n",
       "    <tr>\n",
       "      <th>5</th>\n",
       "      <td>6</td>\n",
       "      <td>salu</td>\n",
       "      <td>6666</td>\n",
       "    </tr>\n",
       "    <tr>\n",
       "      <th>6</th>\n",
       "      <td>7</td>\n",
       "      <td>ashu</td>\n",
       "      <td>7777</td>\n",
       "    </tr>\n",
       "    <tr>\n",
       "      <th>7</th>\n",
       "      <td>8</td>\n",
       "      <td>akshay</td>\n",
       "      <td>8888</td>\n",
       "    </tr>\n",
       "    <tr>\n",
       "      <th>8</th>\n",
       "      <td>9</td>\n",
       "      <td>monu</td>\n",
       "      <td>9999</td>\n",
       "    </tr>\n",
       "    <tr>\n",
       "      <th>9</th>\n",
       "      <td>10</td>\n",
       "      <td>motu</td>\n",
       "      <td>10000</td>\n",
       "    </tr>\n",
       "  </tbody>\n",
       "</table>\n",
       "</div>"
      ],
      "text/plain": [
       "   Dept Emp_name  Salary\n",
       "0     1     raju    1111\n",
       "1     2     kanu    2222\n",
       "2     3     seju    3333\n",
       "3     4     papu    4444\n",
       "4     5    sanju    5555\n",
       "5     6     salu    6666\n",
       "6     7     ashu    7777\n",
       "7     8   akshay    8888\n",
       "8     9     monu    9999\n",
       "9    10     motu   10000"
      ]
     },
     "execution_count": 63,
     "metadata": {},
     "output_type": "execute_result"
    }
   ],
   "source": [
    "df=pd.DataFrame({'Dept':[1,2,3,4,5,6,7,8,9,10],\n",
    "                'Emp_name':['raju','kanu','seju','papu','sanju','salu','ashu','akshay','monu','motu'],\n",
    "                'Salary':[1111,2222,3333,4444,5555,6666,7777,8888,9999,10000]})\n",
    "df"
   ]
  },
  {
   "cell_type": "code",
   "execution_count": null,
   "id": "bd466d7e",
   "metadata": {},
   "outputs": [
    {
     "name": "stdout",
     "output_type": "stream",
     "text": [
      "   Dept Emp_name  Salary  New_Salary\n",
      "0     1     raju    1111      1667.0\n",
      "1     2     kanu    2222      3333.0\n",
      "2     3     seju    3333      4333.0\n",
      "3     4     papu    4444      5778.0\n",
      "4     5    sanju    5555      7222.0\n",
      "5     6     salu    6666      8666.0\n",
      "6     7     ashu    7777     10111.0\n",
      "7     8   akshay    8888     11555.0\n",
      "8     9     monu    9999     12999.0\n",
      "9    10     motu   10000     13000.0\n"
     ]
    }
   ],
   "source": [
    "df['New_Salary']=df['Salary'].apply(salary_hike)\n",
    "print(df)"
   ]
  },
  {
   "cell_type": "code",
   "execution_count": null,
   "id": "f4981789",
   "metadata": {},
   "outputs": [
    {
     "name": "stdout",
     "output_type": "stream",
     "text": [
      "   Dept Emp_name  Salary  New_Salary  Name_length\n",
      "0     1     raju    1111      1667.0            4\n",
      "1     2     kanu    2222      3333.0            4\n",
      "2     3     seju    3333      4333.0            4\n",
      "3     4     papu    4444      5778.0            4\n",
      "4     5    sanju    5555      7222.0            5\n",
      "5     6     salu    6666      8666.0            4\n",
      "6     7     ashu    7777     10111.0            4\n",
      "7     8   akshay    8888     11555.0            6\n",
      "8     9     monu    9999     12999.0            4\n",
      "9    10     motu   10000     13000.0            4\n"
     ]
    }
   ],
   "source": [
    "df['Name_length']=df['Emp_name'].apply(len)\n",
    "print(df)"
   ]
  },
  {
   "cell_type": "code",
   "execution_count": null,
   "id": "0b81278b",
   "metadata": {},
   "outputs": [
    {
     "data": {
      "text/plain": [
       "0     40.828911\n",
       "1     57.732140\n",
       "2     65.825527\n",
       "3     76.013157\n",
       "4     84.982351\n",
       "5     93.091353\n",
       "6    100.553468\n",
       "7    107.494186\n",
       "8    114.013157\n",
       "9    114.017543\n",
       "Name: New_Salary, dtype: float64"
      ]
     },
     "execution_count": 71,
     "metadata": {},
     "output_type": "execute_result"
    }
   ],
   "source": [
    "df['New_Salary'].apply(lambda x:np.sqrt(x))"
   ]
  },
  {
   "cell_type": "code",
   "execution_count": null,
   "id": "2d8cc701",
   "metadata": {},
   "outputs": [
    {
     "name": "stdout",
     "output_type": "stream",
     "text": [
      "\n",
      "sum of the column 'New_Salary' is:  78664.0\n"
     ]
    }
   ],
   "source": [
    "print(\"\\nsum of the column 'New_Salary' is: \",df['New_Salary'].sum())"
   ]
  },
  {
   "cell_type": "code",
   "execution_count": null,
   "id": "ccc55383",
   "metadata": {},
   "outputs": [
    {
     "name": "stdout",
     "output_type": "stream",
     "text": [
      "\n",
      "sum of the column 'New_Salary' are:  1667.0 and 13000.0\n"
     ]
    }
   ],
   "source": [
    "print(\"\\nsum of the column 'New_Salary' are: \",df['New_Salary'].min(),\"and\",df['New_Salary'].max())"
   ]
  },
  {
   "cell_type": "code",
   "execution_count": null,
   "id": "d70f1387",
   "metadata": {},
   "outputs": [
    {
     "name": "stdout",
     "output_type": "stream",
     "text": [
      "\n",
      "Name of columns\n",
      "____________________\n",
      "Index(['Dept', 'Emp_name', 'Salary', 'New_Salary', 'Name_length'], dtype='object')\n"
     ]
    }
   ],
   "source": [
    "print(\"\\nName of columns\\n\",'_'*20,sep='')\n",
    "print(df.columns)"
   ]
  },
  {
   "cell_type": "markdown",
   "id": "d723855c",
   "metadata": {},
   "source": [
    "FINDING NULL VALUE"
   ]
  },
  {
   "cell_type": "code",
   "execution_count": null,
   "id": "1390f42e",
   "metadata": {},
   "outputs": [
    {
     "name": "stderr",
     "output_type": "stream",
     "text": [
      "C:\\Users\\paksh\\AppData\\Local\\Temp\\ipykernel_6276\\1911526817.py:1: FutureWarning: Could not cast to int32, falling back to object. This behavior is deprecated. In a future version, when a dtype is passed to 'DataFrame', either all columns will be cast to that dtype, or a TypeError will be raised.\n",
      "  df=pd.DataFrame({'name':['ramesh','raghav',np.nan,np.nan],\n"
     ]
    },
    {
     "data": {
      "text/html": [
       "<div>\n",
       "<style scoped>\n",
       "    .dataframe tbody tr th:only-of-type {\n",
       "        vertical-align: middle;\n",
       "    }\n",
       "\n",
       "    .dataframe tbody tr th {\n",
       "        vertical-align: top;\n",
       "    }\n",
       "\n",
       "    .dataframe thead th {\n",
       "        text-align: right;\n",
       "    }\n",
       "</style>\n",
       "<table border=\"1\" class=\"dataframe\">\n",
       "  <thead>\n",
       "    <tr style=\"text-align: right;\">\n",
       "      <th></th>\n",
       "      <th>name</th>\n",
       "      <th>gender</th>\n",
       "      <th>section</th>\n",
       "      <th>class</th>\n",
       "      <th>phone number</th>\n",
       "      <th>location</th>\n",
       "      <th>email</th>\n",
       "      <th>door number</th>\n",
       "      <th>street_name</th>\n",
       "      <th>pin code</th>\n",
       "      <th>state</th>\n",
       "      <th>dad name</th>\n",
       "    </tr>\n",
       "  </thead>\n",
       "  <tbody>\n",
       "    <tr>\n",
       "      <th>0</th>\n",
       "      <td>ramesh</td>\n",
       "      <td>NaN</td>\n",
       "      <td>a</td>\n",
       "      <td>5</td>\n",
       "      <td>NaN</td>\n",
       "      <td>india</td>\n",
       "      <td>a</td>\n",
       "      <td>111</td>\n",
       "      <td>abc</td>\n",
       "      <td>5</td>\n",
       "      <td>NaN</td>\n",
       "      <td>dfg</td>\n",
       "    </tr>\n",
       "    <tr>\n",
       "      <th>1</th>\n",
       "      <td>raghav</td>\n",
       "      <td>M</td>\n",
       "      <td>b</td>\n",
       "      <td>12</td>\n",
       "      <td>NaN</td>\n",
       "      <td>bangaluru</td>\n",
       "      <td>b</td>\n",
       "      <td>555</td>\n",
       "      <td>def</td>\n",
       "      <td>75</td>\n",
       "      <td>xyz</td>\n",
       "      <td>sdf</td>\n",
       "    </tr>\n",
       "    <tr>\n",
       "      <th>2</th>\n",
       "      <td>NaN</td>\n",
       "      <td>M</td>\n",
       "      <td>c</td>\n",
       "      <td>NaN</td>\n",
       "      <td>12345678</td>\n",
       "      <td>NaN</td>\n",
       "      <td>NaN</td>\n",
       "      <td>NaN</td>\n",
       "      <td>ghi</td>\n",
       "      <td>NaN</td>\n",
       "      <td>ghi</td>\n",
       "      <td>NaN</td>\n",
       "    </tr>\n",
       "    <tr>\n",
       "      <th>3</th>\n",
       "      <td>NaN</td>\n",
       "      <td>F</td>\n",
       "      <td>d</td>\n",
       "      <td>NaN</td>\n",
       "      <td>8745612</td>\n",
       "      <td>gujarat</td>\n",
       "      <td>NaN</td>\n",
       "      <td>NaN</td>\n",
       "      <td>jkl</td>\n",
       "      <td>NaN</td>\n",
       "      <td>NaN</td>\n",
       "      <td>cfy</td>\n",
       "    </tr>\n",
       "  </tbody>\n",
       "</table>\n",
       "</div>"
      ],
      "text/plain": [
       "     name gender section class phone number   location email door number  \\\n",
       "0  ramesh    NaN       a     5          NaN      india     a         111   \n",
       "1  raghav      M       b    12          NaN  bangaluru     b         555   \n",
       "2     NaN      M       c   NaN     12345678        NaN   NaN         NaN   \n",
       "3     NaN      F       d   NaN      8745612    gujarat   NaN         NaN   \n",
       "\n",
       "  street_name pin code state dad name  \n",
       "0         abc        5   NaN      dfg  \n",
       "1         def       75   xyz      sdf  \n",
       "2         ghi      NaN   ghi      NaN  \n",
       "3         jkl      NaN   NaN      cfy  "
      ]
     },
     "execution_count": 77,
     "metadata": {},
     "output_type": "execute_result"
    }
   ],
   "source": [
    "df=pd.DataFrame({'name':['ramesh','raghav',np.nan,np.nan],\n",
    "                'gender':[np.nan,'M','M','F'],\n",
    "                'section':['a','b','c','d'],\n",
    "                'class':[5,12,np.nan,np.nan],\n",
    "                'phone number':[np.nan,np.nan,12345678,8745612],\n",
    "                'location':['india','bangaluru',np.nan,'gujarat'],\n",
    "                'email':['a','b',np.nan,np.nan],\n",
    "                'door number':[111,555,np.nan,np.nan],\n",
    "                'street_name':['abc','def','ghi','jkl'],\n",
    "                'pin code':[5,75,np.nan,np.nan],\n",
    "                'state':[np.nan,'xyz','ghi',np.nan],\n",
    "                'dad name':['dfg','sdf',np.nan,'cfy']},dtype=int)\n",
    "df"
   ]
  },
  {
   "cell_type": "code",
   "execution_count": null,
   "id": "5e63bd22",
   "metadata": {},
   "outputs": [
    {
     "data": {
      "text/plain": [
       "name            2\n",
       "gender          1\n",
       "section         0\n",
       "class           2\n",
       "phone number    2\n",
       "location        1\n",
       "email           2\n",
       "door number     2\n",
       "street_name     0\n",
       "pin code        2\n",
       "state           2\n",
       "dad name        1\n",
       "dtype: int64"
      ]
     },
     "execution_count": 78,
     "metadata": {},
     "output_type": "execute_result"
    }
   ],
   "source": [
    "df.isnull().sum()"
   ]
  },
  {
   "cell_type": "markdown",
   "id": "3ac4ed16",
   "metadata": {},
   "source": [
    "CSV FILE CRATE"
   ]
  },
  {
   "cell_type": "code",
   "execution_count": null,
   "id": "bc96c3a5",
   "metadata": {},
   "outputs": [
    {
     "name": "stdout",
     "output_type": "stream",
     "text": [
      "     male  101  45\n",
      "0  female  102  67\n",
      "1    male  103  98\n",
      "2  female  104  52\n",
      "3    male  105  85\n"
     ]
    }
   ],
   "source": [
    "import pandas as pd\n",
    "#df=pd.read_csv(\"c:\\myfolder\\empl.csv\")\n",
    "\n",
    "df=pd.read_csv(\"empl.csv\")\n",
    "print(df)"
   ]
  },
  {
   "cell_type": "markdown",
   "id": "7ac02480",
   "metadata": {},
   "source": [
    "DATA CLEANING"
   ]
  },
  {
   "cell_type": "code",
   "execution_count": null,
   "id": "3687dbd2",
   "metadata": {},
   "outputs": [],
   "source": [
    "import numpy as np\n",
    "import pandas as pd"
   ]
  },
  {
   "cell_type": "code",
   "execution_count": null,
   "id": "1cc12387",
   "metadata": {},
   "outputs": [
    {
     "data": {
      "text/plain": [
       "array([ 1., nan,  7.,  1.,  8.])"
      ]
     },
     "execution_count": 2,
     "metadata": {},
     "output_type": "execute_result"
    }
   ],
   "source": [
    "vall=np.array([1,np.nan,7,1,8])\n",
    "vall"
   ]
  },
  {
   "cell_type": "code",
   "execution_count": null,
   "id": "76064203",
   "metadata": {},
   "outputs": [
    {
     "data": {
      "text/plain": [
       "nan"
      ]
     },
     "execution_count": 3,
     "metadata": {},
     "output_type": "execute_result"
    }
   ],
   "source": [
    "6+np.nan"
   ]
  },
  {
   "cell_type": "code",
   "execution_count": null,
   "id": "18c8e9b5",
   "metadata": {},
   "outputs": [
    {
     "data": {
      "text/plain": [
       "nan"
      ]
     },
     "execution_count": 4,
     "metadata": {},
     "output_type": "execute_result"
    }
   ],
   "source": [
    "7*np.nan"
   ]
  },
  {
   "cell_type": "code",
   "execution_count": null,
   "id": "17016b01",
   "metadata": {},
   "outputs": [
    {
     "data": {
      "text/plain": [
       "17.0"
      ]
     },
     "execution_count": 5,
     "metadata": {},
     "output_type": "execute_result"
    }
   ],
   "source": [
    "np.nansum(vall)"
   ]
  },
  {
   "cell_type": "markdown",
   "id": "61e1a9d6",
   "metadata": {},
   "source": [
    "NAN AND NONE IN PANDAS"
   ]
  },
  {
   "cell_type": "code",
   "execution_count": null,
   "id": "af51dcf8",
   "metadata": {},
   "outputs": [
    {
     "data": {
      "text/plain": [
       "0    1.0\n",
       "1    NaN\n",
       "2    2.0\n",
       "3    NaN\n",
       "dtype: float64"
      ]
     },
     "execution_count": 8,
     "metadata": {},
     "output_type": "execute_result"
    }
   ],
   "source": [
    "pd.Series([1,np.nan,2,None])"
   ]
  },
  {
   "cell_type": "markdown",
   "id": "33cf2f43",
   "metadata": {},
   "source": [
    "CREATE DATAFRAME WITH MISSING VALUES"
   ]
  },
  {
   "cell_type": "code",
   "execution_count": null,
   "id": "e59dd0a3",
   "metadata": {},
   "outputs": [
    {
     "data": {
      "text/html": [
       "<div>\n",
       "<style scoped>\n",
       "    .dataframe tbody tr th:only-of-type {\n",
       "        vertical-align: middle;\n",
       "    }\n",
       "\n",
       "    .dataframe tbody tr th {\n",
       "        vertical-align: top;\n",
       "    }\n",
       "\n",
       "    .dataframe thead th {\n",
       "        text-align: right;\n",
       "    }\n",
       "</style>\n",
       "<table border=\"1\" class=\"dataframe\">\n",
       "  <thead>\n",
       "    <tr style=\"text-align: right;\">\n",
       "      <th></th>\n",
       "      <th>first name</th>\n",
       "      <th>last name</th>\n",
       "      <th>age</th>\n",
       "      <th>sex</th>\n",
       "      <th>unit 1</th>\n",
       "      <th>unit 2</th>\n",
       "    </tr>\n",
       "  </thead>\n",
       "  <tbody>\n",
       "    <tr>\n",
       "      <th>0</th>\n",
       "      <td>ina</td>\n",
       "      <td>miller</td>\n",
       "      <td>42.0</td>\n",
       "      <td>M</td>\n",
       "      <td>4.0</td>\n",
       "      <td>NaN</td>\n",
       "    </tr>\n",
       "    <tr>\n",
       "      <th>1</th>\n",
       "      <td>NaN</td>\n",
       "      <td>NaN</td>\n",
       "      <td>NaN</td>\n",
       "      <td>NaN</td>\n",
       "      <td>NaN</td>\n",
       "      <td>NaN</td>\n",
       "    </tr>\n",
       "    <tr>\n",
       "      <th>2</th>\n",
       "      <td>mina</td>\n",
       "      <td>ali</td>\n",
       "      <td>49.0</td>\n",
       "      <td>F</td>\n",
       "      <td>NaN</td>\n",
       "      <td>NaN</td>\n",
       "    </tr>\n",
       "    <tr>\n",
       "      <th>3</th>\n",
       "      <td>tina</td>\n",
       "      <td>milner</td>\n",
       "      <td>78.0</td>\n",
       "      <td>M</td>\n",
       "      <td>8.0</td>\n",
       "      <td>NaN</td>\n",
       "    </tr>\n",
       "    <tr>\n",
       "      <th>4</th>\n",
       "      <td>amy</td>\n",
       "      <td>cooze</td>\n",
       "      <td>96.0</td>\n",
       "      <td>F</td>\n",
       "      <td>9.0</td>\n",
       "      <td>NaN</td>\n",
       "    </tr>\n",
       "    <tr>\n",
       "      <th>5</th>\n",
       "      <td>madhu</td>\n",
       "      <td>patil</td>\n",
       "      <td>15.0</td>\n",
       "      <td>F</td>\n",
       "      <td>4.0</td>\n",
       "      <td>NaN</td>\n",
       "    </tr>\n",
       "  </tbody>\n",
       "</table>\n",
       "</div>"
      ],
      "text/plain": [
       "  first name last name   age  sex  unit 1 unit 2\n",
       "0        ina    miller  42.0    M     4.0    NaN\n",
       "1        NaN       NaN   NaN  NaN     NaN    NaN\n",
       "2       mina       ali  49.0    F     NaN    NaN\n",
       "3       tina    milner  78.0    M     8.0    NaN\n",
       "4        amy     cooze  96.0    F     9.0    NaN\n",
       "5      madhu     patil  15.0    F     4.0    NaN"
      ]
     },
     "execution_count": 9,
     "metadata": {},
     "output_type": "execute_result"
    }
   ],
   "source": [
    "raw_data={'first name':['ina',np.nan,'mina','tina','amy','madhu'],\n",
    "         'last name':['miller',np.nan,'ali','milner','cooze','patil'],\n",
    "         'age':[42,np.nan,49,78,96,15],\n",
    "         'sex':['M',np.nan,'F','M','F','F'],\n",
    "         'unit 1':[4,np.nan,np.nan,8,9,4],\n",
    "         'umit 2':[3,np.nan,8,5,2,4]}\n",
    "df=pd.DataFrame(raw_data,columns=['first name','last name','age','sex','unit 1','unit 2'])\n",
    "df"
   ]
  },
  {
   "cell_type": "markdown",
   "id": "03c27c57",
   "metadata": {},
   "source": [
    "DROP MISSING OBESRVATION"
   ]
  },
  {
   "cell_type": "code",
   "execution_count": null,
   "id": "15566ffd",
   "metadata": {},
   "outputs": [
    {
     "data": {
      "text/html": [
       "<div>\n",
       "<style scoped>\n",
       "    .dataframe tbody tr th:only-of-type {\n",
       "        vertical-align: middle;\n",
       "    }\n",
       "\n",
       "    .dataframe tbody tr th {\n",
       "        vertical-align: top;\n",
       "    }\n",
       "\n",
       "    .dataframe thead th {\n",
       "        text-align: right;\n",
       "    }\n",
       "</style>\n",
       "<table border=\"1\" class=\"dataframe\">\n",
       "  <thead>\n",
       "    <tr style=\"text-align: right;\">\n",
       "      <th></th>\n",
       "      <th>first name</th>\n",
       "      <th>last name</th>\n",
       "      <th>age</th>\n",
       "      <th>sex</th>\n",
       "      <th>unit 1</th>\n",
       "      <th>unit 2</th>\n",
       "    </tr>\n",
       "  </thead>\n",
       "  <tbody>\n",
       "  </tbody>\n",
       "</table>\n",
       "</div>"
      ],
      "text/plain": [
       "Empty DataFrame\n",
       "Columns: [first name, last name, age, sex, unit 1, unit 2]\n",
       "Index: []"
      ]
     },
     "execution_count": 11,
     "metadata": {},
     "output_type": "execute_result"
    }
   ],
   "source": [
    "df_no_missing=df.dropna()\n",
    "df_no_missing"
   ]
  },
  {
   "cell_type": "code",
   "execution_count": null,
   "id": "5c720496",
   "metadata": {},
   "outputs": [
    {
     "data": {
      "text/html": [
       "<div>\n",
       "<style scoped>\n",
       "    .dataframe tbody tr th:only-of-type {\n",
       "        vertical-align: middle;\n",
       "    }\n",
       "\n",
       "    .dataframe tbody tr th {\n",
       "        vertical-align: top;\n",
       "    }\n",
       "\n",
       "    .dataframe thead th {\n",
       "        text-align: right;\n",
       "    }\n",
       "</style>\n",
       "<table border=\"1\" class=\"dataframe\">\n",
       "  <thead>\n",
       "    <tr style=\"text-align: right;\">\n",
       "      <th></th>\n",
       "      <th>first name</th>\n",
       "      <th>last name</th>\n",
       "      <th>age</th>\n",
       "      <th>sex</th>\n",
       "      <th>unit 1</th>\n",
       "      <th>unit 2</th>\n",
       "    </tr>\n",
       "  </thead>\n",
       "  <tbody>\n",
       "    <tr>\n",
       "      <th>0</th>\n",
       "      <td>ina</td>\n",
       "      <td>miller</td>\n",
       "      <td>42.0</td>\n",
       "      <td>M</td>\n",
       "      <td>4.0</td>\n",
       "      <td>NaN</td>\n",
       "    </tr>\n",
       "    <tr>\n",
       "      <th>1</th>\n",
       "      <td>NaN</td>\n",
       "      <td>NaN</td>\n",
       "      <td>NaN</td>\n",
       "      <td>NaN</td>\n",
       "      <td>NaN</td>\n",
       "      <td>NaN</td>\n",
       "    </tr>\n",
       "    <tr>\n",
       "      <th>2</th>\n",
       "      <td>mina</td>\n",
       "      <td>ali</td>\n",
       "      <td>49.0</td>\n",
       "      <td>F</td>\n",
       "      <td>NaN</td>\n",
       "      <td>NaN</td>\n",
       "    </tr>\n",
       "    <tr>\n",
       "      <th>3</th>\n",
       "      <td>tina</td>\n",
       "      <td>milner</td>\n",
       "      <td>78.0</td>\n",
       "      <td>M</td>\n",
       "      <td>8.0</td>\n",
       "      <td>NaN</td>\n",
       "    </tr>\n",
       "    <tr>\n",
       "      <th>4</th>\n",
       "      <td>amy</td>\n",
       "      <td>cooze</td>\n",
       "      <td>96.0</td>\n",
       "      <td>F</td>\n",
       "      <td>9.0</td>\n",
       "      <td>NaN</td>\n",
       "    </tr>\n",
       "    <tr>\n",
       "      <th>5</th>\n",
       "      <td>madhu</td>\n",
       "      <td>patil</td>\n",
       "      <td>15.0</td>\n",
       "      <td>F</td>\n",
       "      <td>4.0</td>\n",
       "      <td>NaN</td>\n",
       "    </tr>\n",
       "  </tbody>\n",
       "</table>\n",
       "</div>"
      ],
      "text/plain": [
       "  first name last name   age  sex  unit 1 unit 2\n",
       "0        ina    miller  42.0    M     4.0    NaN\n",
       "1        NaN       NaN   NaN  NaN     NaN    NaN\n",
       "2       mina       ali  49.0    F     NaN    NaN\n",
       "3       tina    milner  78.0    M     8.0    NaN\n",
       "4        amy     cooze  96.0    F     9.0    NaN\n",
       "5      madhu     patil  15.0    F     4.0    NaN"
      ]
     },
     "execution_count": 12,
     "metadata": {},
     "output_type": "execute_result"
    }
   ],
   "source": [
    "df"
   ]
  },
  {
   "cell_type": "code",
   "execution_count": null,
   "id": "7b6d2e45",
   "metadata": {},
   "outputs": [
    {
     "data": {
      "text/html": [
       "<div>\n",
       "<style scoped>\n",
       "    .dataframe tbody tr th:only-of-type {\n",
       "        vertical-align: middle;\n",
       "    }\n",
       "\n",
       "    .dataframe tbody tr th {\n",
       "        vertical-align: top;\n",
       "    }\n",
       "\n",
       "    .dataframe thead th {\n",
       "        text-align: right;\n",
       "    }\n",
       "</style>\n",
       "<table border=\"1\" class=\"dataframe\">\n",
       "  <thead>\n",
       "    <tr style=\"text-align: right;\">\n",
       "      <th></th>\n",
       "      <th>first name</th>\n",
       "      <th>last name</th>\n",
       "      <th>age</th>\n",
       "      <th>sex</th>\n",
       "      <th>unit 1</th>\n",
       "      <th>unit 2</th>\n",
       "    </tr>\n",
       "  </thead>\n",
       "  <tbody>\n",
       "    <tr>\n",
       "      <th>0</th>\n",
       "      <td>ina</td>\n",
       "      <td>miller</td>\n",
       "      <td>42.0</td>\n",
       "      <td>M</td>\n",
       "      <td>4.0</td>\n",
       "      <td>NaN</td>\n",
       "    </tr>\n",
       "    <tr>\n",
       "      <th>2</th>\n",
       "      <td>mina</td>\n",
       "      <td>ali</td>\n",
       "      <td>49.0</td>\n",
       "      <td>F</td>\n",
       "      <td>NaN</td>\n",
       "      <td>NaN</td>\n",
       "    </tr>\n",
       "    <tr>\n",
       "      <th>3</th>\n",
       "      <td>tina</td>\n",
       "      <td>milner</td>\n",
       "      <td>78.0</td>\n",
       "      <td>M</td>\n",
       "      <td>8.0</td>\n",
       "      <td>NaN</td>\n",
       "    </tr>\n",
       "    <tr>\n",
       "      <th>4</th>\n",
       "      <td>amy</td>\n",
       "      <td>cooze</td>\n",
       "      <td>96.0</td>\n",
       "      <td>F</td>\n",
       "      <td>9.0</td>\n",
       "      <td>NaN</td>\n",
       "    </tr>\n",
       "    <tr>\n",
       "      <th>5</th>\n",
       "      <td>madhu</td>\n",
       "      <td>patil</td>\n",
       "      <td>15.0</td>\n",
       "      <td>F</td>\n",
       "      <td>4.0</td>\n",
       "      <td>NaN</td>\n",
       "    </tr>\n",
       "  </tbody>\n",
       "</table>\n",
       "</div>"
      ],
      "text/plain": [
       "  first name last name   age sex  unit 1 unit 2\n",
       "0        ina    miller  42.0   M     4.0    NaN\n",
       "2       mina       ali  49.0   F     NaN    NaN\n",
       "3       tina    milner  78.0   M     8.0    NaN\n",
       "4        amy     cooze  96.0   F     9.0    NaN\n",
       "5      madhu     patil  15.0   F     4.0    NaN"
      ]
     },
     "execution_count": 15,
     "metadata": {},
     "output_type": "execute_result"
    }
   ],
   "source": [
    "df_cleand=df.dropna(how='all')\n",
    "df_cleand"
   ]
  },
  {
   "cell_type": "code",
   "execution_count": null,
   "id": "84e805f1",
   "metadata": {},
   "outputs": [
    {
     "data": {
      "text/html": [
       "<div>\n",
       "<style scoped>\n",
       "    .dataframe tbody tr th:only-of-type {\n",
       "        vertical-align: middle;\n",
       "    }\n",
       "\n",
       "    .dataframe tbody tr th {\n",
       "        vertical-align: top;\n",
       "    }\n",
       "\n",
       "    .dataframe thead th {\n",
       "        text-align: right;\n",
       "    }\n",
       "</style>\n",
       "<table border=\"1\" class=\"dataframe\">\n",
       "  <thead>\n",
       "    <tr style=\"text-align: right;\">\n",
       "      <th></th>\n",
       "      <th>first name</th>\n",
       "      <th>last name</th>\n",
       "      <th>age</th>\n",
       "      <th>sex</th>\n",
       "      <th>unit 1</th>\n",
       "      <th>unit 2</th>\n",
       "      <th>final; score</th>\n",
       "      <th>location</th>\n",
       "      <th>final score</th>\n",
       "    </tr>\n",
       "  </thead>\n",
       "  <tbody>\n",
       "    <tr>\n",
       "      <th>0</th>\n",
       "      <td>ina</td>\n",
       "      <td>miller</td>\n",
       "      <td>42.0</td>\n",
       "      <td>M</td>\n",
       "      <td>4.00</td>\n",
       "      <td>NaN</td>\n",
       "      <td>NaN</td>\n",
       "      <td>Ahmedabad</td>\n",
       "      <td>NaN</td>\n",
       "    </tr>\n",
       "    <tr>\n",
       "      <th>1</th>\n",
       "      <td>ina</td>\n",
       "      <td>miller</td>\n",
       "      <td>42.0</td>\n",
       "      <td>M</td>\n",
       "      <td>6.25</td>\n",
       "      <td>NaN</td>\n",
       "      <td>NaN</td>\n",
       "      <td>Ahmedabad</td>\n",
       "      <td>NaN</td>\n",
       "    </tr>\n",
       "    <tr>\n",
       "      <th>2</th>\n",
       "      <td>mina</td>\n",
       "      <td>ali</td>\n",
       "      <td>49.0</td>\n",
       "      <td>F</td>\n",
       "      <td>6.25</td>\n",
       "      <td>NaN</td>\n",
       "      <td>NaN</td>\n",
       "      <td>Ahmedabad</td>\n",
       "      <td>NaN</td>\n",
       "    </tr>\n",
       "    <tr>\n",
       "      <th>3</th>\n",
       "      <td>tina</td>\n",
       "      <td>milner</td>\n",
       "      <td>78.0</td>\n",
       "      <td>M</td>\n",
       "      <td>8.00</td>\n",
       "      <td>NaN</td>\n",
       "      <td>NaN</td>\n",
       "      <td>Ahmedabad</td>\n",
       "      <td>NaN</td>\n",
       "    </tr>\n",
       "    <tr>\n",
       "      <th>4</th>\n",
       "      <td>amy</td>\n",
       "      <td>cooze</td>\n",
       "      <td>96.0</td>\n",
       "      <td>F</td>\n",
       "      <td>9.00</td>\n",
       "      <td>NaN</td>\n",
       "      <td>NaN</td>\n",
       "      <td>Ahmedabad</td>\n",
       "      <td>NaN</td>\n",
       "    </tr>\n",
       "    <tr>\n",
       "      <th>5</th>\n",
       "      <td>madhu</td>\n",
       "      <td>patil</td>\n",
       "      <td>15.0</td>\n",
       "      <td>F</td>\n",
       "      <td>4.00</td>\n",
       "      <td>NaN</td>\n",
       "      <td>NaN</td>\n",
       "      <td>Ahmedabad</td>\n",
       "      <td>NaN</td>\n",
       "    </tr>\n",
       "  </tbody>\n",
       "</table>\n",
       "</div>"
      ],
      "text/plain": [
       "  first name last name   age sex  unit 1  unit 2  final; score   location  \\\n",
       "0        ina    miller  42.0   M    4.00     NaN           NaN  Ahmedabad   \n",
       "1        ina    miller  42.0   M    6.25     NaN           NaN  Ahmedabad   \n",
       "2       mina       ali  49.0   F    6.25     NaN           NaN  Ahmedabad   \n",
       "3       tina    milner  78.0   M    8.00     NaN           NaN  Ahmedabad   \n",
       "4        amy     cooze  96.0   F    9.00     NaN           NaN  Ahmedabad   \n",
       "5      madhu     patil  15.0   F    4.00     NaN           NaN  Ahmedabad   \n",
       "\n",
       "   final score  \n",
       "0          NaN  \n",
       "1          NaN  \n",
       "2          NaN  \n",
       "3          NaN  \n",
       "4          NaN  \n",
       "5          NaN  "
      ]
     },
     "execution_count": 42,
     "metadata": {},
     "output_type": "execute_result"
    }
   ],
   "source": [
    "df['final score']=np.nan\n",
    "df"
   ]
  },
  {
   "cell_type": "code",
   "execution_count": null,
   "id": "81b4b427",
   "metadata": {},
   "outputs": [
    {
     "data": {
      "text/html": [
       "<div>\n",
       "<style scoped>\n",
       "    .dataframe tbody tr th:only-of-type {\n",
       "        vertical-align: middle;\n",
       "    }\n",
       "\n",
       "    .dataframe tbody tr th {\n",
       "        vertical-align: top;\n",
       "    }\n",
       "\n",
       "    .dataframe thead th {\n",
       "        text-align: right;\n",
       "    }\n",
       "</style>\n",
       "<table border=\"1\" class=\"dataframe\">\n",
       "  <thead>\n",
       "    <tr style=\"text-align: right;\">\n",
       "      <th></th>\n",
       "      <th>first name</th>\n",
       "      <th>last name</th>\n",
       "      <th>age</th>\n",
       "      <th>sex</th>\n",
       "      <th>unit 1</th>\n",
       "      <th>unit 2</th>\n",
       "      <th>final; score</th>\n",
       "      <th>location</th>\n",
       "      <th>final score</th>\n",
       "    </tr>\n",
       "  </thead>\n",
       "  <tbody>\n",
       "    <tr>\n",
       "      <th>0</th>\n",
       "      <td>ina</td>\n",
       "      <td>miller</td>\n",
       "      <td>42.0</td>\n",
       "      <td>M</td>\n",
       "      <td>4.00</td>\n",
       "      <td>NaN</td>\n",
       "      <td>NaN</td>\n",
       "      <td>Ahmedabad</td>\n",
       "      <td>NaN</td>\n",
       "    </tr>\n",
       "    <tr>\n",
       "      <th>1</th>\n",
       "      <td>ina</td>\n",
       "      <td>miller</td>\n",
       "      <td>42.0</td>\n",
       "      <td>M</td>\n",
       "      <td>6.25</td>\n",
       "      <td>NaN</td>\n",
       "      <td>NaN</td>\n",
       "      <td>Ahmedabad</td>\n",
       "      <td>NaN</td>\n",
       "    </tr>\n",
       "    <tr>\n",
       "      <th>2</th>\n",
       "      <td>mina</td>\n",
       "      <td>ali</td>\n",
       "      <td>49.0</td>\n",
       "      <td>F</td>\n",
       "      <td>6.25</td>\n",
       "      <td>NaN</td>\n",
       "      <td>NaN</td>\n",
       "      <td>Ahmedabad</td>\n",
       "      <td>NaN</td>\n",
       "    </tr>\n",
       "    <tr>\n",
       "      <th>3</th>\n",
       "      <td>tina</td>\n",
       "      <td>milner</td>\n",
       "      <td>78.0</td>\n",
       "      <td>M</td>\n",
       "      <td>8.00</td>\n",
       "      <td>NaN</td>\n",
       "      <td>NaN</td>\n",
       "      <td>Ahmedabad</td>\n",
       "      <td>NaN</td>\n",
       "    </tr>\n",
       "    <tr>\n",
       "      <th>4</th>\n",
       "      <td>amy</td>\n",
       "      <td>cooze</td>\n",
       "      <td>96.0</td>\n",
       "      <td>F</td>\n",
       "      <td>9.00</td>\n",
       "      <td>NaN</td>\n",
       "      <td>NaN</td>\n",
       "      <td>Ahmedabad</td>\n",
       "      <td>NaN</td>\n",
       "    </tr>\n",
       "    <tr>\n",
       "      <th>5</th>\n",
       "      <td>madhu</td>\n",
       "      <td>patil</td>\n",
       "      <td>15.0</td>\n",
       "      <td>F</td>\n",
       "      <td>4.00</td>\n",
       "      <td>NaN</td>\n",
       "      <td>NaN</td>\n",
       "      <td>Ahmedabad</td>\n",
       "      <td>NaN</td>\n",
       "    </tr>\n",
       "  </tbody>\n",
       "</table>\n",
       "</div>"
      ],
      "text/plain": [
       "  first name last name   age sex  unit 1  unit 2  final; score   location  \\\n",
       "0        ina    miller  42.0   M    4.00     NaN           NaN  Ahmedabad   \n",
       "1        ina    miller  42.0   M    6.25     NaN           NaN  Ahmedabad   \n",
       "2       mina       ali  49.0   F    6.25     NaN           NaN  Ahmedabad   \n",
       "3       tina    milner  78.0   M    8.00     NaN           NaN  Ahmedabad   \n",
       "4        amy     cooze  96.0   F    9.00     NaN           NaN  Ahmedabad   \n",
       "5      madhu     patil  15.0   F    4.00     NaN           NaN  Ahmedabad   \n",
       "\n",
       "   final score  \n",
       "0          NaN  \n",
       "1          NaN  \n",
       "2          NaN  \n",
       "3          NaN  \n",
       "4          NaN  \n",
       "5          NaN  "
      ]
     },
     "execution_count": 43,
     "metadata": {},
     "output_type": "execute_result"
    }
   ],
   "source": [
    "df.dropna(axis=1,how='all')\n",
    "df"
   ]
  },
  {
   "cell_type": "code",
   "execution_count": null,
   "id": "c6575f2b",
   "metadata": {},
   "outputs": [
    {
     "data": {
      "text/html": [
       "<div>\n",
       "<style scoped>\n",
       "    .dataframe tbody tr th:only-of-type {\n",
       "        vertical-align: middle;\n",
       "    }\n",
       "\n",
       "    .dataframe tbody tr th {\n",
       "        vertical-align: top;\n",
       "    }\n",
       "\n",
       "    .dataframe thead th {\n",
       "        text-align: right;\n",
       "    }\n",
       "</style>\n",
       "<table border=\"1\" class=\"dataframe\">\n",
       "  <thead>\n",
       "    <tr style=\"text-align: right;\">\n",
       "      <th></th>\n",
       "      <th>first name</th>\n",
       "      <th>last name</th>\n",
       "      <th>age</th>\n",
       "      <th>sex</th>\n",
       "      <th>unit 1</th>\n",
       "      <th>unit 2</th>\n",
       "      <th>final; score</th>\n",
       "      <th>location</th>\n",
       "      <th>final score</th>\n",
       "    </tr>\n",
       "  </thead>\n",
       "  <tbody>\n",
       "    <tr>\n",
       "      <th>0</th>\n",
       "      <td>ina</td>\n",
       "      <td>miller</td>\n",
       "      <td>42.0</td>\n",
       "      <td>M</td>\n",
       "      <td>4.00</td>\n",
       "      <td>0.0</td>\n",
       "      <td>0.0</td>\n",
       "      <td>Ahmedabad</td>\n",
       "      <td>0.0</td>\n",
       "    </tr>\n",
       "    <tr>\n",
       "      <th>1</th>\n",
       "      <td>ina</td>\n",
       "      <td>miller</td>\n",
       "      <td>42.0</td>\n",
       "      <td>M</td>\n",
       "      <td>6.25</td>\n",
       "      <td>0.0</td>\n",
       "      <td>0.0</td>\n",
       "      <td>Ahmedabad</td>\n",
       "      <td>0.0</td>\n",
       "    </tr>\n",
       "    <tr>\n",
       "      <th>2</th>\n",
       "      <td>mina</td>\n",
       "      <td>ali</td>\n",
       "      <td>49.0</td>\n",
       "      <td>F</td>\n",
       "      <td>6.25</td>\n",
       "      <td>0.0</td>\n",
       "      <td>0.0</td>\n",
       "      <td>Ahmedabad</td>\n",
       "      <td>0.0</td>\n",
       "    </tr>\n",
       "    <tr>\n",
       "      <th>3</th>\n",
       "      <td>tina</td>\n",
       "      <td>milner</td>\n",
       "      <td>78.0</td>\n",
       "      <td>M</td>\n",
       "      <td>8.00</td>\n",
       "      <td>0.0</td>\n",
       "      <td>0.0</td>\n",
       "      <td>Ahmedabad</td>\n",
       "      <td>0.0</td>\n",
       "    </tr>\n",
       "    <tr>\n",
       "      <th>4</th>\n",
       "      <td>amy</td>\n",
       "      <td>cooze</td>\n",
       "      <td>96.0</td>\n",
       "      <td>F</td>\n",
       "      <td>9.00</td>\n",
       "      <td>0.0</td>\n",
       "      <td>0.0</td>\n",
       "      <td>Ahmedabad</td>\n",
       "      <td>0.0</td>\n",
       "    </tr>\n",
       "    <tr>\n",
       "      <th>5</th>\n",
       "      <td>madhu</td>\n",
       "      <td>patil</td>\n",
       "      <td>15.0</td>\n",
       "      <td>F</td>\n",
       "      <td>4.00</td>\n",
       "      <td>0.0</td>\n",
       "      <td>0.0</td>\n",
       "      <td>Ahmedabad</td>\n",
       "      <td>0.0</td>\n",
       "    </tr>\n",
       "  </tbody>\n",
       "</table>\n",
       "</div>"
      ],
      "text/plain": [
       "  first name last name   age sex  unit 1  unit 2  final; score   location  \\\n",
       "0        ina    miller  42.0   M    4.00     0.0           0.0  Ahmedabad   \n",
       "1        ina    miller  42.0   M    6.25     0.0           0.0  Ahmedabad   \n",
       "2       mina       ali  49.0   F    6.25     0.0           0.0  Ahmedabad   \n",
       "3       tina    milner  78.0   M    8.00     0.0           0.0  Ahmedabad   \n",
       "4        amy     cooze  96.0   F    9.00     0.0           0.0  Ahmedabad   \n",
       "5      madhu     patil  15.0   F    4.00     0.0           0.0  Ahmedabad   \n",
       "\n",
       "   final score  \n",
       "0          0.0  \n",
       "1          0.0  \n",
       "2          0.0  \n",
       "3          0.0  \n",
       "4          0.0  \n",
       "5          0.0  "
      ]
     },
     "execution_count": 44,
     "metadata": {},
     "output_type": "execute_result"
    }
   ],
   "source": [
    "df.fillna(0)"
   ]
  },
  {
   "cell_type": "code",
   "execution_count": null,
   "id": "291a193d",
   "metadata": {},
   "outputs": [
    {
     "data": {
      "text/html": [
       "<div>\n",
       "<style scoped>\n",
       "    .dataframe tbody tr th:only-of-type {\n",
       "        vertical-align: middle;\n",
       "    }\n",
       "\n",
       "    .dataframe tbody tr th {\n",
       "        vertical-align: top;\n",
       "    }\n",
       "\n",
       "    .dataframe thead th {\n",
       "        text-align: right;\n",
       "    }\n",
       "</style>\n",
       "<table border=\"1\" class=\"dataframe\">\n",
       "  <thead>\n",
       "    <tr style=\"text-align: right;\">\n",
       "      <th></th>\n",
       "      <th>first name</th>\n",
       "      <th>last name</th>\n",
       "      <th>age</th>\n",
       "      <th>sex</th>\n",
       "      <th>unit 1</th>\n",
       "      <th>unit 2</th>\n",
       "      <th>final; score</th>\n",
       "      <th>location</th>\n",
       "      <th>final score</th>\n",
       "    </tr>\n",
       "  </thead>\n",
       "  <tbody>\n",
       "    <tr>\n",
       "      <th>0</th>\n",
       "      <td>ina</td>\n",
       "      <td>miller</td>\n",
       "      <td>42.0</td>\n",
       "      <td>M</td>\n",
       "      <td>4.00</td>\n",
       "      <td>NaN</td>\n",
       "      <td>NaN</td>\n",
       "      <td>Ahmedabad</td>\n",
       "      <td>NaN</td>\n",
       "    </tr>\n",
       "    <tr>\n",
       "      <th>1</th>\n",
       "      <td>ina</td>\n",
       "      <td>miller</td>\n",
       "      <td>42.0</td>\n",
       "      <td>M</td>\n",
       "      <td>6.25</td>\n",
       "      <td>NaN</td>\n",
       "      <td>NaN</td>\n",
       "      <td>Ahmedabad</td>\n",
       "      <td>NaN</td>\n",
       "    </tr>\n",
       "    <tr>\n",
       "      <th>2</th>\n",
       "      <td>mina</td>\n",
       "      <td>ali</td>\n",
       "      <td>49.0</td>\n",
       "      <td>F</td>\n",
       "      <td>6.25</td>\n",
       "      <td>NaN</td>\n",
       "      <td>NaN</td>\n",
       "      <td>Ahmedabad</td>\n",
       "      <td>NaN</td>\n",
       "    </tr>\n",
       "    <tr>\n",
       "      <th>3</th>\n",
       "      <td>tina</td>\n",
       "      <td>milner</td>\n",
       "      <td>78.0</td>\n",
       "      <td>M</td>\n",
       "      <td>8.00</td>\n",
       "      <td>NaN</td>\n",
       "      <td>NaN</td>\n",
       "      <td>Ahmedabad</td>\n",
       "      <td>NaN</td>\n",
       "    </tr>\n",
       "    <tr>\n",
       "      <th>4</th>\n",
       "      <td>amy</td>\n",
       "      <td>cooze</td>\n",
       "      <td>96.0</td>\n",
       "      <td>F</td>\n",
       "      <td>9.00</td>\n",
       "      <td>NaN</td>\n",
       "      <td>NaN</td>\n",
       "      <td>Ahmedabad</td>\n",
       "      <td>NaN</td>\n",
       "    </tr>\n",
       "    <tr>\n",
       "      <th>5</th>\n",
       "      <td>madhu</td>\n",
       "      <td>patil</td>\n",
       "      <td>15.0</td>\n",
       "      <td>F</td>\n",
       "      <td>4.00</td>\n",
       "      <td>NaN</td>\n",
       "      <td>NaN</td>\n",
       "      <td>Ahmedabad</td>\n",
       "      <td>NaN</td>\n",
       "    </tr>\n",
       "  </tbody>\n",
       "</table>\n",
       "</div>"
      ],
      "text/plain": [
       "  first name last name   age sex  unit 1  unit 2  final; score   location  \\\n",
       "0        ina    miller  42.0   M    4.00     NaN           NaN  Ahmedabad   \n",
       "1        ina    miller  42.0   M    6.25     NaN           NaN  Ahmedabad   \n",
       "2       mina       ali  49.0   F    6.25     NaN           NaN  Ahmedabad   \n",
       "3       tina    milner  78.0   M    8.00     NaN           NaN  Ahmedabad   \n",
       "4        amy     cooze  96.0   F    9.00     NaN           NaN  Ahmedabad   \n",
       "5      madhu     patil  15.0   F    4.00     NaN           NaN  Ahmedabad   \n",
       "\n",
       "   final score  \n",
       "0          NaN  \n",
       "1          NaN  \n",
       "2          NaN  \n",
       "3          NaN  \n",
       "4          NaN  \n",
       "5          NaN  "
      ]
     },
     "execution_count": 45,
     "metadata": {},
     "output_type": "execute_result"
    }
   ],
   "source": [
    "df"
   ]
  },
  {
   "cell_type": "code",
   "execution_count": null,
   "id": "65f68253",
   "metadata": {},
   "outputs": [
    {
     "data": {
      "text/html": [
       "<div>\n",
       "<style scoped>\n",
       "    .dataframe tbody tr th:only-of-type {\n",
       "        vertical-align: middle;\n",
       "    }\n",
       "\n",
       "    .dataframe tbody tr th {\n",
       "        vertical-align: top;\n",
       "    }\n",
       "\n",
       "    .dataframe thead th {\n",
       "        text-align: right;\n",
       "    }\n",
       "</style>\n",
       "<table border=\"1\" class=\"dataframe\">\n",
       "  <thead>\n",
       "    <tr style=\"text-align: right;\">\n",
       "      <th></th>\n",
       "      <th>first name</th>\n",
       "      <th>last name</th>\n",
       "      <th>age</th>\n",
       "      <th>sex</th>\n",
       "      <th>unit 1</th>\n",
       "      <th>unit 2</th>\n",
       "      <th>final; score</th>\n",
       "      <th>location</th>\n",
       "      <th>final score</th>\n",
       "    </tr>\n",
       "  </thead>\n",
       "  <tbody>\n",
       "    <tr>\n",
       "      <th>0</th>\n",
       "      <td>ina</td>\n",
       "      <td>miller</td>\n",
       "      <td>42.0</td>\n",
       "      <td>M</td>\n",
       "      <td>4.00</td>\n",
       "      <td>NaN</td>\n",
       "      <td>NaN</td>\n",
       "      <td>Ahmedabad</td>\n",
       "      <td>NaN</td>\n",
       "    </tr>\n",
       "    <tr>\n",
       "      <th>1</th>\n",
       "      <td>ina</td>\n",
       "      <td>miller</td>\n",
       "      <td>42.0</td>\n",
       "      <td>M</td>\n",
       "      <td>6.25</td>\n",
       "      <td>NaN</td>\n",
       "      <td>NaN</td>\n",
       "      <td>Ahmedabad</td>\n",
       "      <td>NaN</td>\n",
       "    </tr>\n",
       "    <tr>\n",
       "      <th>2</th>\n",
       "      <td>mina</td>\n",
       "      <td>ali</td>\n",
       "      <td>49.0</td>\n",
       "      <td>F</td>\n",
       "      <td>6.25</td>\n",
       "      <td>NaN</td>\n",
       "      <td>NaN</td>\n",
       "      <td>Ahmedabad</td>\n",
       "      <td>NaN</td>\n",
       "    </tr>\n",
       "    <tr>\n",
       "      <th>3</th>\n",
       "      <td>tina</td>\n",
       "      <td>milner</td>\n",
       "      <td>78.0</td>\n",
       "      <td>M</td>\n",
       "      <td>8.00</td>\n",
       "      <td>NaN</td>\n",
       "      <td>NaN</td>\n",
       "      <td>Ahmedabad</td>\n",
       "      <td>NaN</td>\n",
       "    </tr>\n",
       "    <tr>\n",
       "      <th>4</th>\n",
       "      <td>amy</td>\n",
       "      <td>cooze</td>\n",
       "      <td>96.0</td>\n",
       "      <td>F</td>\n",
       "      <td>9.00</td>\n",
       "      <td>NaN</td>\n",
       "      <td>NaN</td>\n",
       "      <td>Ahmedabad</td>\n",
       "      <td>NaN</td>\n",
       "    </tr>\n",
       "    <tr>\n",
       "      <th>5</th>\n",
       "      <td>madhu</td>\n",
       "      <td>patil</td>\n",
       "      <td>15.0</td>\n",
       "      <td>F</td>\n",
       "      <td>4.00</td>\n",
       "      <td>NaN</td>\n",
       "      <td>NaN</td>\n",
       "      <td>Ahmedabad</td>\n",
       "      <td>NaN</td>\n",
       "    </tr>\n",
       "  </tbody>\n",
       "</table>\n",
       "</div>"
      ],
      "text/plain": [
       "  first name last name   age sex  unit 1  unit 2  final; score   location  \\\n",
       "0        ina    miller  42.0   M    4.00     NaN           NaN  Ahmedabad   \n",
       "1        ina    miller  42.0   M    6.25     NaN           NaN  Ahmedabad   \n",
       "2       mina       ali  49.0   F    6.25     NaN           NaN  Ahmedabad   \n",
       "3       tina    milner  78.0   M    8.00     NaN           NaN  Ahmedabad   \n",
       "4        amy     cooze  96.0   F    9.00     NaN           NaN  Ahmedabad   \n",
       "5      madhu     patil  15.0   F    4.00     NaN           NaN  Ahmedabad   \n",
       "\n",
       "   final score  \n",
       "0          NaN  \n",
       "1          NaN  \n",
       "2          NaN  \n",
       "3          NaN  \n",
       "4          NaN  \n",
       "5          NaN  "
      ]
     },
     "execution_count": 46,
     "metadata": {},
     "output_type": "execute_result"
    }
   ],
   "source": [
    "df[\"unit 1\"].fillna(df[\"unit 1\"].mean(),inplace=True)\n",
    "df"
   ]
  },
  {
   "cell_type": "code",
   "execution_count": null,
   "id": "cc4e9f9f",
   "metadata": {},
   "outputs": [
    {
     "data": {
      "text/html": [
       "<div>\n",
       "<style scoped>\n",
       "    .dataframe tbody tr th:only-of-type {\n",
       "        vertical-align: middle;\n",
       "    }\n",
       "\n",
       "    .dataframe tbody tr th {\n",
       "        vertical-align: top;\n",
       "    }\n",
       "\n",
       "    .dataframe thead th {\n",
       "        text-align: right;\n",
       "    }\n",
       "</style>\n",
       "<table border=\"1\" class=\"dataframe\">\n",
       "  <thead>\n",
       "    <tr style=\"text-align: right;\">\n",
       "      <th></th>\n",
       "      <th>first name</th>\n",
       "      <th>last name</th>\n",
       "      <th>age</th>\n",
       "      <th>sex</th>\n",
       "      <th>unit 1</th>\n",
       "      <th>unit 2</th>\n",
       "      <th>final; score</th>\n",
       "      <th>location</th>\n",
       "      <th>final score</th>\n",
       "    </tr>\n",
       "  </thead>\n",
       "  <tbody>\n",
       "    <tr>\n",
       "      <th>0</th>\n",
       "      <td>ina</td>\n",
       "      <td>miller</td>\n",
       "      <td>42.0</td>\n",
       "      <td>M</td>\n",
       "      <td>4.00</td>\n",
       "      <td>NaN</td>\n",
       "      <td>NaN</td>\n",
       "      <td>Ahmedabad</td>\n",
       "      <td>NaN</td>\n",
       "    </tr>\n",
       "    <tr>\n",
       "      <th>1</th>\n",
       "      <td>ina</td>\n",
       "      <td>miller</td>\n",
       "      <td>42.0</td>\n",
       "      <td>M</td>\n",
       "      <td>6.25</td>\n",
       "      <td>NaN</td>\n",
       "      <td>NaN</td>\n",
       "      <td>Ahmedabad</td>\n",
       "      <td>NaN</td>\n",
       "    </tr>\n",
       "    <tr>\n",
       "      <th>2</th>\n",
       "      <td>mina</td>\n",
       "      <td>ali</td>\n",
       "      <td>49.0</td>\n",
       "      <td>F</td>\n",
       "      <td>6.25</td>\n",
       "      <td>NaN</td>\n",
       "      <td>NaN</td>\n",
       "      <td>Ahmedabad</td>\n",
       "      <td>NaN</td>\n",
       "    </tr>\n",
       "    <tr>\n",
       "      <th>3</th>\n",
       "      <td>tina</td>\n",
       "      <td>milner</td>\n",
       "      <td>78.0</td>\n",
       "      <td>M</td>\n",
       "      <td>8.00</td>\n",
       "      <td>NaN</td>\n",
       "      <td>NaN</td>\n",
       "      <td>Ahmedabad</td>\n",
       "      <td>NaN</td>\n",
       "    </tr>\n",
       "    <tr>\n",
       "      <th>4</th>\n",
       "      <td>amy</td>\n",
       "      <td>cooze</td>\n",
       "      <td>96.0</td>\n",
       "      <td>F</td>\n",
       "      <td>9.00</td>\n",
       "      <td>NaN</td>\n",
       "      <td>NaN</td>\n",
       "      <td>Ahmedabad</td>\n",
       "      <td>NaN</td>\n",
       "    </tr>\n",
       "    <tr>\n",
       "      <th>5</th>\n",
       "      <td>madhu</td>\n",
       "      <td>patil</td>\n",
       "      <td>15.0</td>\n",
       "      <td>F</td>\n",
       "      <td>4.00</td>\n",
       "      <td>NaN</td>\n",
       "      <td>NaN</td>\n",
       "      <td>Ahmedabad</td>\n",
       "      <td>NaN</td>\n",
       "    </tr>\n",
       "  </tbody>\n",
       "</table>\n",
       "</div>"
      ],
      "text/plain": [
       "  first name last name   age sex  unit 1  unit 2  final; score   location  \\\n",
       "0        ina    miller  42.0   M    4.00     NaN           NaN  Ahmedabad   \n",
       "1        ina    miller  42.0   M    6.25     NaN           NaN  Ahmedabad   \n",
       "2       mina       ali  49.0   F    6.25     NaN           NaN  Ahmedabad   \n",
       "3       tina    milner  78.0   M    8.00     NaN           NaN  Ahmedabad   \n",
       "4        amy     cooze  96.0   F    9.00     NaN           NaN  Ahmedabad   \n",
       "5      madhu     patil  15.0   F    4.00     NaN           NaN  Ahmedabad   \n",
       "\n",
       "   final score  \n",
       "0          NaN  \n",
       "1          NaN  \n",
       "2          NaN  \n",
       "3          NaN  \n",
       "4          NaN  \n",
       "5          NaN  "
      ]
     },
     "execution_count": 47,
     "metadata": {},
     "output_type": "execute_result"
    }
   ],
   "source": [
    " df[\"unit 2\"].fillna(df.groupby(\"sex\")[\"unit 2\"].transform(\"mean\"),inplace=True)\n",
    "df"
   ]
  },
  {
   "cell_type": "code",
   "execution_count": null,
   "id": "c25af3c4",
   "metadata": {},
   "outputs": [
    {
     "data": {
      "text/html": [
       "<div>\n",
       "<style scoped>\n",
       "    .dataframe tbody tr th:only-of-type {\n",
       "        vertical-align: middle;\n",
       "    }\n",
       "\n",
       "    .dataframe tbody tr th {\n",
       "        vertical-align: top;\n",
       "    }\n",
       "\n",
       "    .dataframe thead th {\n",
       "        text-align: right;\n",
       "    }\n",
       "</style>\n",
       "<table border=\"1\" class=\"dataframe\">\n",
       "  <thead>\n",
       "    <tr style=\"text-align: right;\">\n",
       "      <th></th>\n",
       "      <th>first name</th>\n",
       "      <th>last name</th>\n",
       "      <th>age</th>\n",
       "      <th>sex</th>\n",
       "      <th>unit 1</th>\n",
       "      <th>unit 2</th>\n",
       "      <th>final; score</th>\n",
       "      <th>location</th>\n",
       "      <th>final score</th>\n",
       "    </tr>\n",
       "  </thead>\n",
       "  <tbody>\n",
       "    <tr>\n",
       "      <th>0</th>\n",
       "      <td>ina</td>\n",
       "      <td>miller</td>\n",
       "      <td>42.0</td>\n",
       "      <td>M</td>\n",
       "      <td>4.00</td>\n",
       "      <td>NaN</td>\n",
       "      <td>NaN</td>\n",
       "      <td>Ahmedabad</td>\n",
       "      <td>NaN</td>\n",
       "    </tr>\n",
       "    <tr>\n",
       "      <th>1</th>\n",
       "      <td>ina</td>\n",
       "      <td>miller</td>\n",
       "      <td>42.0</td>\n",
       "      <td>M</td>\n",
       "      <td>6.25</td>\n",
       "      <td>NaN</td>\n",
       "      <td>NaN</td>\n",
       "      <td>Ahmedabad</td>\n",
       "      <td>NaN</td>\n",
       "    </tr>\n",
       "    <tr>\n",
       "      <th>2</th>\n",
       "      <td>mina</td>\n",
       "      <td>ali</td>\n",
       "      <td>49.0</td>\n",
       "      <td>F</td>\n",
       "      <td>6.25</td>\n",
       "      <td>NaN</td>\n",
       "      <td>NaN</td>\n",
       "      <td>Ahmedabad</td>\n",
       "      <td>NaN</td>\n",
       "    </tr>\n",
       "    <tr>\n",
       "      <th>3</th>\n",
       "      <td>tina</td>\n",
       "      <td>milner</td>\n",
       "      <td>78.0</td>\n",
       "      <td>M</td>\n",
       "      <td>8.00</td>\n",
       "      <td>NaN</td>\n",
       "      <td>NaN</td>\n",
       "      <td>Ahmedabad</td>\n",
       "      <td>NaN</td>\n",
       "    </tr>\n",
       "    <tr>\n",
       "      <th>4</th>\n",
       "      <td>amy</td>\n",
       "      <td>cooze</td>\n",
       "      <td>96.0</td>\n",
       "      <td>F</td>\n",
       "      <td>9.00</td>\n",
       "      <td>NaN</td>\n",
       "      <td>NaN</td>\n",
       "      <td>Ahmedabad</td>\n",
       "      <td>NaN</td>\n",
       "    </tr>\n",
       "    <tr>\n",
       "      <th>5</th>\n",
       "      <td>madhu</td>\n",
       "      <td>patil</td>\n",
       "      <td>15.0</td>\n",
       "      <td>F</td>\n",
       "      <td>4.00</td>\n",
       "      <td>NaN</td>\n",
       "      <td>NaN</td>\n",
       "      <td>Ahmedabad</td>\n",
       "      <td>NaN</td>\n",
       "    </tr>\n",
       "  </tbody>\n",
       "</table>\n",
       "</div>"
      ],
      "text/plain": [
       "  first name last name   age sex  unit 1  unit 2  final; score   location  \\\n",
       "0        ina    miller  42.0   M    4.00     NaN           NaN  Ahmedabad   \n",
       "1        ina    miller  42.0   M    6.25     NaN           NaN  Ahmedabad   \n",
       "2       mina       ali  49.0   F    6.25     NaN           NaN  Ahmedabad   \n",
       "3       tina    milner  78.0   M    8.00     NaN           NaN  Ahmedabad   \n",
       "4        amy     cooze  96.0   F    9.00     NaN           NaN  Ahmedabad   \n",
       "5      madhu     patil  15.0   F    4.00     NaN           NaN  Ahmedabad   \n",
       "\n",
       "   final score  \n",
       "0          NaN  \n",
       "1          NaN  \n",
       "2          NaN  \n",
       "3          NaN  \n",
       "4          NaN  \n",
       "5          NaN  "
      ]
     },
     "execution_count": 48,
     "metadata": {},
     "output_type": "execute_result"
    }
   ],
   "source": [
    "df[df['age'].notnull() & df['sex'].notnull()]"
   ]
  },
  {
   "cell_type": "code",
   "execution_count": null,
   "id": "6d5c2353",
   "metadata": {},
   "outputs": [
    {
     "data": {
      "text/html": [
       "<div>\n",
       "<style scoped>\n",
       "    .dataframe tbody tr th:only-of-type {\n",
       "        vertical-align: middle;\n",
       "    }\n",
       "\n",
       "    .dataframe tbody tr th {\n",
       "        vertical-align: top;\n",
       "    }\n",
       "\n",
       "    .dataframe thead th {\n",
       "        text-align: right;\n",
       "    }\n",
       "</style>\n",
       "<table border=\"1\" class=\"dataframe\">\n",
       "  <thead>\n",
       "    <tr style=\"text-align: right;\">\n",
       "      <th></th>\n",
       "      <th>first name</th>\n",
       "      <th>last name</th>\n",
       "      <th>age</th>\n",
       "      <th>sex</th>\n",
       "      <th>unit 1</th>\n",
       "      <th>unit 2</th>\n",
       "      <th>final; score</th>\n",
       "      <th>location</th>\n",
       "      <th>final score</th>\n",
       "    </tr>\n",
       "  </thead>\n",
       "  <tbody>\n",
       "    <tr>\n",
       "      <th>0</th>\n",
       "      <td>ina</td>\n",
       "      <td>miller</td>\n",
       "      <td>42.0</td>\n",
       "      <td>M</td>\n",
       "      <td>4.00</td>\n",
       "      <td>NaN</td>\n",
       "      <td>NaN</td>\n",
       "      <td>Ahmedabad</td>\n",
       "      <td>NaN</td>\n",
       "    </tr>\n",
       "    <tr>\n",
       "      <th>1</th>\n",
       "      <td>ina</td>\n",
       "      <td>miller</td>\n",
       "      <td>42.0</td>\n",
       "      <td>M</td>\n",
       "      <td>6.25</td>\n",
       "      <td>NaN</td>\n",
       "      <td>NaN</td>\n",
       "      <td>Ahmedabad</td>\n",
       "      <td>NaN</td>\n",
       "    </tr>\n",
       "    <tr>\n",
       "      <th>2</th>\n",
       "      <td>mina</td>\n",
       "      <td>ali</td>\n",
       "      <td>49.0</td>\n",
       "      <td>F</td>\n",
       "      <td>6.25</td>\n",
       "      <td>NaN</td>\n",
       "      <td>NaN</td>\n",
       "      <td>Ahmedabad</td>\n",
       "      <td>NaN</td>\n",
       "    </tr>\n",
       "    <tr>\n",
       "      <th>3</th>\n",
       "      <td>tina</td>\n",
       "      <td>milner</td>\n",
       "      <td>78.0</td>\n",
       "      <td>M</td>\n",
       "      <td>8.00</td>\n",
       "      <td>NaN</td>\n",
       "      <td>NaN</td>\n",
       "      <td>Ahmedabad</td>\n",
       "      <td>NaN</td>\n",
       "    </tr>\n",
       "    <tr>\n",
       "      <th>4</th>\n",
       "      <td>amy</td>\n",
       "      <td>cooze</td>\n",
       "      <td>96.0</td>\n",
       "      <td>F</td>\n",
       "      <td>9.00</td>\n",
       "      <td>NaN</td>\n",
       "      <td>NaN</td>\n",
       "      <td>Ahmedabad</td>\n",
       "      <td>NaN</td>\n",
       "    </tr>\n",
       "    <tr>\n",
       "      <th>5</th>\n",
       "      <td>madhu</td>\n",
       "      <td>patil</td>\n",
       "      <td>15.0</td>\n",
       "      <td>F</td>\n",
       "      <td>4.00</td>\n",
       "      <td>NaN</td>\n",
       "      <td>NaN</td>\n",
       "      <td>Ahmedabad</td>\n",
       "      <td>NaN</td>\n",
       "    </tr>\n",
       "  </tbody>\n",
       "</table>\n",
       "</div>"
      ],
      "text/plain": [
       "  first name last name   age sex  unit 1  unit 2  final; score   location  \\\n",
       "0        ina    miller  42.0   M    4.00     NaN           NaN  Ahmedabad   \n",
       "1        ina    miller  42.0   M    6.25     NaN           NaN  Ahmedabad   \n",
       "2       mina       ali  49.0   F    6.25     NaN           NaN  Ahmedabad   \n",
       "3       tina    milner  78.0   M    8.00     NaN           NaN  Ahmedabad   \n",
       "4        amy     cooze  96.0   F    9.00     NaN           NaN  Ahmedabad   \n",
       "5      madhu     patil  15.0   F    4.00     NaN           NaN  Ahmedabad   \n",
       "\n",
       "   final score  \n",
       "0          NaN  \n",
       "1          NaN  \n",
       "2          NaN  \n",
       "3          NaN  \n",
       "4          NaN  \n",
       "5          NaN  "
      ]
     },
     "execution_count": 49,
     "metadata": {},
     "output_type": "execute_result"
    }
   ],
   "source": [
    "df"
   ]
  },
  {
   "cell_type": "code",
   "execution_count": null,
   "id": "e66830a8",
   "metadata": {},
   "outputs": [
    {
     "data": {
      "text/html": [
       "<div>\n",
       "<style scoped>\n",
       "    .dataframe tbody tr th:only-of-type {\n",
       "        vertical-align: middle;\n",
       "    }\n",
       "\n",
       "    .dataframe tbody tr th {\n",
       "        vertical-align: top;\n",
       "    }\n",
       "\n",
       "    .dataframe thead th {\n",
       "        text-align: right;\n",
       "    }\n",
       "</style>\n",
       "<table border=\"1\" class=\"dataframe\">\n",
       "  <thead>\n",
       "    <tr style=\"text-align: right;\">\n",
       "      <th></th>\n",
       "      <th>first name</th>\n",
       "      <th>last name</th>\n",
       "      <th>age</th>\n",
       "      <th>sex</th>\n",
       "      <th>unit 1</th>\n",
       "      <th>unit 2</th>\n",
       "      <th>final; score</th>\n",
       "      <th>location</th>\n",
       "      <th>final score</th>\n",
       "    </tr>\n",
       "  </thead>\n",
       "  <tbody>\n",
       "    <tr>\n",
       "      <th>0</th>\n",
       "      <td>ina</td>\n",
       "      <td>miller</td>\n",
       "      <td>42.0</td>\n",
       "      <td>M</td>\n",
       "      <td>4.00</td>\n",
       "      <td>NaN</td>\n",
       "      <td>NaN</td>\n",
       "      <td>Ahmedabad</td>\n",
       "      <td>NaN</td>\n",
       "    </tr>\n",
       "    <tr>\n",
       "      <th>1</th>\n",
       "      <td>ina</td>\n",
       "      <td>miller</td>\n",
       "      <td>42.0</td>\n",
       "      <td>M</td>\n",
       "      <td>6.25</td>\n",
       "      <td>NaN</td>\n",
       "      <td>NaN</td>\n",
       "      <td>Ahmedabad</td>\n",
       "      <td>NaN</td>\n",
       "    </tr>\n",
       "    <tr>\n",
       "      <th>2</th>\n",
       "      <td>mina</td>\n",
       "      <td>ali</td>\n",
       "      <td>49.0</td>\n",
       "      <td>F</td>\n",
       "      <td>6.25</td>\n",
       "      <td>NaN</td>\n",
       "      <td>NaN</td>\n",
       "      <td>Ahmedabad</td>\n",
       "      <td>NaN</td>\n",
       "    </tr>\n",
       "    <tr>\n",
       "      <th>3</th>\n",
       "      <td>tina</td>\n",
       "      <td>milner</td>\n",
       "      <td>78.0</td>\n",
       "      <td>M</td>\n",
       "      <td>8.00</td>\n",
       "      <td>NaN</td>\n",
       "      <td>NaN</td>\n",
       "      <td>Ahmedabad</td>\n",
       "      <td>NaN</td>\n",
       "    </tr>\n",
       "    <tr>\n",
       "      <th>4</th>\n",
       "      <td>amy</td>\n",
       "      <td>cooze</td>\n",
       "      <td>96.0</td>\n",
       "      <td>F</td>\n",
       "      <td>9.00</td>\n",
       "      <td>NaN</td>\n",
       "      <td>NaN</td>\n",
       "      <td>Ahmedabad</td>\n",
       "      <td>NaN</td>\n",
       "    </tr>\n",
       "    <tr>\n",
       "      <th>5</th>\n",
       "      <td>madhu</td>\n",
       "      <td>patil</td>\n",
       "      <td>15.0</td>\n",
       "      <td>F</td>\n",
       "      <td>4.00</td>\n",
       "      <td>NaN</td>\n",
       "      <td>NaN</td>\n",
       "      <td>Ahmedabad</td>\n",
       "      <td>NaN</td>\n",
       "    </tr>\n",
       "  </tbody>\n",
       "</table>\n",
       "</div>"
      ],
      "text/plain": [
       "  first name last name   age sex  unit 1  unit 2  final; score   location  \\\n",
       "0        ina    miller  42.0   M    4.00     NaN           NaN  Ahmedabad   \n",
       "1        ina    miller  42.0   M    6.25     NaN           NaN  Ahmedabad   \n",
       "2       mina       ali  49.0   F    6.25     NaN           NaN  Ahmedabad   \n",
       "3       tina    milner  78.0   M    8.00     NaN           NaN  Ahmedabad   \n",
       "4        amy     cooze  96.0   F    9.00     NaN           NaN  Ahmedabad   \n",
       "5      madhu     patil  15.0   F    4.00     NaN           NaN  Ahmedabad   \n",
       "\n",
       "   final score  \n",
       "0          NaN  \n",
       "1          NaN  \n",
       "2          NaN  \n",
       "3          NaN  \n",
       "4          NaN  \n",
       "5          NaN  "
      ]
     },
     "execution_count": 50,
     "metadata": {},
     "output_type": "execute_result"
    }
   ],
   "source": [
    "df.fillna(method='bfill')"
   ]
  },
  {
   "cell_type": "code",
   "execution_count": null,
   "id": "95b22d2d",
   "metadata": {},
   "outputs": [
    {
     "data": {
      "text/html": [
       "<div>\n",
       "<style scoped>\n",
       "    .dataframe tbody tr th:only-of-type {\n",
       "        vertical-align: middle;\n",
       "    }\n",
       "\n",
       "    .dataframe tbody tr th {\n",
       "        vertical-align: top;\n",
       "    }\n",
       "\n",
       "    .dataframe thead th {\n",
       "        text-align: right;\n",
       "    }\n",
       "</style>\n",
       "<table border=\"1\" class=\"dataframe\">\n",
       "  <thead>\n",
       "    <tr style=\"text-align: right;\">\n",
       "      <th></th>\n",
       "      <th>first name</th>\n",
       "      <th>last name</th>\n",
       "      <th>age</th>\n",
       "      <th>sex</th>\n",
       "      <th>unit 1</th>\n",
       "      <th>unit 2</th>\n",
       "      <th>final; score</th>\n",
       "      <th>location</th>\n",
       "      <th>final score</th>\n",
       "    </tr>\n",
       "  </thead>\n",
       "  <tbody>\n",
       "    <tr>\n",
       "      <th>0</th>\n",
       "      <td>ina</td>\n",
       "      <td>miller</td>\n",
       "      <td>42.0</td>\n",
       "      <td>M</td>\n",
       "      <td>4.00</td>\n",
       "      <td>NaN</td>\n",
       "      <td>NaN</td>\n",
       "      <td>Ahmedabad</td>\n",
       "      <td>NaN</td>\n",
       "    </tr>\n",
       "    <tr>\n",
       "      <th>1</th>\n",
       "      <td>ina</td>\n",
       "      <td>miller</td>\n",
       "      <td>42.0</td>\n",
       "      <td>M</td>\n",
       "      <td>6.25</td>\n",
       "      <td>NaN</td>\n",
       "      <td>NaN</td>\n",
       "      <td>Ahmedabad</td>\n",
       "      <td>NaN</td>\n",
       "    </tr>\n",
       "    <tr>\n",
       "      <th>2</th>\n",
       "      <td>mina</td>\n",
       "      <td>ali</td>\n",
       "      <td>49.0</td>\n",
       "      <td>F</td>\n",
       "      <td>6.25</td>\n",
       "      <td>NaN</td>\n",
       "      <td>NaN</td>\n",
       "      <td>Ahmedabad</td>\n",
       "      <td>NaN</td>\n",
       "    </tr>\n",
       "    <tr>\n",
       "      <th>3</th>\n",
       "      <td>tina</td>\n",
       "      <td>milner</td>\n",
       "      <td>78.0</td>\n",
       "      <td>M</td>\n",
       "      <td>8.00</td>\n",
       "      <td>NaN</td>\n",
       "      <td>NaN</td>\n",
       "      <td>Ahmedabad</td>\n",
       "      <td>NaN</td>\n",
       "    </tr>\n",
       "    <tr>\n",
       "      <th>4</th>\n",
       "      <td>amy</td>\n",
       "      <td>cooze</td>\n",
       "      <td>96.0</td>\n",
       "      <td>F</td>\n",
       "      <td>9.00</td>\n",
       "      <td>NaN</td>\n",
       "      <td>NaN</td>\n",
       "      <td>Ahmedabad</td>\n",
       "      <td>NaN</td>\n",
       "    </tr>\n",
       "    <tr>\n",
       "      <th>5</th>\n",
       "      <td>madhu</td>\n",
       "      <td>patil</td>\n",
       "      <td>15.0</td>\n",
       "      <td>F</td>\n",
       "      <td>4.00</td>\n",
       "      <td>NaN</td>\n",
       "      <td>NaN</td>\n",
       "      <td>Ahmedabad</td>\n",
       "      <td>NaN</td>\n",
       "    </tr>\n",
       "  </tbody>\n",
       "</table>\n",
       "</div>"
      ],
      "text/plain": [
       "  first name last name   age sex  unit 1  unit 2  final; score   location  \\\n",
       "0        ina    miller  42.0   M    4.00     NaN           NaN  Ahmedabad   \n",
       "1        ina    miller  42.0   M    6.25     NaN           NaN  Ahmedabad   \n",
       "2       mina       ali  49.0   F    6.25     NaN           NaN  Ahmedabad   \n",
       "3       tina    milner  78.0   M    8.00     NaN           NaN  Ahmedabad   \n",
       "4        amy     cooze  96.0   F    9.00     NaN           NaN  Ahmedabad   \n",
       "5      madhu     patil  15.0   F    4.00     NaN           NaN  Ahmedabad   \n",
       "\n",
       "   final score  \n",
       "0          NaN  \n",
       "1          NaN  \n",
       "2          NaN  \n",
       "3          NaN  \n",
       "4          NaN  \n",
       "5          NaN  "
      ]
     },
     "execution_count": 51,
     "metadata": {},
     "output_type": "execute_result"
    }
   ],
   "source": [
    "df"
   ]
  },
  {
   "cell_type": "code",
   "execution_count": null,
   "id": "aec74cf7",
   "metadata": {},
   "outputs": [],
   "source": [
    "df.fillna(method='ffill',inplace=True)"
   ]
  },
  {
   "cell_type": "code",
   "execution_count": null,
   "id": "7b62013a",
   "metadata": {},
   "outputs": [
    {
     "data": {
      "text/html": [
       "<div>\n",
       "<style scoped>\n",
       "    .dataframe tbody tr th:only-of-type {\n",
       "        vertical-align: middle;\n",
       "    }\n",
       "\n",
       "    .dataframe tbody tr th {\n",
       "        vertical-align: top;\n",
       "    }\n",
       "\n",
       "    .dataframe thead th {\n",
       "        text-align: right;\n",
       "    }\n",
       "</style>\n",
       "<table border=\"1\" class=\"dataframe\">\n",
       "  <thead>\n",
       "    <tr style=\"text-align: right;\">\n",
       "      <th></th>\n",
       "      <th>first name</th>\n",
       "      <th>last name</th>\n",
       "      <th>age</th>\n",
       "      <th>sex</th>\n",
       "      <th>unit 1</th>\n",
       "      <th>unit 2</th>\n",
       "      <th>final; score</th>\n",
       "      <th>location</th>\n",
       "      <th>final score</th>\n",
       "    </tr>\n",
       "  </thead>\n",
       "  <tbody>\n",
       "    <tr>\n",
       "      <th>0</th>\n",
       "      <td>ina</td>\n",
       "      <td>miller</td>\n",
       "      <td>42.0</td>\n",
       "      <td>M</td>\n",
       "      <td>4.00</td>\n",
       "      <td>NaN</td>\n",
       "      <td>NaN</td>\n",
       "      <td>Ahmedabad</td>\n",
       "      <td>NaN</td>\n",
       "    </tr>\n",
       "    <tr>\n",
       "      <th>1</th>\n",
       "      <td>ina</td>\n",
       "      <td>miller</td>\n",
       "      <td>42.0</td>\n",
       "      <td>M</td>\n",
       "      <td>6.25</td>\n",
       "      <td>NaN</td>\n",
       "      <td>NaN</td>\n",
       "      <td>Ahmedabad</td>\n",
       "      <td>NaN</td>\n",
       "    </tr>\n",
       "    <tr>\n",
       "      <th>2</th>\n",
       "      <td>mina</td>\n",
       "      <td>ali</td>\n",
       "      <td>49.0</td>\n",
       "      <td>F</td>\n",
       "      <td>6.25</td>\n",
       "      <td>NaN</td>\n",
       "      <td>NaN</td>\n",
       "      <td>Ahmedabad</td>\n",
       "      <td>NaN</td>\n",
       "    </tr>\n",
       "    <tr>\n",
       "      <th>3</th>\n",
       "      <td>tina</td>\n",
       "      <td>milner</td>\n",
       "      <td>78.0</td>\n",
       "      <td>M</td>\n",
       "      <td>8.00</td>\n",
       "      <td>NaN</td>\n",
       "      <td>NaN</td>\n",
       "      <td>Ahmedabad</td>\n",
       "      <td>NaN</td>\n",
       "    </tr>\n",
       "    <tr>\n",
       "      <th>4</th>\n",
       "      <td>amy</td>\n",
       "      <td>cooze</td>\n",
       "      <td>96.0</td>\n",
       "      <td>F</td>\n",
       "      <td>9.00</td>\n",
       "      <td>NaN</td>\n",
       "      <td>NaN</td>\n",
       "      <td>Ahmedabad</td>\n",
       "      <td>NaN</td>\n",
       "    </tr>\n",
       "    <tr>\n",
       "      <th>5</th>\n",
       "      <td>madhu</td>\n",
       "      <td>patil</td>\n",
       "      <td>15.0</td>\n",
       "      <td>F</td>\n",
       "      <td>4.00</td>\n",
       "      <td>NaN</td>\n",
       "      <td>NaN</td>\n",
       "      <td>Ahmedabad</td>\n",
       "      <td>NaN</td>\n",
       "    </tr>\n",
       "  </tbody>\n",
       "</table>\n",
       "</div>"
      ],
      "text/plain": [
       "  first name last name   age sex  unit 1  unit 2  final; score   location  \\\n",
       "0        ina    miller  42.0   M    4.00     NaN           NaN  Ahmedabad   \n",
       "1        ina    miller  42.0   M    6.25     NaN           NaN  Ahmedabad   \n",
       "2       mina       ali  49.0   F    6.25     NaN           NaN  Ahmedabad   \n",
       "3       tina    milner  78.0   M    8.00     NaN           NaN  Ahmedabad   \n",
       "4        amy     cooze  96.0   F    9.00     NaN           NaN  Ahmedabad   \n",
       "5      madhu     patil  15.0   F    4.00     NaN           NaN  Ahmedabad   \n",
       "\n",
       "   final score  \n",
       "0          NaN  \n",
       "1          NaN  \n",
       "2          NaN  \n",
       "3          NaN  \n",
       "4          NaN  \n",
       "5          NaN  "
      ]
     },
     "execution_count": 53,
     "metadata": {},
     "output_type": "execute_result"
    }
   ],
   "source": [
    "df"
   ]
  },
  {
   "cell_type": "markdown",
   "id": "96e4c4cf",
   "metadata": {},
   "source": [
    "SERIES MANIUPLATION"
   ]
  },
  {
   "cell_type": "code",
   "execution_count": null,
   "id": "9277848e",
   "metadata": {},
   "outputs": [],
   "source": [
    "import numpy as np\n",
    "import pandas as pd"
   ]
  },
  {
   "cell_type": "code",
   "execution_count": null,
   "id": "55d591a6",
   "metadata": {},
   "outputs": [],
   "source": [
    "ser1=pd.Series(data=[1,2,3,4],index=['ca','or','co','az'])\n",
    "ser2=pd.Series([1,2,5,4],['ca','or','nv','az'])"
   ]
  },
  {
   "cell_type": "code",
   "execution_count": null,
   "id": "2cab81e0",
   "metadata": {},
   "outputs": [
    {
     "data": {
      "text/plain": [
       "ca    1\n",
       "or    2\n",
       "nv    5\n",
       "az    4\n",
       "dtype: int64"
      ]
     },
     "execution_count": 80,
     "metadata": {},
     "output_type": "execute_result"
    }
   ],
   "source": [
    "ser2"
   ]
  },
  {
   "cell_type": "code",
   "execution_count": null,
   "id": "ade80836",
   "metadata": {},
   "outputs": [
    {
     "data": {
      "text/plain": [
       "ca    1\n",
       "or    2\n",
       "co    3\n",
       "az    4\n",
       "dtype: int64"
      ]
     },
     "execution_count": 81,
     "metadata": {},
     "output_type": "execute_result"
    }
   ],
   "source": [
    "ser1"
   ]
  },
  {
   "cell_type": "code",
   "execution_count": null,
   "id": "b2f0e973",
   "metadata": {},
   "outputs": [
    {
     "name": "stdout",
     "output_type": "stream",
     "text": [
      "\n",
      "indexing by name of the item/object (string identifier)\n",
      "________________________________________________________\n",
      "value for ca in ser1: 1\n",
      "value for az in ser1: 4\n",
      "value for nv in ser2: 5\n"
     ]
    }
   ],
   "source": [
    "print(\"\\nindexing by name of the item/object (string identifier)\\n\",'_'*56,sep='')\n",
    "print('value for ca in ser1:',ser1['ca'])\n",
    "print('value for az in ser1:',ser1['az'])\n",
    "print('value for nv in ser2:',ser2['nv'])\n"
   ]
  },
  {
   "cell_type": "code",
   "execution_count": null,
   "id": "7e0292a5",
   "metadata": {},
   "outputs": [
    {
     "name": "stdout",
     "output_type": "stream",
     "text": [
      "\n",
      "indexing by name of the item/object (string identifier)\n",
      "________________________________________________________\n",
      "value for ca in ser1: 1\n",
      "value for az in ser1: 4\n",
      "value for nv in ser2: 5\n"
     ]
    }
   ],
   "source": [
    "print(\"\\nindexing by name of the item/object (string identifier)\\n\",'_'*56,sep='')\n",
    "print('value for ca in ser1:',ser1[0])\n",
    "print('value for az in ser1:',ser1[3])\n",
    "print('value for nv in ser2:',ser2[2])"
   ]
  },
  {
   "cell_type": "code",
   "execution_count": null,
   "id": "cd982324",
   "metadata": {},
   "outputs": [
    {
     "name": "stdout",
     "output_type": "stream",
     "text": [
      "\n",
      "indexing by range\n",
      "_\n",
      "indexing by range\n",
      "_\n",
      "indexing by range\n",
      "_\n",
      "indexing by range\n",
      "_\n",
      "indexing by range\n",
      "_\n",
      "indexing by range\n",
      "_\n",
      "indexing by range\n",
      "_\n",
      "indexing by range\n",
      "_\n",
      "indexing by range\n",
      "_\n",
      "indexing by range\n",
      "_\n",
      "indexing by range\n",
      "_\n",
      "indexing by range\n",
      "_\n",
      "indexing by range\n",
      "_\n",
      "indexing by range\n",
      "_\n",
      "indexing by range\n",
      "_\n",
      "indexing by range\n",
      "_\n",
      "indexing by range\n",
      "_\n",
      "indexing by range\n",
      "_\n",
      "indexing by range\n",
      "_\n",
      "indexing by range\n",
      "_\n",
      "indexing by range\n",
      "_\n",
      "indexing by range\n",
      "_\n",
      "indexing by range\n",
      "_\n",
      "indexing by range\n",
      "_\n",
      "indexing by range\n",
      "_\n",
      "value for or,co and az in ser1:\n",
      "or    2\n",
      "co    3\n",
      "az    4\n",
      "dtype: int64\n"
     ]
    }
   ],
   "source": [
    "print(\"\\nindexing by range\\n\"'_'*25,sep='')\n",
    "print(\"value for or,co and az in ser1:\\n\",ser1[1:4],sep='')"
   ]
  },
  {
   "cell_type": "code",
   "execution_count": null,
   "id": "d80d9a0a",
   "metadata": {},
   "outputs": [],
   "source": [
    "ser1=pd.Series([1,2,3,4,10],['ca','or','co','az','nv'])\n",
    "ser2=pd.Series([1,2,5,4,30],['ca','or','nv','pa','co'])\n",
    "ser3=ser1+ser2                          "
   ]
  },
  {
   "cell_type": "code",
   "execution_count": null,
   "id": "fdebad46",
   "metadata": {},
   "outputs": [
    {
     "name": "stdout",
     "output_type": "stream",
     "text": [
      "\n",
      "after adding the two series,the result looks like thus...\n",
      "___________________________________________________________\n",
      "az     NaN\n",
      "ca     2.0\n",
      "co    33.0\n",
      "nv    15.0\n",
      "or     4.0\n",
      "pa     NaN\n",
      "dtype: float64\n",
      "\n",
      "python tries to add values where it finds common index name,and keeps NAN where indices are missing\n",
      "\n"
     ]
    }
   ],
   "source": [
    "print(\"\\nafter adding the two series,the result looks like thus...\\n\",'_'*59,sep='')\n",
    "print(ser3)\n",
    "print(\"\\npython tries to add values where it finds common index name,and keeps NAN where indices are missing\\n\")"
   ]
  },
  {
   "cell_type": "markdown",
   "id": "3e6cb4ea",
   "metadata": {},
   "source": [
    "DATAFRAME MANIPULATION"
   ]
  },
  {
   "cell_type": "code",
   "execution_count": null,
   "id": "a1e5806e",
   "metadata": {},
   "outputs": [],
   "source": [
    "import numpy as np\n",
    "import pandas as pd"
   ]
  },
  {
   "cell_type": "code",
   "execution_count": null,
   "id": "ae80a1c9",
   "metadata": {},
   "outputs": [],
   "source": [
    "matrix_data=np.matrix('22,66,140;70,148,52;65,89,56;96,63,56;25,89,12')\n",
    "row_labels=['raju','hame','sada','gum','kiya']\n",
    "column_headings=['age','hight','weight']"
   ]
  },
  {
   "cell_type": "code",
   "execution_count": null,
   "id": "a0c6a97f",
   "metadata": {},
   "outputs": [
    {
     "name": "stdout",
     "output_type": "stream",
     "text": [
      "\n",
      "A new DataFrame\n",
      "_________________________\n",
      "      age  hight  weight\n",
      "raju   22     66     140\n",
      "hame   70    148      52\n",
      "sada   65     89      56\n",
      "gum    96     63      56\n",
      "kiya   25     89      12\n"
     ]
    }
   ],
   "source": [
    "df=pd.DataFrame(data=matrix_data,index=row_labels,columns=column_headings)\n",
    "print(\"\\nA new DataFrame\\n\",'_'*25,sep='')\n",
    "print(df)"
   ]
  },
  {
   "cell_type": "code",
   "execution_count": null,
   "id": "a7088a13",
   "metadata": {},
   "outputs": [
    {
     "name": "stdout",
     "output_type": "stream",
     "text": [
      "\n",
      "the 'hight'column\n",
      "_________________________\n",
      "raju     66\n",
      "hame    148\n",
      "sada     89\n",
      "gum      63\n",
      "kiya     89\n",
      "Name: hight, dtype: int32\n"
     ]
    }
   ],
   "source": [
    "print(\"\\nthe 'hight'column\\n\",'_'*25,sep='')\n",
    "print(df['hight'])"
   ]
  },
  {
   "cell_type": "code",
   "execution_count": null,
   "id": "fc6f63b7",
   "metadata": {},
   "outputs": [
    {
     "data": {
      "text/plain": [
       "age        22\n",
       "hight      66\n",
       "weight    140\n",
       "Name: raju, dtype: int32"
      ]
     },
     "execution_count": 20,
     "metadata": {},
     "output_type": "execute_result"
    }
   ],
   "source": [
    "df.loc['raju']"
   ]
  },
  {
   "cell_type": "code",
   "execution_count": null,
   "id": "0e1acf1c",
   "metadata": {},
   "outputs": [
    {
     "data": {
      "text/plain": [
       "age        22\n",
       "hight      66\n",
       "weight    140\n",
       "Name: raju, dtype: int32"
      ]
     },
     "execution_count": 21,
     "metadata": {},
     "output_type": "execute_result"
    }
   ],
   "source": [
    "df.iloc[0]"
   ]
  },
  {
   "cell_type": "code",
   "execution_count": null,
   "id": "fc079645",
   "metadata": {},
   "outputs": [
    {
     "name": "stdout",
     "output_type": "stream",
     "text": [
      "      age  hight  weight\n",
      "raju   22     66     140\n",
      "hame   70    148      52\n",
      "sada   65     89      56\n",
      "gum    96     63      56\n",
      "kiya   25     89      12\n",
      "\n",
      "select index and column for perticular data\n",
      "\n",
      "148\n"
     ]
    }
   ],
   "source": [
    "print(df)\n",
    "print(\"\\nselect index and column for perticular data\\n\")\n",
    "print(df.loc['hame','hight'])"
   ]
  },
  {
   "cell_type": "code",
   "execution_count": null,
   "id": "923a1912",
   "metadata": {},
   "outputs": [
    {
     "name": "stdout",
     "output_type": "stream",
     "text": [
      "\n",
      "rows with hight>65 inch\n",
      "___________________________________\n",
      "      age  hight  weight\n",
      "raju   22     66     140\n",
      "hame   70    148      52\n",
      "sada   65     89      56\n",
      "kiya   25     89      12\n"
     ]
    }
   ],
   "source": [
    "print(\"\\nrows with hight>65 inch\\n\",'_'*35,sep='')\n",
    "print(df[df['hight']>65])"
   ]
  },
  {
   "cell_type": "code",
   "execution_count": null,
   "id": "cb901ec7",
   "metadata": {},
   "outputs": [],
   "source": [
    "booldf1=df['hight']>65\n",
    "booldf2=df['weight']>145"
   ]
  },
  {
   "cell_type": "code",
   "execution_count": null,
   "id": "9008d1f7",
   "metadata": {},
   "outputs": [
    {
     "name": "stdout",
     "output_type": "stream",
     "text": [
      "Empty DataFrame\n",
      "Columns: [age, hight, weight]\n",
      "Index: []\n"
     ]
    }
   ],
   "source": [
    "print(df[(booldf1) & (booldf2)])"
   ]
  },
  {
   "cell_type": "code",
   "execution_count": null,
   "id": "3a7b9dd6",
   "metadata": {},
   "outputs": [
    {
     "name": "stdout",
     "output_type": "stream",
     "text": [
      "\n",
      "rows with age < 35 year \n",
      "___________________________________\n",
      "      age  hight  weight\n",
      "raju   22     66     140\n",
      "kiya   25     89      12\n"
     ]
    }
   ],
   "source": [
    "print(\"\\nrows with age < 35 year \\n\",'_'*35,sep='')\n",
    "df=(df[df['age']<35])\n",
    "print (df)"
   ]
  },
  {
   "cell_type": "code",
   "execution_count": null,
   "id": "d86f20b9",
   "metadata": {},
   "outputs": [
    {
     "name": "stdout",
     "output_type": "stream",
     "text": [
      "\n",
      "after resetting index with  option \n",
      "_____________________________________________\n",
      "<bound method DataFrame.reset_index of       age  hight  weight\n",
      "raju   22     66     140\n",
      "kiya   25     89      12>\n"
     ]
    }
   ],
   "source": [
    "print(\"\\nafter resetting index with  option \\n\",'_'*45,sep='')\n",
    "print(df.reset_index)"
   ]
  },
  {
   "cell_type": "markdown",
   "id": "bba3a9ef",
   "metadata": {},
   "source": [
    "DATE TIME MANIPULATION"
   ]
  },
  {
   "cell_type": "code",
   "execution_count": null,
   "id": "ae3bc550",
   "metadata": {},
   "outputs": [],
   "source": [
    "import numpy as np\n",
    "import pandas as pd"
   ]
  },
  {
   "cell_type": "code",
   "execution_count": null,
   "id": "a96ec000",
   "metadata": {},
   "outputs": [
    {
     "data": {
      "text/html": [
       "<div>\n",
       "<style scoped>\n",
       "    .dataframe tbody tr th:only-of-type {\n",
       "        vertical-align: middle;\n",
       "    }\n",
       "\n",
       "    .dataframe tbody tr th {\n",
       "        vertical-align: top;\n",
       "    }\n",
       "\n",
       "    .dataframe thead th {\n",
       "        text-align: right;\n",
       "    }\n",
       "</style>\n",
       "<table border=\"1\" class=\"dataframe\">\n",
       "  <thead>\n",
       "    <tr style=\"text-align: right;\">\n",
       "      <th></th>\n",
       "      <th>date</th>\n",
       "    </tr>\n",
       "  </thead>\n",
       "  <tbody>\n",
       "    <tr>\n",
       "      <th>0</th>\n",
       "      <td>2021-04-12</td>\n",
       "    </tr>\n",
       "    <tr>\n",
       "      <th>1</th>\n",
       "      <td>2021-04-13</td>\n",
       "    </tr>\n",
       "    <tr>\n",
       "      <th>2</th>\n",
       "      <td>2021-04-14</td>\n",
       "    </tr>\n",
       "    <tr>\n",
       "      <th>3</th>\n",
       "      <td>2021-04-15</td>\n",
       "    </tr>\n",
       "    <tr>\n",
       "      <th>4</th>\n",
       "      <td>2021-04-16</td>\n",
       "    </tr>\n",
       "    <tr>\n",
       "      <th>5</th>\n",
       "      <td>2021-04-17</td>\n",
       "    </tr>\n",
       "  </tbody>\n",
       "</table>\n",
       "</div>"
      ],
      "text/plain": [
       "        date\n",
       "0 2021-04-12\n",
       "1 2021-04-13\n",
       "2 2021-04-14\n",
       "3 2021-04-15\n",
       "4 2021-04-16\n",
       "5 2021-04-17"
      ]
     },
     "execution_count": 14,
     "metadata": {},
     "output_type": "execute_result"
    }
   ],
   "source": [
    "date_range = pd.date_range('4/12/2021', periods=6)\n",
    "\n",
    "dates = pd.DataFrame(date_range,columns=['date'])\n",
    "dates"
   ]
  },
  {
   "cell_type": "code",
   "execution_count": null,
   "id": "f09dba74",
   "metadata": {},
   "outputs": [
    {
     "data": {
      "text/html": [
       "<div>\n",
       "<style scoped>\n",
       "    .dataframe tbody tr th:only-of-type {\n",
       "        vertical-align: middle;\n",
       "    }\n",
       "\n",
       "    .dataframe tbody tr th {\n",
       "        vertical-align: top;\n",
       "    }\n",
       "\n",
       "    .dataframe thead th {\n",
       "        text-align: right;\n",
       "    }\n",
       "</style>\n",
       "<table border=\"1\" class=\"dataframe\">\n",
       "  <thead>\n",
       "    <tr style=\"text-align: right;\">\n",
       "      <th></th>\n",
       "      <th>date</th>\n",
       "      <th>day</th>\n",
       "      <th>month</th>\n",
       "      <th>year</th>\n",
       "    </tr>\n",
       "  </thead>\n",
       "  <tbody>\n",
       "    <tr>\n",
       "      <th>0</th>\n",
       "      <td>2011-04-12</td>\n",
       "      <td>12</td>\n",
       "      <td>4</td>\n",
       "      <td>2011</td>\n",
       "    </tr>\n",
       "    <tr>\n",
       "      <th>1</th>\n",
       "      <td>2011-04-13</td>\n",
       "      <td>13</td>\n",
       "      <td>4</td>\n",
       "      <td>2011</td>\n",
       "    </tr>\n",
       "    <tr>\n",
       "      <th>2</th>\n",
       "      <td>2011-04-14</td>\n",
       "      <td>14</td>\n",
       "      <td>4</td>\n",
       "      <td>2011</td>\n",
       "    </tr>\n",
       "    <tr>\n",
       "      <th>3</th>\n",
       "      <td>2011-04-15</td>\n",
       "      <td>15</td>\n",
       "      <td>4</td>\n",
       "      <td>2011</td>\n",
       "    </tr>\n",
       "    <tr>\n",
       "      <th>4</th>\n",
       "      <td>2011-04-16</td>\n",
       "      <td>16</td>\n",
       "      <td>4</td>\n",
       "      <td>2011</td>\n",
       "    </tr>\n",
       "    <tr>\n",
       "      <th>5</th>\n",
       "      <td>2011-04-17</td>\n",
       "      <td>17</td>\n",
       "      <td>4</td>\n",
       "      <td>2011</td>\n",
       "    </tr>\n",
       "  </tbody>\n",
       "</table>\n",
       "</div>"
      ],
      "text/plain": [
       "        date  day  month  year\n",
       "0 2011-04-12   12      4  2011\n",
       "1 2011-04-13   13      4  2011\n",
       "2 2011-04-14   14      4  2011\n",
       "3 2011-04-15   15      4  2011\n",
       "4 2011-04-16   16      4  2011\n",
       "5 2011-04-17   17      4  2011"
      ]
     },
     "execution_count": 9,
     "metadata": {},
     "output_type": "execute_result"
    }
   ],
   "source": [
    "dates['day'] = dates['date'].dt.day\n",
    "dates['month'] = dates['date'].dt.month\n",
    "dates['year'] = dates['date'].dt.year\n",
    "dates"
   ]
  },
  {
   "cell_type": "code",
   "execution_count": null,
   "id": "b643f622",
   "metadata": {},
   "outputs": [
    {
     "name": "stdout",
     "output_type": "stream",
     "text": [
      "2000-01-01    0\n",
      "2000-01-02    1\n",
      "2000-01-03    2\n",
      "2000-01-04    3\n",
      "2000-01-05    4\n",
      "2000-01-06    5\n",
      "2000-01-07    6\n",
      "Freq: D, dtype: int32\n"
     ]
    }
   ],
   "source": [
    "dates=pd.date_range('1/1/2000',periods=7)\n",
    "ts=pd.Series(np.arange(7),index=dates)\n",
    "print(ts)"
   ]
  },
  {
   "cell_type": "code",
   "execution_count": null,
   "id": "1a1fdcf7",
   "metadata": {},
   "outputs": [
    {
     "name": "stdout",
     "output_type": "stream",
     "text": [
      "['index\\tNation\\tpurchased_item\\tsalary\\tage']\n",
      "['0\\tIndia\\tNo\\t66777\\t23']\n",
      "['1\\tRussia\\tYes\\t87878\\t24']\n",
      "['2\\tGermany\\tNo\\t34559\\tNaN']\n",
      "['3\\tIndia\\tYes\\t40000\\t26']\n",
      "['4\\tGermany\\tYes\\tNaN\\t21']\n",
      "['5\\tRussia\\tNo\\t45000\\tNaN']\n",
      "['6\\tGermany\\tYes\\t89993\\t62']\n",
      "['7\\tIndia\\tNo\\t55555\\t24']\n",
      "['8\\tRussia\\tYes\\tNaN\\t45']\n"
     ]
    }
   ],
   "source": [
    "import csv\n",
    "with open('age.salary.csv', newline='') as f:\n",
    "    reader = csv.reader(f)\n",
    "    for row in reader:\n",
    "        print(row)\n"
   ]
  },
  {
   "cell_type": "code",
   "execution_count": null,
   "id": "6b0952b6",
   "metadata": {},
   "outputs": [
    {
     "name": "stdout",
     "output_type": "stream",
     "text": [
      "['male', '101', '45']\n",
      "['female', '102', '67']\n",
      "['male', '103', '98']\n",
      "['female', '104', '52']\n",
      "['male', '105', '85']\n"
     ]
    }
   ],
   "source": [
    "import csv\n",
    "with open('empl.csv', newline='') as f:\n",
    "    reader = csv.reader(f)\n",
    "    for row in reader:\n",
    "        print(row)\n",
    "\n"
   ]
  }
 ],
 "metadata": {
  "kernelspec": {
   "display_name": "Python 3 (ipykernel)",
   "language": "python",
   "name": "python3"
  },
  "language_info": {
   "codemirror_mode": {
    "name": "ipython",
    "version": 3
   },
   "file_extension": ".py",
   "mimetype": "text/x-python",
   "name": "python",
   "nbconvert_exporter": "python",
   "pygments_lexer": "ipython3",
   "version": "3.9.13"
  }
 },
 "nbformat": 4,
 "nbformat_minor": 5
}
